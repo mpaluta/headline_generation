{
 "cells": [
  {
   "cell_type": "code",
   "execution_count": 1,
   "metadata": {},
   "outputs": [],
   "source": [
    "import os\n",
    "import math\n",
    "import pandas as pd\n",
    "from NYT_parser import NYTArticle"
   ]
  },
  {
   "cell_type": "code",
   "execution_count": 2,
   "metadata": {},
   "outputs": [
    {
     "data": {
      "text/plain": [
       "7.528217631618259"
      ]
     },
     "execution_count": 2,
     "metadata": {},
     "output_type": "execute_result"
    }
   ],
   "source": [
    "# get baseline word count from train data\n",
    "df_train = pd.read_csv(os.path.join(\"logs\",\"meta_train.log\"))\n",
    "hede_avg = math.ceil(df_train.hede_size.mean())\n",
    "df_train.hede_size.mean()"
   ]
  },
  {
   "cell_type": "code",
   "execution_count": 3,
   "metadata": {},
   "outputs": [
    {
     "data": {
      "text/html": [
       "<div>\n",
       "<style scoped>\n",
       "    .dataframe tbody tr th:only-of-type {\n",
       "        vertical-align: middle;\n",
       "    }\n",
       "\n",
       "    .dataframe tbody tr th {\n",
       "        vertical-align: top;\n",
       "    }\n",
       "\n",
       "    .dataframe thead th {\n",
       "        text-align: right;\n",
       "    }\n",
       "</style>\n",
       "<table border=\"1\" class=\"dataframe\">\n",
       "  <thead>\n",
       "    <tr style=\"text-align: right;\">\n",
       "      <th></th>\n",
       "      <th>filepath</th>\n",
       "      <th>hede_size</th>\n",
       "      <th>wordcount</th>\n",
       "      <th>section</th>\n",
       "      <th>sent_hede</th>\n",
       "      <th>sent_lede</th>\n",
       "      <th>sent_body</th>\n",
       "    </tr>\n",
       "  </thead>\n",
       "  <tbody>\n",
       "    <tr>\n",
       "      <th>0</th>\n",
       "      <td>2003/08/22/1513837.xml</td>\n",
       "      <td>11</td>\n",
       "      <td>832</td>\n",
       "      <td>['bombs and explosives', 'international relati...</td>\n",
       "      <td>-1.066886</td>\n",
       "      <td>0.401246</td>\n",
       "      <td>0.136112</td>\n",
       "    </tr>\n",
       "    <tr>\n",
       "      <th>1</th>\n",
       "      <td>2004/06/19/1590476.xml</td>\n",
       "      <td>8</td>\n",
       "      <td>636</td>\n",
       "      <td>['education and schools', 'grading of students...</td>\n",
       "      <td>-0.553291</td>\n",
       "      <td>1.198004</td>\n",
       "      <td>1.375394</td>\n",
       "    </tr>\n",
       "    <tr>\n",
       "      <th>2</th>\n",
       "      <td>2002/10/08/1430194.xml</td>\n",
       "      <td>6</td>\n",
       "      <td>102</td>\n",
       "      <td>['news and news media', 'public opinion', 'tel...</td>\n",
       "      <td>2.452781</td>\n",
       "      <td>0.980704</td>\n",
       "      <td>0.255741</td>\n",
       "    </tr>\n",
       "    <tr>\n",
       "      <th>3</th>\n",
       "      <td>1995/08/11/0781753.xml</td>\n",
       "      <td>6</td>\n",
       "      <td>514</td>\n",
       "      <td>['blood', 'transfusions']</td>\n",
       "      <td>-0.997738</td>\n",
       "      <td>-0.442929</td>\n",
       "      <td>0.241921</td>\n",
       "    </tr>\n",
       "    <tr>\n",
       "      <th>4</th>\n",
       "      <td>1991/06/30/0456560.xml</td>\n",
       "      <td>4</td>\n",
       "      <td>337</td>\n",
       "      <td>['music']</td>\n",
       "      <td>4.567766</td>\n",
       "      <td>0.980704</td>\n",
       "      <td>1.183736</td>\n",
       "    </tr>\n",
       "  </tbody>\n",
       "</table>\n",
       "</div>"
      ],
      "text/plain": [
       "                 filepath  hede_size  wordcount  \\\n",
       "0  2003/08/22/1513837.xml         11        832   \n",
       "1  2004/06/19/1590476.xml          8        636   \n",
       "2  2002/10/08/1430194.xml          6        102   \n",
       "3  1995/08/11/0781753.xml          6        514   \n",
       "4  1991/06/30/0456560.xml          4        337   \n",
       "\n",
       "                                             section  sent_hede  sent_lede  \\\n",
       "0  ['bombs and explosives', 'international relati...  -1.066886   0.401246   \n",
       "1  ['education and schools', 'grading of students...  -0.553291   1.198004   \n",
       "2  ['news and news media', 'public opinion', 'tel...   2.452781   0.980704   \n",
       "3                          ['blood', 'transfusions']  -0.997738  -0.442929   \n",
       "4                                          ['music']   4.567766   0.980704   \n",
       "\n",
       "   sent_body  \n",
       "0   0.136112  \n",
       "1   1.375394  \n",
       "2   0.255741  \n",
       "3   0.241921  \n",
       "4   1.183736  "
      ]
     },
     "execution_count": 3,
     "metadata": {},
     "output_type": "execute_result"
    }
   ],
   "source": [
    "df = pd.read_csv(os.path.join(\"logs\",\"meta_test.log\"))\n",
    "df.head()"
   ]
  },
  {
   "cell_type": "code",
   "execution_count": null,
   "metadata": {},
   "outputs": [],
   "source": [
    "GRAF_LIMIT = 3\n",
    "\n",
    "with open(os.path.join(\"postprocess\", \"headlines.txt\"), \"w+\") as headlines, \\\n",
    "    open(os.path.join(\"postprocess\", \"bodies.txt\"), \"w+\") as bodies, \\\n",
    "    open(os.path.join(\"postprocess\", \"baseline.txt\"), \"w+\") as baseline:\n",
    "    \n",
    "    for index, row in df.iterrows():\n",
    "        article = NYTArticle.from_file(os.path.join(\"data\",\"nyt\",row.filepath))\n",
    "        \n",
    "        headlines.write(article.print_hede[0]+\"\\n\")\n",
    "        bodies.write(\" \".join(article.paragraphs[:GRAF_LIMIT])+\"\\n\")\n",
    "        try:\n",
    "            baseline.write(\" \".join(\" \".join(article.paragraphs).split()[:hede_avg])+\"\\n\")\n",
    "        except:\n",
    "            baseline.write(\" \".join(article.paragraphs))\n",
    "#         print(article.print_hede[0])\n",
    "#         print(\" \".join(article.paragraphs[:GRAF_LIMIT]))\n",
    "#         print(\" \".join(\" \".join(article.paragraphs).split()[:hede_avg]))"
   ]
  },
  {
   "cell_type": "code",
   "execution_count": null,
   "metadata": {},
   "outputs": [],
   "source": []
  }
 ],
 "metadata": {
  "kernelspec": {
   "display_name": "Python 3",
   "language": "python",
   "name": "python3"
  },
  "language_info": {
   "codemirror_mode": {
    "name": "ipython",
    "version": 3
   },
   "file_extension": ".py",
   "mimetype": "text/x-python",
   "name": "python",
   "nbconvert_exporter": "python",
   "pygments_lexer": "ipython3",
   "version": "3.7.0"
  }
 },
 "nbformat": 4,
 "nbformat_minor": 2
}
