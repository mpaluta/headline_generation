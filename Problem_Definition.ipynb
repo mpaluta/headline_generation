{
 "cells": [
  {
   "cell_type": "markdown",
   "metadata": {},
   "source": [
    "### Train and evaluate on dev data"
   ]
  },
  {
   "cell_type": "code",
   "execution_count": null,
   "metadata": {},
   "outputs": [
    {
     "name": "stdout",
     "output_type": "stream",
     "text": [
      "WARNING: Logging before flag parsing goes to stderr.\n",
      "W0721 15:10:03.861987 140061017302848 deprecation_wrapper.py:119] From /home/mark/anaconda3/lib/python3.7/site-packages/tensor2tensor/utils/expert_utils.py:68: The name tf.variable_scope is deprecated. Please use tf.compat.v1.variable_scope instead.\n",
      "\n",
      "W0721 15:10:04.431962 140061017302848 lazy_loader.py:50] \n",
      "The TensorFlow contrib module will not be included in TensorFlow 2.0.\n",
      "For more information, please see:\n",
      "  * https://github.com/tensorflow/community/blob/master/rfcs/20180907-contrib-sunset.md\n",
      "  * https://github.com/tensorflow/addons\n",
      "  * https://github.com/tensorflow/io (for I/O related ops)\n",
      "If you depend on functionality not listed there, please file an issue.\n",
      "\n",
      "W0721 15:10:05.979551 140061017302848 deprecation_wrapper.py:119] From /home/mark/anaconda3/lib/python3.7/site-packages/tensor2tensor/utils/adafactor.py:27: The name tf.train.Optimizer is deprecated. Please use tf.compat.v1.train.Optimizer instead.\n",
      "\n",
      "W0721 15:10:05.979843 140061017302848 deprecation_wrapper.py:119] From /home/mark/anaconda3/lib/python3.7/site-packages/tensor2tensor/utils/multistep_optimizer.py:32: The name tf.train.AdamOptimizer is deprecated. Please use tf.compat.v1.train.AdamOptimizer instead.\n",
      "\n",
      "W0721 15:10:05.987333 140061017302848 deprecation_wrapper.py:119] From /home/mark/anaconda3/lib/python3.7/site-packages/mesh_tensorflow/ops.py:4237: The name tf.train.CheckpointSaverListener is deprecated. Please use tf.estimator.CheckpointSaverListener instead.\n",
      "\n",
      "W0721 15:10:05.987462 140061017302848 deprecation_wrapper.py:119] From /home/mark/anaconda3/lib/python3.7/site-packages/mesh_tensorflow/ops.py:4260: The name tf.train.SessionRunHook is deprecated. Please use tf.estimator.SessionRunHook instead.\n",
      "\n",
      "W0721 15:10:06.011975 140061017302848 deprecation_wrapper.py:119] From /home/mark/anaconda3/lib/python3.7/site-packages/tensor2tensor/rl/gym_utils.py:219: The name tf.logging.info is deprecated. Please use tf.compat.v1.logging.info instead.\n",
      "\n",
      "W0721 15:10:06.034054 140061017302848 deprecation_wrapper.py:119] From /home/mark/anaconda3/lib/python3.7/site-packages/tensor2tensor/utils/trainer_lib.py:109: The name tf.OptimizerOptions is deprecated. Please use tf.compat.v1.OptimizerOptions instead.\n",
      "\n",
      "W0721 15:10:06.321940 140061017302848 deprecation_wrapper.py:119] From /home/mark/anaconda3/bin/t2t-trainer:32: The name tf.logging.set_verbosity is deprecated. Please use tf.compat.v1.logging.set_verbosity instead.\n",
      "\n",
      "W0721 15:10:06.322065 140061017302848 deprecation_wrapper.py:119] From /home/mark/anaconda3/bin/t2t-trainer:32: The name tf.logging.INFO is deprecated. Please use tf.compat.v1.logging.INFO instead.\n",
      "\n",
      "W0721 15:10:06.322176 140061017302848 deprecation_wrapper.py:119] From /home/mark/anaconda3/bin/t2t-trainer:33: The name tf.app.run is deprecated. Please use tf.compat.v1.app.run instead.\n",
      "\n",
      "I0721 15:10:06.322546 140061017302848 usr_dir.py:43] Importing user module headline_generation from path /home/mark/Desktop\n",
      "I0721 15:10:06.520521 140061017302848 t2t_trainer.py:146] Found unparsed command-line arguments. Checking if any start with --hp_ and interpreting those as hparams settings.\n",
      "W0721 15:10:06.520749 140061017302848 deprecation_wrapper.py:119] From /home/mark/anaconda3/lib/python3.7/site-packages/tensor2tensor/bin/t2t_trainer.py:156: The name tf.logging.warn is deprecated. Please use tf.compat.v1.logging.warn instead.\n",
      "\n",
      "W0721 15:10:06.520795 140061017302848 t2t_trainer.py:156] Found unknown flag: --hparams.attention_dropout=0.3\n",
      "W0721 15:10:06.520840 140061017302848 t2t_trainer.py:156] Found unknown flag: --hparams.num_heads=8\n",
      "W0721 15:10:06.520882 140061017302848 t2t_trainer.py:156] Found unknown flag: --hparams.filter_size=512\n",
      "W0721 15:10:06.520922 140061017302848 t2t_trainer.py:156] Found unknown flag: --hparams.optimizer=“adam_w”\n",
      "W0721 15:10:06.520962 140061017302848 t2t_trainer.py:156] Found unknown flag: --hparams.optimizer_adam_beta1=0.9\n",
      "W0721 15:10:06.521001 140061017302848 t2t_trainer.py:156] Found unknown flag: --hparams.optimizer_adam_beta2=0.98\n",
      "W0721 15:10:06.521039 140061017302848 t2t_trainer.py:156] Found unknown flag: --hparams.num_encoder_layers=4\n",
      "W0721 15:10:06.521076 140061017302848 t2t_trainer.py:156] Found unknown flag: --hparams.num_decoder_layers=4\n",
      "W0721 15:10:06.521113 140061017302848 t2t_trainer.py:156] Found unknown flag: --hparams.learning_rate_warmup_steps\n",
      "W0721 15:10:06.521150 140061017302848 t2t_trainer.py:156] Found unknown flag: =\n",
      "W0721 15:10:06.521187 140061017302848 t2t_trainer.py:156] Found unknown flag: 4000\n",
      "W0721 15:10:06.521475 140061017302848 deprecation_wrapper.py:119] From /home/mark/anaconda3/lib/python3.7/site-packages/tensor2tensor/utils/hparams_lib.py:49: The name tf.gfile.Exists is deprecated. Please use tf.io.gfile.exists instead.\n",
      "\n",
      "W0721 15:10:06.521633 140061017302848 deprecation_wrapper.py:119] From /home/mark/anaconda3/lib/python3.7/site-packages/tensor2tensor/utils/trainer_lib.py:780: The name tf.set_random_seed is deprecated. Please use tf.compat.v1.set_random_seed instead.\n",
      "\n",
      "W0721 15:10:06.522184 140061017302848 deprecation_wrapper.py:119] From /home/mark/anaconda3/lib/python3.7/site-packages/tensor2tensor/bin/t2t_trainer.py:282: The name tf.gfile.MakeDirs is deprecated. Please use tf.io.gfile.makedirs instead.\n",
      "\n",
      "I0721 15:10:06.522260 140061017302848 t2t_trainer.py:286] Generating data for gavrilov\n",
      "I0721 15:10:06.522525 140061017302848 generator_utils.py:349] Generating vocab file: ./t2t_data/vocab.gavrilov.32768.subwords\n"
     ]
    }
   ],
   "source": [
    "! t2t-trainer \\\n",
    "--t2t_usr_dir=\".\" \\\n",
    "--generate_data \\\n",
    "--problem=\"gavrilov\" \\\n",
    "--model=\"universal_transformer\" \\\n",
    "--hparams_set=\"universal_transformer_base\" \\\n",
    "--hparams.attention_dropout=0.3 \\\n",
    "--hparams.num_heads=8 \\\n",
    "--hparams.filter_size=512 \\\n",
    "--hparams.optimizer=“adam_w” \\\n",
    "--hparams.optimizer_adam_beta1=0.9 \\\n",
    "--hparams.optimizer_adam_beta2=0.98 \\\n",
    "--hparams.num_encoder_layers=4 \\\n",
    "--hparams.num_decoder_layers=4 \\\n",
    "--hparams.learning_rate_warmup_steps = 4000 \\\n",
    "--data_dir=\"./t2t_data/\" \\\n",
    "--output_dir=\"./t2t_data/model\" \\\n",
    "--train_steps=10 \\\n",
    "--eval_steps=10"
   ]
  },
  {
   "cell_type": "markdown",
   "metadata": {},
   "source": [
    "### Generate a headline on command"
   ]
  },
  {
   "cell_type": "code",
   "execution_count": null,
   "metadata": {},
   "outputs": [],
   "source": [
    "! t2t-decoder \\\n",
    "  --data_dir=\"./data/nyt\" \\\n",
    "  --problem=\"gavrilov\" \\\n",
    "  --model=\"transformer\" \\\n",
    "  --hparams_set=\"transformer_prepend\" \\\n",
    "  --output_dir=\"./data/nyt/sum\" \\\n",
    "  --decode_hparams=\"beam_size=10,alpha=$ALPHA\" \\\n",
    "  --decode_from_file=$DECODE_FILE \\\n",
    "  --decode_to_file=translation.en"
   ]
  },
  {
   "cell_type": "code",
   "execution_count": 2,
   "metadata": {},
   "outputs": [
    {
     "name": "stdout",
     "output_type": "stream",
     "text": [
      "WARNING: Logging before flag parsing goes to stderr.\r\n",
      "W0721 11:57:40.238395 140237830477632 deprecation_wrapper.py:119] From /home/mark/anaconda3/bin/t2t-bleu:17: The name tf.logging.set_verbosity is deprecated. Please use tf.compat.v1.logging.set_verbosity instead.\r\n",
      "\r\n",
      "W0721 11:57:40.238557 140237830477632 deprecation_wrapper.py:119] From /home/mark/anaconda3/bin/t2t-bleu:17: The name tf.logging.INFO is deprecated. Please use tf.compat.v1.logging.INFO instead.\r\n",
      "\r\n",
      "W0721 11:57:40.238659 140237830477632 deprecation_wrapper.py:119] From /home/mark/anaconda3/bin/t2t-bleu:18: The name tf.app.run is deprecated. Please use tf.compat.v1.app.run instead.\r\n",
      "\r\n",
      "Traceback (most recent call last):\r\n",
      "  File \"/home/mark/anaconda3/bin/t2t-bleu\", line 18, in <module>\r\n",
      "    tf.app.run()\r\n",
      "  File \"/home/mark/anaconda3/lib/python3.7/site-packages/tensorflow/python/platform/app.py\", line 40, in run\r\n",
      "    _run(main=main, argv=argv, flags_parser=_parse_flags_tolerate_undef)\r\n",
      "  File \"/home/mark/anaconda3/lib/python3.7/site-packages/absl/app.py\", line 300, in run\r\n",
      "    _run_main(main, args)\r\n",
      "  File \"/home/mark/anaconda3/lib/python3.7/site-packages/absl/app.py\", line 251, in _run_main\r\n",
      "    sys.exit(main(argv))\r\n",
      "  File \"/home/mark/anaconda3/bin/t2t-bleu\", line 12, in main\r\n",
      "    t2t_bleu.main(argv)\r\n",
      "  File \"/home/mark/anaconda3/lib/python3.7/site-packages/tensor2tensor/bin/t2t_bleu.py\", line 109, in main\r\n",
      "    \"Either --translation or --translations_dir must be specified.\")\r\n",
      "ValueError: Either --translation or --translations_dir must be specified.\r\n"
     ]
    }
   ],
   "source": [
    "! t2t-bleu"
   ]
  }
 ],
 "metadata": {
  "kernelspec": {
   "display_name": "Python 3",
   "language": "python",
   "name": "python3"
  },
  "language_info": {
   "codemirror_mode": {
    "name": "ipython",
    "version": 3
   },
   "file_extension": ".py",
   "mimetype": "text/x-python",
   "name": "python",
   "nbconvert_exporter": "python",
   "pygments_lexer": "ipython3",
   "version": "3.7.3"
  }
 },
 "nbformat": 4,
 "nbformat_minor": 2
}
