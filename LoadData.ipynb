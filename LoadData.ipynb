{
 "cells": [
  {
   "cell_type": "markdown",
   "metadata": {},
   "source": [
    "# W266 - Headline Project"
   ]
  },
  {
   "cell_type": "markdown",
   "metadata": {},
   "source": [
    "### Load in the data"
   ]
  },
  {
   "cell_type": "code",
   "execution_count": 3,
   "metadata": {},
   "outputs": [],
   "source": [
    "from NYT_parser import NYTArticle\n",
    "\n",
    "root_path = './data/'\n",
    "subset = '2007/05/01/'\n",
    "onedoc = '1844170.xml'\n",
    "\n",
    "testdoc_path = root_path + subset + onedoc\n",
    "\n",
    "with open(testdoc_path,encoding = 'utf-8') as f:\n",
    "    article = NYTArticle.from_file(f)\n",
    "\n"
   ]
  },
  {
   "cell_type": "code",
   "execution_count": 4,
   "metadata": {},
   "outputs": [
    {
     "data": {
      "text/plain": [
       "'Post-Minimalist Inspirations, From Bells to Subway Noise'"
      ]
     },
     "execution_count": 4,
     "metadata": {},
     "output_type": "execute_result"
    }
   ],
   "source": [
    "# how does this differ from the headline??\n",
    "article.title"
   ]
  },
  {
   "cell_type": "code",
   "execution_count": 5,
   "metadata": {},
   "outputs": [
    {
     "data": {
      "text/plain": [
       "'1844170'"
      ]
     },
     "execution_count": 5,
     "metadata": {},
     "output_type": "execute_result"
    }
   ],
   "source": [
    "# document ID (filename)\n",
    "article.docid"
   ]
  },
  {
   "cell_type": "code",
   "execution_count": 6,
   "metadata": {},
   "outputs": [
    {
     "data": {
      "text/plain": [
       "datetime.datetime(2007, 5, 1, 0, 0)"
      ]
     },
     "execution_count": 6,
     "metadata": {},
     "output_type": "execute_result"
    }
   ],
   "source": [
    "# date in a datetime format\n",
    "article.date"
   ]
  },
  {
   "cell_type": "code",
   "execution_count": 7,
   "metadata": {},
   "outputs": [
    {
     "data": {
      "text/plain": [
       "[]"
      ]
     },
     "execution_count": 7,
     "metadata": {},
     "output_type": "execute_result"
    }
   ],
   "source": [
    "# summary -- few docs seem to have?\n",
    "article.summary"
   ]
  },
  {
   "cell_type": "code",
   "execution_count": 8,
   "metadata": {},
   "outputs": [
    {
     "data": {
      "text/plain": [
       "[]"
      ]
     },
     "execution_count": 8,
     "metadata": {},
     "output_type": "execute_result"
    }
   ],
   "source": [
    "# dateline -- location (city, state) and pub date\n",
    "article.dateline"
   ]
  },
  {
   "cell_type": "code",
   "execution_count": 9,
   "metadata": {},
   "outputs": [
    {
     "data": {
      "text/plain": [
       "['Post-Minimalist Inspirations, From Bells to Subway Noise']"
      ]
     },
     "execution_count": 9,
     "metadata": {},
     "output_type": "execute_result"
    }
   ],
   "source": [
    "# headline that ran in the print edition\n",
    "article.print_hede"
   ]
  },
  {
   "cell_type": "code",
   "execution_count": 10,
   "metadata": {},
   "outputs": [
    {
     "data": {
      "text/plain": [
       "['Post-Minimalist Inspirations, From Bells to Subway Noise']"
      ]
     },
     "execution_count": 10,
     "metadata": {},
     "output_type": "execute_result"
    }
   ],
   "source": [
    "# headline that ran on the website version\n",
    "article.online_hede"
   ]
  },
  {
   "cell_type": "code",
   "execution_count": 11,
   "metadata": {},
   "outputs": [
    {
     "data": {
      "text/plain": [
       "['The basic elements of Minimalism -- tonality, rhythmic regularity, repetition of brief melodic cells -- are reasonably easy to summarize. Post-Minimalism is harder to pin down: Composers lumped under this untidy rubric vary widely in style. Just how widely was demonstrated in a program presented on Saturday night by the adventurous new-music ensemble Opus 21, based in Kalamazoo, Mich., at the Leonard Nimoy Thalia Theater at Symphony Space.',\n",
       " \"The tone of the concert was engaging and informal, with most of the composers on hand to introduce their pieces. The clarinetist Bradley Wong referred to Steve Reich's ''New York Counterpoint'' (1985) as this group's version of early music. Mr. Wong provided an alert account of a piece filled with the rippling rhythms and bubbly melodies that denote Minimalism to most listeners.\"]"
      ]
     },
     "execution_count": 11,
     "metadata": {},
     "output_type": "execute_result"
    }
   ],
   "source": [
    "# opening paragraph\n",
    "article.lede"
   ]
  },
  {
   "cell_type": "code",
   "execution_count": 12,
   "metadata": {},
   "outputs": [
    {
     "data": {
      "text/plain": [
       "['classical music']"
      ]
     },
     "execution_count": 12,
     "metadata": {},
     "output_type": "execute_result"
    }
   ],
   "source": [
    "# topic tags\n",
    "article.descriptors"
   ]
  },
  {
   "cell_type": "code",
   "execution_count": 13,
   "metadata": {},
   "outputs": [
    {
     "data": {
      "text/plain": [
       "['classical music', 'music']"
      ]
     },
     "execution_count": 13,
     "metadata": {},
     "output_type": "execute_result"
    }
   ],
   "source": [
    "# more extensive tags?\n",
    "article.general_descriptors"
   ]
  },
  {
   "cell_type": "code",
   "execution_count": 14,
   "metadata": {},
   "outputs": [
    {
     "data": {
      "text/plain": [
       "['review']"
      ]
     },
     "execution_count": 14,
     "metadata": {},
     "output_type": "execute_result"
    }
   ],
   "source": [
    "# more extensive tags?\n",
    "article.types_of_material"
   ]
  },
  {
   "cell_type": "code",
   "execution_count": 15,
   "metadata": {},
   "outputs": [
    {
     "data": {
      "text/plain": [
       "'418'"
      ]
     },
     "execution_count": 15,
     "metadata": {},
     "output_type": "execute_result"
    }
   ],
   "source": [
    "article.wordcount"
   ]
  },
  {
   "cell_type": "code",
   "execution_count": 16,
   "metadata": {},
   "outputs": [
    {
     "data": {
      "text/plain": [
       "'E'"
      ]
     },
     "execution_count": 16,
     "metadata": {},
     "output_type": "execute_result"
    }
   ],
   "source": [
    "# section of the print newspaper\n",
    "article.section"
   ]
  },
  {
   "cell_type": "code",
   "execution_count": 17,
   "metadata": {},
   "outputs": [
    {
     "data": {
      "text/plain": [
       "['The basic elements of Minimalism -- tonality, rhythmic regularity, repetition of brief melodic cells -- are reasonably easy to summarize. Post-Minimalism is harder to pin down: Composers lumped under this untidy rubric vary widely in style. Just how widely was demonstrated in a program presented on Saturday night by the adventurous new-music ensemble Opus 21, based in Kalamazoo, Mich., at the Leonard Nimoy Thalia Theater at Symphony Space.',\n",
       " \"The tone of the concert was engaging and informal, with most of the composers on hand to introduce their pieces. The clarinetist Bradley Wong referred to Steve Reich's ''New York Counterpoint'' (1985) as this group's version of early music. Mr. Wong provided an alert account of a piece filled with the rippling rhythms and bubbly melodies that denote Minimalism to most listeners.\",\n",
       " \"At the opposite extreme was the Dutch composer Louis Andriessen's ''Klokken voor Haarlem'' (''Bells for Haarlem''), from 2002, in its New York premiere. This piece opened with a mildly dissonant three-note theme on piano, celesta, percussion and synthesizer. Its tiny, incremental shifts were occasionally interrupted by busy outbursts that suggested the tolling of the hour.\",\n",
       " \"Even more jarring was David Lang's ''Stick Figure'' (2001), in which Mr. Wong and the cellist Alexa Muhly offered gentle melodic swells and pulsations persistently shattered by harsh explosions from three drummers. The pianist Yu-Lien The provided enigmatic counterpoint.\",\n",
       " \"Several of the young composers commissioned to write works for this program described their initial encounters with Mr. Reich's music as epiphanies. Bill Ryan explored additive process in ''Rapid Assembly,'' opening with a perky melodic kernel that grew more elaborate and jazzy with each pass.\",\n",
       " \"A crystalline shimmer of notes that flickered among the players gradually broadened into longer phrases in Marc Dancigers's ''Thaw.'' The piece was rich in beguiling timbres; one especially memorable passage paired Ms. Muhly's spiccato bounces with twinkling crotales. Anna Clyne's bustling, inventive ''Next.Stop'' was filled with melodies and rhythms derived from recorded subway announcements and other urban noises, punctuated by distorted growls and buzzes. Voices were electronically stretched in a slow central section, the sound curiously reminiscent of a muezzin's call to prayer.\",\n",
       " \"Richard Adams, the founder and artistic director of Opus 21, simulated the effects of gravity in his tuneful ''Free Fall'' with a loose scattering of high notes accelerated and increased in density.\",\n",
       " \"The program closed with the racing rhythms and sudden gearshifts of Dennis DeSantis's ''One Trick Pony.'' Its title, he said, was inspired by his proclivity for writing seven-minute pulse-oriented works, like this one.\",\n",
       " 'MUSIC REVIEW',\n",
       " \"Correction:  May 4, 2007, Friday  A music review on Tuesday of the group Opus 21, at Symphony Space, misspelled the given name of the composer of ''Thaw,'' a work the group played. He is Mark Dancigers, not Marc.\"]"
      ]
     },
     "execution_count": 17,
     "metadata": {},
     "output_type": "execute_result"
    }
   ],
   "source": [
    "# body text but also includes subhead, book title data, endbyline, section title -- all kinds of stuff\n",
    "article.paragraphs"
   ]
  },
  {
   "cell_type": "code",
   "execution_count": 26,
   "metadata": {},
   "outputs": [
    {
     "name": "stdout",
     "output_type": "stream",
     "text": [
      "['Paid Notice: Deaths   SIRIS, NOA, M.D.']\n",
      "['Getting the Clearest Look At a Hurting Hip']\n",
      "['Separation Of Church and a Book By L. Ron Hubbard']\n",
      "[\"Castro's Attendance Uncertain as Cuba Prepares for May Day\"]\n",
      "['Paid Notice: Memorials   DIENSTAG, KEITH']\n",
      "['Secularism and Democracy in Turkey']\n",
      "['The Wheezing That Could Signal Childhood Asthma']\n",
      "['Davis Is Face of a Warriors Team Made of Castoffs and Renegades']\n",
      "[\"An Acting Governor's Balancing Act: Taking the Lead Without Stepping on Toes\"]\n",
      "['Paid Notice: Deaths   GARY, RAYMOND BEDROS']\n",
      "[\"WHAT'S ON TONIGHT\"]\n",
      "[\"Feeling a Patient's Pain\"]\n",
      "[\"Don't Trust Your Ears: This Play Is Not a Musical\"]\n",
      "['As Pace of Deportation Rises, Illegal Families Are Digging In']\n",
      "['World Briefing | Africa: Sudan: U.N. Peacekeeping Mission Extended']\n",
      "[\"Don't 'Robocall' Me\"]\n",
      "['Virginia Ends A Loophole In Gun Laws']\n",
      "['Paid Notice: Deaths   MCGOWAN, WILLIAM J., S.J.']\n",
      "['Mets Falter And Face Test as Two Go on D.L.']\n",
      "['Iraq Puzzle: Getting In, Getting Out']\n",
      "[\"Critic's Choice: New DVD's\"]\n",
      "['A Resignation at M.I.T.']\n",
      "['The Names Are Vintage, the Touches Modern']\n",
      "['Satire With the Blessing of Lady Luck Herself']\n",
      "['News Summary']\n",
      "['Business Class to London: Cheaper Than You Might Think']\n",
      "['Steroids Dealer Testified To the Bonds Grand Jury']\n",
      "['Gold Stars And Dunce Caps']\n",
      "['Chinese E-Commerce Concern Said to Plan Public Offering']\n",
      "[\"Costs and Divestitures Cut Verizon's Profit\"]\n",
      "['Views of Parents, Students and Teachers Sought']\n",
      "['To: The Temporarily Able-Bodied']\n",
      "['Unspent 9/11 Funds Returning to New Jersey Coffer']\n",
      "['How Does Your Waistline Matter? Let Us Count the Ways']\n",
      "['The Mystery of Vanishing Bees']\n",
      "['To Nurture The Next Einstein']\n",
      "['New Orleans Homecoming (for the Lucky Ones)']\n",
      "['Work Stays On Hold After Deaths In Subway']\n",
      "['Wider Screenings for H.I.V. Are Recommended']\n",
      "[\"Coal's Energy Potential Is an Engineering Challenge Now\"]\n",
      "['Spokesman Returns to the White House']\n",
      "['World Briefing | United Nations: Revised Genocide Exhibit Opens']\n",
      "['Raise for State Judges Gets Caught in Crossfire Between Spitzer and Bruno']\n",
      "['Heated Cross-Examination At the Conrad Black Trial']\n",
      "['34 Duke Business Students Face Discipline for Cheating']\n",
      "['Questions Over Routine Screening for a Leading Cause of Blindness']\n",
      "['Senators Question Halliburton Executive About Dealings in Iran']\n",
      "['Paid Notice: Deaths   WORMSER, ALVIN RAYMOND']\n",
      "['Bloodlines Worth Their Weight In Gold']\n",
      "['Paid Notice: Deaths   DOHERTY, DENNIS']\n",
      "['Paid Notice: Deaths   WEINSIER, PHILIP']\n",
      "['Paid Notice: Deaths   RAWLEY, RUTH KOLB OTIS']\n",
      "[\"Metro Briefing | New York: Staten Island: Borough Has City's Worst Smog\"]\n",
      "['Arts, Briefly; A C.I.A. Exclusive Is No Seismic TV Event']\n",
      "['A West Coast Orchestra, Distinctly Unmellow']\n",
      "['Heart Scans: Finding More Than You May Need to Know']\n",
      "['The Fountain of Youth Is as Near as the Next Party']\n",
      "['Court Strikes Law Barring Sale of Drug Data']\n",
      "['U.S. Says Some Chicken Feed Tainted']\n",
      "['Study Finds That Cutting Salt Also Cuts Cardiovascular Risk']\n",
      "['Looking For a Home In the Limbo Of Alaska']\n",
      "['Latest Developments In a Crosstown Rivalry Are Under Construction']\n",
      "['Sunni Ministers Threaten to Quit Cabinet in Iraq']\n",
      "['Wolfowitz Goes on the Attack, While Hinting at a Deal']\n",
      "[\"Dawn Upshaw's Beautiful World of Song\"]\n",
      "[\"Itineraries; Trail Mix Isn't Just for Hikers\"]\n",
      "['Paid Notice: Deaths   SCHIFRIN, HYMAN']\n",
      "['Parish Puts Vandalized Statue Back on Its Feet, Again']\n",
      "['Taking Positions On Ending the War']\n",
      "['Paid Notice: Deaths   WEISS, PAULA']\n",
      "['Medicare Advantage']\n",
      "['OLMERT REBUKED BY ISRAELI PANEL ON LEBANON WAR']\n",
      "['Uptown, A Company No Longer Plays Nice']\n",
      "['New York Art College Canceled Deal With Lender After Learning of High Interest Rates']\n",
      "[\"It's Personal Up in the Stratosphere\"]\n",
      "['Paid Notice: Deaths   ARROWSMITH, SANDRA']\n",
      "['Metro Briefing | New Jersey: Secaucus: Turnpike Carjacking Reported']\n",
      "['Paid Notice: Memorials   REICH, JAY']\n",
      "['Paid Notice: Deaths  ROSTROPOVICH, MSTISLAV']\n",
      "['INSIDE']\n",
      "['Torn by University Shootings, Virginia Town Turns Inward to Mend']\n",
      "['Paid Notice: Deaths   CALDER, ELIZABETH ANN (LIBBY)']\n",
      "['Paid Notice: Memorials   FEDERMAN, KITTY']\n",
      "['Newspaper Circulation In Steep Slide Across Nation']\n",
      "['Corrections']\n",
      "['Some Ask if U.S. Attorney Dismissals Point to Pattern of Investigating Democrats']\n",
      "['Senate Takes Up Bill to Change Drug Agency Operations']\n",
      "['Arts, Briefly; Comic Book Contest']\n",
      "['Arts, Briefly']\n",
      "['Post-Minimalist Inspirations, From Bells to Subway Noise']\n",
      "['Arctic Sea Ice Melting Faster, A Study Finds']\n",
      "['Paid Notice: Deaths   TURK, SHELDON S.']\n",
      "['TRANSACTIONS']\n",
      "['Paid Notice: Deaths   BLAY, FREDA ROBINSON']\n",
      "['High Court Puts Limits On Patents']\n",
      "['Paid Notice: Deaths   ZUPNICK, BEATRICE']\n",
      "['For Motherly X Chromosome, Gender Is Only the Beginning']\n",
      "['Paid Notice: Deaths   GEWIRTZ, GERALDINE']\n",
      "['A Pianist With an Ear For Structure']\n",
      "['Names of the Dead']\n",
      "['TODAY IN BUSINESS']\n",
      "['Terrorist Attacks in Iraq and Afghanistan Rose Sharply Last Year, State Department Says']\n",
      "['5 Britons Guilty in Bomb Plot; Tied to 2005 London Attackers']\n",
      "[\"Paid Notice: Deaths   BERNSTEIN, MORRIS ''LEW''\"]\n",
      "['Why Congress Should Embrace the Surge']\n",
      "['Among Chimps and Bonobos, the Hand Often Does the Talking']\n",
      "['Baldness and Longevity']\n",
      "[\"Washington Wants to Know: Who's on Escort Service List?\"]\n",
      "['One More Tango for Brando and His Golden Mumble']\n",
      "['Courting, Fish Fry and All']\n",
      "['Tommy Newsom, Saxophonist, Dies at 78']\n",
      "['The Plankton Defense; Companies Try a New Way to Counter Global Warming']\n",
      "['An Upside to Migraines? Less Mental Decline Found']\n",
      "['World Briefing | Africa: Morocco: Talks Set In Western Sahara Dispute']\n",
      "['Interpreting Some Overlooked Stories From the South']\n",
      "[\"'Sleep on It,' It Appears, Really Is Good Advice\"]\n",
      "['Corrections']\n",
      "['Law Day']\n",
      "['Finding Whether Diabetes Lurks']\n",
      "['Signs of Mourning Follow the Cardinals']\n",
      "['Corrections']\n",
      "['Coral Is Dying. Can It Be Reborn?']\n",
      "['Two All-Stars Push Each Other, and the Nets, to New Heights']\n",
      "['Even After Two Overtimes, The Rangers Stay Fresh']\n",
      "['How to Halve the Death Rate From Colon Cancer']\n",
      "[\"Atlanta's Mayor Defends Chief Against Misconduct Accusations\"]\n",
      "['Administration Proposes Expanded Energy Drilling Off Coasts']\n",
      "['Fire Damages Branch Library In Washington']\n",
      "['Help, by the Book']\n",
      "['Octavio Frias, 94, Brazilian Media Executive']\n",
      "['Lord Arthur Learns About Love and Death and the Importance of Being Insouciant']\n",
      "['N.C.A.A. Cracks Down on Prep Schools and Angers Some']\n",
      "['Corrections']\n",
      "['Ex-Senator Seen as Rehearsing for Prime Time']\n",
      "['QUOTATION OF THE DAY']\n",
      "['Corrections']\n",
      "['A Slam-Dunk Of a Book Tour Comes to Town']\n",
      "['Stressing Help, Not Penalties, In Gambling Treatment Court']\n",
      "['Metro Briefing | New Jersey: Trenton: Additional Storm Disaster Designations']\n",
      "['A Rock Festival Whose Hallmark Is Taste']\n",
      "['Bush Steps Up Effort to Persuade Putin on Missile Defense Plan']\n",
      "['Google Calls Viacom Suit On YouTube Unfounded']\n",
      "['Corrections']\n",
      "['Scientists Look to Vaccines in the War on E. Coli']\n",
      "['Report Assails Wal-Mart Over Unions']\n",
      "['Paid Notice: Deaths   TORRES, ANGEL']\n",
      "['Ortiz Writes Another Chapter In a Yankees Horror Story']\n",
      "['Corrections']\n",
      "['Abuse Victim Suing Church Testifies He Is Still in Pain']\n",
      "['Conduct Costs Some Players More Than Others']\n",
      "['Paid Notice: Deaths   COHEN, LINDA KAY']\n",
      "['Adolescents and Medicine']\n",
      "['Paid Notice: Deaths   CITRON, HARRIET P.']\n",
      "['A Governor Truly Tightens His Belt']\n",
      "[\"War in the Pacific: It's Hell, Especially if You're a Goat\"]\n",
      "['Reconstructing Alice Tully Hall']\n",
      "['Woman Describes 13 Hours of Sexual Torment, and Clues Left Behind']\n",
      "['Court Backs Police Officers In Chase That Hurt Driver']\n",
      "['Old Questions Linger as New PCB Cleanup Starts']\n",
      "['Secular Parties Vow to Battle Prime Minister In Turkish Vote']\n",
      "['The Times Building Is Resold For 3 Times Its 2004 Price']\n",
      "['Accounting Said to Hide Lender Losses']\n",
      "['Magazine Learns to Heed Its Own Advice']\n",
      "['Paid Notice: Deaths   ZINTL, BRYANT, LEOLA']\n",
      "['A Simple Need, All Too Often Unmet']\n",
      "['The Power Of Negative Thinking']\n",
      "[\"Corzine Leaves the Hospital, Regretting His 'Bad Example'\"]\n",
      "['Corrections']\n",
      "['Officer Testifies Against U.S. Military Jailer in Iraq']\n",
      "['A Day After a Fiery Crash, Bay Area Commuters Enjoy a Surprisingly Easy Ride']\n",
      "['Paid Notice: Deaths   LEVINE, ANNE F.']\n",
      "['Paid Notice: Deaths   LAWRENCE, SUZANNE SPEAR']\n",
      "['MEMO PAD']\n",
      "['Food Imports Often Escape Scrutiny']\n",
      "['Fireproofing of Most Overpasses And Bridges Is Costly and Rare']\n",
      "['A New Policy on Iran']\n",
      "['Paid Notice: Deaths   CARROLL, EDWARD J.']\n",
      "['Corrections']\n",
      "['Amid Bare Breasts and Love Stories, Audience Participation']\n",
      "['Corrections']\n",
      "[\"Paid Notice: Deaths  CARPENTER, MARJORIE J., ''BONNIE''\"]\n",
      "['U.S. Says Raids Killed Taliban; Afghans Say Civilians Died']\n",
      "['OBSERVATORY']\n",
      "['Elliott Skinner, 82, Scholar and Former Ambassador']\n",
      "['Shots Against Cancer']\n",
      "['A California Max Yasgur For a New Woodstock']\n",
      "['Unsatisfied With Results, but Sticking With Torre']\n",
      "['Iraq Bill Goes to Bush 4 Years After He Saw End to Combat']\n",
      "['Balancing Laws and Treatment']\n",
      "['Metro Briefing | New York: Brooklyn: Driver Charged In Bicycle Fatality']\n",
      "['Depression Raises Risk Of Diabetes, Study Finds']\n",
      "['In Ducks, War of the Sexes Plays Out in the Evolution of Genitalia']\n",
      "['Paid Notice: Deaths   KRAMER, GEORGE P.']\n",
      "[\"In Moscow in 1996, a Doctor's Visit Changed History\"]\n",
      "['Banks Fight, And Chicago Is the Prize']\n",
      "['Corrections']\n",
      "['Why Wolfowitz Should Stay']\n",
      "['Paid Notice: Deaths   BINDER, NANETTE, (NEE HOCHREICH)']\n",
      "['Paid Notice: Deaths   SCHULTZ, REV. DR. JOHN FREDERICK']\n",
      "['Which Brand of Bottled Water to Choose?']\n",
      "['Searching for Sleep And Decent Clothing']\n",
      "['Handicapping With Optimism']\n",
      "['Supreme Court to Hear Appeal Of Mexican Death Row Inmate']\n",
      "['S.I.-Linked Murder Suspect Is Returned to Colombia']\n",
      "['Shortage of Vitamin D May Weaken the Elderly']\n",
      "['A Meal, a Smile, a Word: Thanks in a Thousand Ways']\n",
      "['Free Drug Samples? Bad Idea, Some Say']\n",
      "['REALLY?']\n"
     ]
    }
   ],
   "source": [
    "import os\n",
    "for root, dirs, files in os.walk(root_path + subset):\n",
    "    for file in files:\n",
    "        with open(os.path.join(root, file), encoding = 'utf-8') as f:\n",
    "            if file.endswith(\".xml\"):\n",
    "                article = NYTArticle.from_file(os.path.join(root, file))\n",
    "                print(article.print_hede)"
   ]
  },
  {
   "cell_type": "code",
   "execution_count": null,
   "metadata": {},
   "outputs": [],
   "source": []
  }
 ],
 "metadata": {
  "kernelspec": {
   "display_name": "Python 3",
   "language": "python",
   "name": "python3"
  },
  "language_info": {
   "codemirror_mode": {
    "name": "ipython",
    "version": 3
   },
   "file_extension": ".py",
   "mimetype": "text/x-python",
   "name": "python",
   "nbconvert_exporter": "python",
   "pygments_lexer": "ipython3",
   "version": "3.7.3"
  }
 },
 "nbformat": 4,
 "nbformat_minor": 2
}
