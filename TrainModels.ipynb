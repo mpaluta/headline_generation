{
 "cells": [
  {
   "cell_type": "markdown",
   "metadata": {},
   "source": [
    "# Train the various models"
   ]
  },
  {
   "cell_type": "code",
   "execution_count": null,
   "metadata": {},
   "outputs": [],
   "source": [
    "# import libraries\n",
    "import os\n",
    "import pandas as pd\n",
    "from NYT_parser import NYTArticle\n",
    "from tensor2tensor.utils import registry\n",
    "from tensor2tensor.data_generators import text_problems #, token_generator, EOS\n",
    "from tensor2tensor.data_generators import problem"
   ]
  },
  {
   "cell_type": "markdown",
   "metadata": {},
   "source": [
    "### MARK: RUN THIS SERIES -- THIS IS ALL TRAINING DATA, NO FILTER\n",
    "Pull down my latest commits. The generate_samples function in Gavrilov.py should be pointing to the unfiltered data log. i.e.: paths = open(os.path.join(log_path,\"meta_train_unfltrd.log\"), \"r\")"
   ]
  },
  {
   "cell_type": "code",
   "execution_count": null,
   "metadata": {},
   "outputs": [],
   "source": [
    "! t2t-trainer \\\n",
    "--t2t_usr_dir=\".\" \\\n",
    "--generate_data \\\n",
    "--problem=\"gavrilov\" \\\n",
    "--model=\"universal_transformer\" \\\n",
    "--hparams_set=\"universal_transformer_gavrilov\" \\\n",
    "--data_dir=\"./t2t_data/\" \\\n",
    "--output_dir=\"./t2t_data/model\" \\\n",
    "--train_steps=500 \\\n",
    "--eval_steps=200"
   ]
  },
  {
   "cell_type": "code",
   "execution_count": null,
   "metadata": {},
   "outputs": [],
   "source": [
    "# try this one below first. if it throws up an error wanting to see data_dir, then add this\n",
    "# --data_dir=~/t2t_data \\"
   ]
  },
  {
   "cell_type": "code",
   "execution_count": null,
   "metadata": {},
   "outputs": [],
   "source": [
    "! DECODE_FILE=~/decode\n",
    "! t2t-decoder \\\n",
    "  --t2t_usr_dir=\".\" \\\n",
    "  --problem=\"gavrilov\" \\\n",
    "  --model=\"universal_transformer\" \\\n",
    "  --hparams_set=\"universal_transformer_gavrilov\" \\\n",
    "  --decode_hparams=\"beam_size=10,alpha=1\" \\\n",
    "  --output_dir=./t2t_train/decode \\\n",
    "  --decode_from_file=$DECODE_FILE \\\n",
    "  --decode_to_file=headline_output\n"
   ]
  },
  {
   "cell_type": "markdown",
   "metadata": {},
   "source": [
    "### BEN: RUN THIS SERIES -- THIS IS TRAINING DATA, FILTERED BY SENTIMENT\n",
    "Make sure Gavrilov.py points to meta_train.log"
   ]
  },
  {
   "cell_type": "code",
   "execution_count": null,
   "metadata": {},
   "outputs": [],
   "source": [
    "! t2t-trainer \\\n",
    "--t2t_usr_dir=\".\" \\\n",
    "--generate_data \\\n",
    "--problem=\"gavrilov\" \\\n",
    "--model=\"universal_transformer\" \\\n",
    "--hparams_set=\"universal_transformer_gavrilov\" \\\n",
    "--data_dir=\"./t2t_data/\" \\\n",
    "--output_dir=\"./t2t_data/model\" \\\n",
    "--train_steps=500 \\\n",
    "--eval_steps=200\n",
    "\n",
    "GAVRILOV DECODER BASH COMMAND\n",
    "\n",
    "! DECODE_FILE=~/decode\n",
    "! t2t-decoder \\\n",
    "  --t2t_usr_dir=\".\" \\\n",
    "TRY WITHOUT THIS>>>>>  --data_dir=~/t2t_data \\\n",
    "  --problem=\"gavrilov\" \\\n",
    "  --model=\"universal_transformer\" \\\n",
    "  --hparams_set=\"universal_transformer_gavrilov\" \\\n",
    "  --decode_hparams=\"beam_size=10,alpha=1\" \\\n",
    "  --output_dir=./t2t_train/decode \\\n",
    "  --decode_from_file=$DECODE_FILE \\\n",
    "  --decode_to_file=headline_output\n"
   ]
  },
  {
   "cell_type": "code",
   "execution_count": null,
   "metadata": {},
   "outputs": [],
   "source": [
    "# LATER: TRAIN ON A BATCH OF TRAINING DATA THE SAME SIZE AS THE FILTERED DATA"
   ]
  }
 ],
 "metadata": {
  "kernelspec": {
   "display_name": "Python 3",
   "language": "python",
   "name": "python3"
  },
  "language_info": {
   "codemirror_mode": {
    "name": "ipython",
    "version": 3
   },
   "file_extension": ".py",
   "mimetype": "text/x-python",
   "name": "python",
   "nbconvert_exporter": "python",
   "pygments_lexer": "ipython3",
   "version": "3.7.0"
  }
 },
 "nbformat": 4,
 "nbformat_minor": 2
}
