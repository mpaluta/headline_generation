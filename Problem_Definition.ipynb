{
 "cells": [
  {
   "cell_type": "code",
   "execution_count": 1,
   "metadata": {},
   "outputs": [
    {
     "name": "stderr",
     "output_type": "stream",
     "text": [
      "WARNING: Logging before flag parsing goes to stderr.\n",
      "W0716 21:11:51.484690 140588607846208 deprecation_wrapper.py:119] From /home/mark/anaconda3/lib/python3.7/site-packages/tensor2tensor/utils/expert_utils.py:68: The name tf.variable_scope is deprecated. Please use tf.compat.v1.variable_scope instead.\n",
      "\n",
      "W0716 21:11:52.057594 140588607846208 lazy_loader.py:50] \n",
      "The TensorFlow contrib module will not be included in TensorFlow 2.0.\n",
      "For more information, please see:\n",
      "  * https://github.com/tensorflow/community/blob/master/rfcs/20180907-contrib-sunset.md\n",
      "  * https://github.com/tensorflow/addons\n",
      "  * https://github.com/tensorflow/io (for I/O related ops)\n",
      "If you depend on functionality not listed there, please file an issue.\n",
      "\n"
     ]
    }
   ],
   "source": [
    "# from tensor2tensor.data_generators import text_problems\n",
    "# import tensor2tensor.data_generators as dg"
   ]
  },
  {
   "cell_type": "code",
   "execution_count": 12,
   "metadata": {},
   "outputs": [
    {
     "name": "stdout",
     "output_type": "stream",
     "text": [
      "WARNING: Logging before flag parsing goes to stderr.\n",
      "W0716 21:47:04.195203 139729340106560 deprecation_wrapper.py:119] From /home/mark/anaconda3/lib/python3.7/site-packages/tensor2tensor/utils/expert_utils.py:68: The name tf.variable_scope is deprecated. Please use tf.compat.v1.variable_scope instead.\n",
      "\n",
      "W0716 21:47:04.776239 139729340106560 lazy_loader.py:50] \n",
      "The TensorFlow contrib module will not be included in TensorFlow 2.0.\n",
      "For more information, please see:\n",
      "  * https://github.com/tensorflow/community/blob/master/rfcs/20180907-contrib-sunset.md\n",
      "  * https://github.com/tensorflow/addons\n",
      "  * https://github.com/tensorflow/io (for I/O related ops)\n",
      "If you depend on functionality not listed there, please file an issue.\n",
      "\n",
      "W0716 21:47:06.179231 139729340106560 deprecation_wrapper.py:119] From /home/mark/anaconda3/lib/python3.7/site-packages/tensor2tensor/utils/adafactor.py:27: The name tf.train.Optimizer is deprecated. Please use tf.compat.v1.train.Optimizer instead.\n",
      "\n",
      "W0716 21:47:06.179509 139729340106560 deprecation_wrapper.py:119] From /home/mark/anaconda3/lib/python3.7/site-packages/tensor2tensor/utils/multistep_optimizer.py:32: The name tf.train.AdamOptimizer is deprecated. Please use tf.compat.v1.train.AdamOptimizer instead.\n",
      "\n",
      "W0716 21:47:06.186922 139729340106560 deprecation_wrapper.py:119] From /home/mark/anaconda3/lib/python3.7/site-packages/mesh_tensorflow/ops.py:4237: The name tf.train.CheckpointSaverListener is deprecated. Please use tf.estimator.CheckpointSaverListener instead.\n",
      "\n",
      "W0716 21:47:06.187027 139729340106560 deprecation_wrapper.py:119] From /home/mark/anaconda3/lib/python3.7/site-packages/mesh_tensorflow/ops.py:4260: The name tf.train.SessionRunHook is deprecated. Please use tf.estimator.SessionRunHook instead.\n",
      "\n",
      "W0716 21:47:06.209421 139729340106560 deprecation_wrapper.py:119] From /home/mark/anaconda3/lib/python3.7/site-packages/tensor2tensor/rl/gym_utils.py:219: The name tf.logging.info is deprecated. Please use tf.compat.v1.logging.info instead.\n",
      "\n",
      "W0716 21:47:06.231548 139729340106560 deprecation_wrapper.py:119] From /home/mark/anaconda3/lib/python3.7/site-packages/tensor2tensor/utils/trainer_lib.py:109: The name tf.OptimizerOptions is deprecated. Please use tf.compat.v1.OptimizerOptions instead.\n",
      "\n",
      "W0716 21:47:06.535213 139729340106560 deprecation_wrapper.py:119] From /home/mark/anaconda3/bin/t2t-trainer:32: The name tf.logging.set_verbosity is deprecated. Please use tf.compat.v1.logging.set_verbosity instead.\n",
      "\n",
      "W0716 21:47:06.535336 139729340106560 deprecation_wrapper.py:119] From /home/mark/anaconda3/bin/t2t-trainer:32: The name tf.logging.INFO is deprecated. Please use tf.compat.v1.logging.INFO instead.\n",
      "\n",
      "W0716 21:47:06.535448 139729340106560 deprecation_wrapper.py:119] From /home/mark/anaconda3/bin/t2t-trainer:33: The name tf.app.run is deprecated. Please use tf.compat.v1.app.run instead.\n",
      "\n",
      "I0716 21:47:06.535784 139729340106560 usr_dir.py:43] Importing user module .\\my_prob.py from path /home/mark/Desktop/headline_generation\n",
      "Traceback (most recent call last):\n",
      "  File \"/home/mark/anaconda3/bin/t2t-trainer\", line 33, in <module>\n",
      "    tf.app.run()\n",
      "  File \"/home/mark/anaconda3/lib/python3.7/site-packages/tensorflow/python/platform/app.py\", line 40, in run\n",
      "    _run(main=main, argv=argv, flags_parser=_parse_flags_tolerate_undef)\n",
      "  File \"/home/mark/anaconda3/lib/python3.7/site-packages/absl/app.py\", line 300, in run\n",
      "    _run_main(main, args)\n",
      "  File \"/home/mark/anaconda3/lib/python3.7/site-packages/absl/app.py\", line 251, in _run_main\n",
      "    sys.exit(main(argv))\n",
      "  File \"/home/mark/anaconda3/bin/t2t-trainer\", line 28, in main\n",
      "    t2t_trainer.main(argv)\n",
      "  File \"/home/mark/anaconda3/lib/python3.7/site-packages/tensor2tensor/bin/t2t_trainer.py\", line 367, in main\n",
      "    usr_dir.import_usr_dir(FLAGS.t2t_usr_dir)\n",
      "  File \"/home/mark/anaconda3/lib/python3.7/site-packages/tensor2tensor/utils/usr_dir.py\", line 45, in import_usr_dir\n",
      "    importlib.import_module(module_name)\n",
      "  File \"/home/mark/anaconda3/lib/python3.7/importlib/__init__.py\", line 122, in import_module\n",
      "    raise TypeError(msg.format(name))\n",
      "TypeError: the 'package' argument is required to perform a relative import for '.\\\\my_prob.py'\n"
     ]
    }
   ],
   "source": [
    "! t2t-trainer \\\n",
    "--t2t_usr_dir=\".\\my_prob.py\" \\\n",
    "--model=\"transformer\" \\\n",
    "--hparams_set=\"transformer_prepend\" \\\n",
    "--data_dir=~/t2t_data \\\n",
    "--output_dir=~/t2t_train/sum \\\n",
    "--train_steps=10 \\\n",
    "--eval_steps=1"
   ]
  }
 ],
 "metadata": {
  "kernelspec": {
   "display_name": "Python 3",
   "language": "python",
   "name": "python3"
  },
  "language_info": {
   "codemirror_mode": {
    "name": "ipython",
    "version": 3
   },
   "file_extension": ".py",
   "mimetype": "text/x-python",
   "name": "python",
   "nbconvert_exporter": "python",
   "pygments_lexer": "ipython3",
   "version": "3.7.3"
  }
 },
 "nbformat": 4,
 "nbformat_minor": 2
}
