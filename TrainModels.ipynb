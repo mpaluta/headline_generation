{
 "cells": [
  {
   "cell_type": "markdown",
   "metadata": {},
   "source": [
    "# Train the various models"
   ]
  },
  {
   "cell_type": "code",
   "execution_count": 1,
   "metadata": {},
   "outputs": [
    {
     "name": "stderr",
     "output_type": "stream",
     "text": [
      "WARNING: Logging before flag parsing goes to stderr.\n",
      "W0722 07:37:27.138923 139968313509696 lazy_loader.py:50] \n",
      "The TensorFlow contrib module will not be included in TensorFlow 2.0.\n",
      "For more information, please see:\n",
      "  * https://github.com/tensorflow/community/blob/master/rfcs/20180907-contrib-sunset.md\n",
      "  * https://github.com/tensorflow/addons\n",
      "  * https://github.com/tensorflow/io (for I/O related ops)\n",
      "If you depend on functionality not listed there, please file an issue.\n",
      "\n",
      "W0722 07:37:28.253571 139968313509696 deprecation_wrapper.py:119] From /home/arnoldyb/anaconda3/lib/python3.7/site-packages/tensor2tensor/utils/expert_utils.py:68: The name tf.variable_scope is deprecated. Please use tf.compat.v1.variable_scope instead.\n",
      "\n"
     ]
    }
   ],
   "source": [
    "# import libraries\n",
    "import os\n",
    "import pandas as pd\n",
    "import Gavrilov\n",
    "from NYT_parser import NYTArticle\n",
    "from tensor2tensor.utils import registry\n",
    "from tensor2tensor.data_generators import text_problems #, token_generator, EOS\n",
    "from tensor2tensor.data_generators import problem"
   ]
  },
  {
   "cell_type": "markdown",
   "metadata": {},
   "source": [
    "### MARK: RUN THIS SERIES -- THIS IS ALL TRAINING DATA, NO FILTER\n",
    "Pull down my latest commits. The generate_samples function in Gavrilov.py should be pointing to the unfiltered data log. i.e.: paths = open(os.path.join(log_path,\"meta_train_unfltrd.log\"), \"r\")"
   ]
  },
  {
   "cell_type": "code",
   "execution_count": null,
   "metadata": {},
   "outputs": [],
   "source": [
    "! t2t-trainer \\\n",
    "--t2t_usr_dir=\".\" \\\n",
    "--generate_data \\\n",
    "--problem=\"gavrilov\" \\\n",
    "--model=\"universal_transformer\" \\\n",
    "--hparams_set=\"universal_transformer_gavrilov\" \\\n",
    "--data_dir=\"./t2t_data/\" \\\n",
    "--output_dir=\"./t2t_data/model\" \\\n",
    "--train_steps=500 \\\n",
    "--eval_steps=200"
   ]
  },
  {
   "cell_type": "code",
   "execution_count": null,
   "metadata": {},
   "outputs": [],
   "source": [
    "# place the decode_test file into the t2t_data folder"
   ]
  },
  {
   "cell_type": "code",
   "execution_count": null,
   "metadata": {},
   "outputs": [],
   "source": [
    "! DECODE_FILE=\"decode_test\"\n",
    "! t2t-decoder \\\n",
    "  --t2t_usr_dir=\".\" \\\n",
    "  --data_dir=\"./t2t_data/\" \\\n",
    "  --problem=\"gavrilov\" \\\n",
    "  --model=\"universal_transformer\" \\\n",
    "  --hparams_set=\"universal_transformer_gavrilov\" \\\n",
    "  --decode_hparams=\"beam_size=10,alpha=1\" \\\n",
    "  --output_dir=\"./t2t_data/decode/\" \\\n",
    "  --decode_from_file=$DECODE_FILE \\\n",
    "  --decode_to_file=\"generated_headline\""
   ]
  },
  {
   "cell_type": "markdown",
   "metadata": {},
   "source": [
    "### BEN: RUN THIS SERIES -- THIS IS TRAINING DATA, FILTERED BY SENTIMENT\n",
    "Make sure Gavrilov.py points to meta_train.log"
   ]
  },
  {
   "cell_type": "code",
   "execution_count": null,
   "metadata": {},
   "outputs": [],
   "source": [
    "! t2t-trainer \\\n",
    "--t2t_usr_dir=\".\" \\\n",
    "--generate_data \\\n",
    "--problem=\"gavrilov\" \\\n",
    "--model=\"universal_transformer\" \\\n",
    "--hparams_set=\"universal_transformer_gavrilov\" \\\n",
    "--data_dir=\"./t2t_data/\" \\\n",
    "--output_dir=\"./t2t_data/model\" \\\n",
    "--train_steps=500 \\\n",
    "--eval_steps=200"
   ]
  },
  {
   "cell_type": "code",
   "execution_count": null,
   "metadata": {},
   "outputs": [],
   "source": [
    "# place the decode_test file into the t2t_data folder"
   ]
  },
  {
   "cell_type": "code",
   "execution_count": null,
   "metadata": {},
   "outputs": [],
   "source": [
    "! DECODE_FILE=\"decode_test\"\n",
    "! t2t-decoder \\\n",
    "  --t2t_usr_dir=\".\" \\\n",
    "  --data_dir=\"./t2t_data/\" \\\n",
    "  --problem=\"gavrilov\" \\\n",
    "  --model=\"universal_transformer\" \\\n",
    "  --hparams_set=\"universal_transformer_gavrilov\" \\\n",
    "  --decode_hparams=\"beam_size=10,alpha=1\" \\\n",
    "  --output_dir=\"./t2t_data/decode/\" \\\n",
    "  --decode_from_file=$DECODE_FILE \\\n",
    "  --decode_to_file=\"generated_headline\""
   ]
  },
  {
   "cell_type": "code",
   "execution_count": null,
   "metadata": {},
   "outputs": [],
   "source": [
    "# LATER: TRAIN ON A BATCH OF TRAINING DATA THE SAME SIZE AS THE FILTERED DATA"
   ]
  }
 ],
 "metadata": {
  "kernelspec": {
   "display_name": "Python 3",
   "language": "python",
   "name": "python3"
  },
  "language_info": {
   "codemirror_mode": {
    "name": "ipython",
    "version": 3
   },
   "file_extension": ".py",
   "mimetype": "text/x-python",
   "name": "python",
   "nbconvert_exporter": "python",
   "pygments_lexer": "ipython3",
   "version": "3.7.0"
  }
 },
 "nbformat": 4,
 "nbformat_minor": 2
}
