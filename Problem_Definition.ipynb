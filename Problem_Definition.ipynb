{
 "cells": [
  {
   "cell_type": "code",
   "execution_count": 13,
   "metadata": {},
   "outputs": [
    {
     "name": "stdout",
     "output_type": "stream",
     "text": [
      "WARNING: Logging before flag parsing goes to stderr.\n",
      "W0717 22:40:43.256948 140217897490240 deprecation_wrapper.py:119] From /home/mark/anaconda3/lib/python3.7/site-packages/tensor2tensor/utils/expert_utils.py:68: The name tf.variable_scope is deprecated. Please use tf.compat.v1.variable_scope instead.\n",
      "\n",
      "W0717 22:40:43.806160 140217897490240 lazy_loader.py:50] \n",
      "The TensorFlow contrib module will not be included in TensorFlow 2.0.\n",
      "For more information, please see:\n",
      "  * https://github.com/tensorflow/community/blob/master/rfcs/20180907-contrib-sunset.md\n",
      "  * https://github.com/tensorflow/addons\n",
      "  * https://github.com/tensorflow/io (for I/O related ops)\n",
      "If you depend on functionality not listed there, please file an issue.\n",
      "\n",
      "W0717 22:40:45.294229 140217897490240 deprecation_wrapper.py:119] From /home/mark/anaconda3/lib/python3.7/site-packages/tensor2tensor/utils/adafactor.py:27: The name tf.train.Optimizer is deprecated. Please use tf.compat.v1.train.Optimizer instead.\n",
      "\n",
      "W0717 22:40:45.294514 140217897490240 deprecation_wrapper.py:119] From /home/mark/anaconda3/lib/python3.7/site-packages/tensor2tensor/utils/multistep_optimizer.py:32: The name tf.train.AdamOptimizer is deprecated. Please use tf.compat.v1.train.AdamOptimizer instead.\n",
      "\n",
      "W0717 22:40:45.301763 140217897490240 deprecation_wrapper.py:119] From /home/mark/anaconda3/lib/python3.7/site-packages/mesh_tensorflow/ops.py:4237: The name tf.train.CheckpointSaverListener is deprecated. Please use tf.estimator.CheckpointSaverListener instead.\n",
      "\n",
      "W0717 22:40:45.301865 140217897490240 deprecation_wrapper.py:119] From /home/mark/anaconda3/lib/python3.7/site-packages/mesh_tensorflow/ops.py:4260: The name tf.train.SessionRunHook is deprecated. Please use tf.estimator.SessionRunHook instead.\n",
      "\n",
      "W0717 22:40:45.322600 140217897490240 deprecation_wrapper.py:119] From /home/mark/anaconda3/lib/python3.7/site-packages/tensor2tensor/rl/gym_utils.py:219: The name tf.logging.info is deprecated. Please use tf.compat.v1.logging.info instead.\n",
      "\n",
      "W0717 22:40:45.343346 140217897490240 deprecation_wrapper.py:119] From /home/mark/anaconda3/lib/python3.7/site-packages/tensor2tensor/utils/trainer_lib.py:109: The name tf.OptimizerOptions is deprecated. Please use tf.compat.v1.OptimizerOptions instead.\n",
      "\n",
      "W0717 22:40:45.630614 140217897490240 deprecation_wrapper.py:119] From /home/mark/anaconda3/bin/t2t-trainer:32: The name tf.logging.set_verbosity is deprecated. Please use tf.compat.v1.logging.set_verbosity instead.\n",
      "\n",
      "W0717 22:40:45.630740 140217897490240 deprecation_wrapper.py:119] From /home/mark/anaconda3/bin/t2t-trainer:32: The name tf.logging.INFO is deprecated. Please use tf.compat.v1.logging.INFO instead.\n",
      "\n",
      "W0717 22:40:45.630851 140217897490240 deprecation_wrapper.py:119] From /home/mark/anaconda3/bin/t2t-trainer:33: The name tf.app.run is deprecated. Please use tf.compat.v1.app.run instead.\n",
      "\n",
      "I0717 22:40:45.631191 140217897490240 usr_dir.py:43] Importing user module headline_generation from path /home/mark/Desktop\n",
      "W0717 22:40:45.631759 140217897490240 deprecation_wrapper.py:119] From /home/mark/anaconda3/lib/python3.7/site-packages/tensor2tensor/utils/hparams_lib.py:49: The name tf.gfile.Exists is deprecated. Please use tf.io.gfile.exists instead.\n",
      "\n",
      "W0717 22:40:45.631896 140217897490240 deprecation_wrapper.py:119] From /home/mark/anaconda3/lib/python3.7/site-packages/tensor2tensor/utils/trainer_lib.py:780: The name tf.set_random_seed is deprecated. Please use tf.compat.v1.set_random_seed instead.\n",
      "\n",
      "W0717 22:40:45.632375 140217897490240 deprecation_wrapper.py:119] From /home/mark/anaconda3/lib/python3.7/site-packages/tensor2tensor/bin/t2t_trainer.py:282: The name tf.gfile.MakeDirs is deprecated. Please use tf.io.gfile.makedirs instead.\n",
      "\n",
      "I0717 22:40:45.632451 140217897490240 t2t_trainer.py:286] Generating data for gavrilov\n",
      "I0717 22:40:45.632721 140217897490240 generator_utils.py:349] Generating vocab file: /home/mark/t2t_data/vocab.gavrilov.32768.subwords\n",
      "Traceback (most recent call last):\n",
      "  File \"/home/mark/anaconda3/bin/t2t-trainer\", line 33, in <module>\n",
      "    tf.app.run()\n",
      "  File \"/home/mark/anaconda3/lib/python3.7/site-packages/tensorflow/python/platform/app.py\", line 40, in run\n",
      "    _run(main=main, argv=argv, flags_parser=_parse_flags_tolerate_undef)\n",
      "  File \"/home/mark/anaconda3/lib/python3.7/site-packages/absl/app.py\", line 300, in run\n",
      "    _run_main(main, args)\n",
      "  File \"/home/mark/anaconda3/lib/python3.7/site-packages/absl/app.py\", line 251, in _run_main\n",
      "    sys.exit(main(argv))\n",
      "  File \"/home/mark/anaconda3/bin/t2t-trainer\", line 28, in main\n",
      "    t2t_trainer.main(argv)\n",
      "  File \"/home/mark/anaconda3/lib/python3.7/site-packages/tensor2tensor/bin/t2t_trainer.py\", line 392, in main\n",
      "    generate_data()\n",
      "  File \"/home/mark/anaconda3/lib/python3.7/site-packages/tensor2tensor/bin/t2t_trainer.py\", line 287, in generate_data\n",
      "    registry.problem(problem_name).generate_data(data_dir, tmp_dir)\n",
      "  File \"/home/mark/anaconda3/lib/python3.7/site-packages/tensor2tensor/data_generators/text_problems.py\", line 366, in generate_data\n",
      "    data_dir, tmp_dir, problem.DatasetSplit.TRAIN), all_paths)\n",
      "  File \"/home/mark/anaconda3/lib/python3.7/site-packages/tensor2tensor/data_generators/text_problems.py\", line 308, in generate_encoded_samples\n",
      "    encoder = self.get_or_create_vocab(data_dir, tmp_dir)\n",
      "  File \"/home/mark/anaconda3/lib/python3.7/site-packages/tensor2tensor/data_generators/text_problems.py\", line 254, in get_or_create_vocab\n",
      "    text_encoder.RESERVED_TOKENS + self.additional_reserved_tokens))\n",
      "  File \"/home/mark/anaconda3/lib/python3.7/site-packages/tensor2tensor/data_generators/generator_utils.py\", line 352, in get_or_generate_vocab_inner\n",
      "    reserved_tokens=reserved_tokens)\n",
      "  File \"/home/mark/anaconda3/lib/python3.7/site-packages/tensor2tensor/data_generators/text_encoder.py\", line 667, in build_from_generator\n",
      "    for item in generator:\n",
      "  File \"/home/mark/anaconda3/lib/python3.7/site-packages/tensor2tensor/data_generators/text_problems.py\", line 207, in generate_text_for_vocab\n",
      "    self.generate_samples(data_dir, tmp_dir, problem.DatasetSplit.TRAIN)):\n",
      "  File \"/home/mark/Desktop/headline_generation/Gavrilov.py\", line 26, in generate_samples\n",
      "    input_train = open(os.path.join(tpm_dir,\"inputs.train.txt\"), \"r\")\n",
      "NameError: name 'tpm_dir' is not defined\n"
     ]
    }
   ],
   "source": [
    "! t2t-trainer \\\n",
    "--t2t_usr_dir=\".\" \\\n",
    "--generate_data \\\n",
    "--problem=\"gavrilov\" \\\n",
    "--model=\"transformer\" \\\n",
    "--hparams_set=\"transformer_prepend\" \\\n",
    "--data_dir=~/t2t_data \\\n",
    "--output_dir=~/t2t_train/sum \\\n",
    "--train_steps=10 \\\n",
    "--eval_steps=1"
   ]
  },
  {
   "cell_type": "code",
   "execution_count": null,
   "metadata": {},
   "outputs": [],
   "source": []
  }
 ],
 "metadata": {
  "kernelspec": {
   "display_name": "Python 3",
   "language": "python",
   "name": "python3"
  },
  "language_info": {
   "codemirror_mode": {
    "name": "ipython",
    "version": 3
   },
   "file_extension": ".py",
   "mimetype": "text/x-python",
   "name": "python",
   "nbconvert_exporter": "python",
   "pygments_lexer": "ipython3",
   "version": "3.7.3"
  }
 },
 "nbformat": 4,
 "nbformat_minor": 2
}
