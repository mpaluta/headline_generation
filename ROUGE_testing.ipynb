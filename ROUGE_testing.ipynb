{
 "cells": [
  {
   "cell_type": "markdown",
   "metadata": {},
   "source": [
    "## Playing with ROUGE"
   ]
  },
  {
   "cell_type": "code",
   "execution_count": 109,
   "metadata": {},
   "outputs": [],
   "source": [
    "from tensor2tensor.utils import rouge\n",
    "import numpy as np\n",
    "import os"
   ]
  },
  {
   "cell_type": "markdown",
   "metadata": {},
   "source": [
    "Define ROUGE recall scoring functions since t2t only supplies F1 scoring. We will borrow from `tensor2tensor.utils.rouge` to define these"
   ]
  },
  {
   "cell_type": "code",
   "execution_count": 110,
   "metadata": {},
   "outputs": [],
   "source": [
    "def rouge_l_sentence_level_recall(eval_sentences, ref_sentences):\n",
    "  \"\"\"Computes ROUGE-L (sentence level) of two collections of sentences.\n",
    "  Source: https://www.microsoft.com/en-us/research/publication/\n",
    "  rouge-a-package-for-automatic-evaluation-of-summaries/\n",
    "  Calculated according to:\n",
    "  R_lcs = LCS(X,Y)/m\n",
    "  where:\n",
    "  X = reference summary\n",
    "  Y = Candidate summary\n",
    "  m = length of reference summary\n",
    "  n = length of candidate summary\n",
    "  Args:\n",
    "    eval_sentences: The sentences that have been picked by the summarizer\n",
    "    ref_sentences: The sentences from the reference set\n",
    "  Returns:\n",
    "    A float: recall_lcs\n",
    "  \"\"\"\n",
    "\n",
    "  recall_scores = []\n",
    "  for eval_sentence, ref_sentence in zip(eval_sentences, ref_sentences):\n",
    "    m = len(ref_sentence)\n",
    "    lcs = rouge._len_lcs(eval_sentence, ref_sentence)\n",
    "    R_lcs = lcs / m\n",
    "    recall_scores.append(R_lcs)\n",
    "  return np.mean(recall_scores, dtype=np.float32)\n",
    "\n",
    "def rouge_n_recall(eval_sentences, ref_sentences, n=2):\n",
    "  \"\"\"Computes ROUGE-N recall score of two text collections of sentences.\n",
    "  Source: https://www.microsoft.com/en-us/research/publication/\n",
    "  rouge-a-package-for-automatic-evaluation-of-summaries/\n",
    "  Args:\n",
    "    eval_sentences: The sentences that have been picked by the summarizer\n",
    "    ref_sentences: The sentences from the reference set\n",
    "    n: Size of ngram.  Defaults to 2.\n",
    "  Returns:\n",
    "    recall score for ROUGE-N\n",
    "  \"\"\"\n",
    "\n",
    "  recall_scores = []\n",
    "  for eval_sentence, ref_sentence in zip(eval_sentences, ref_sentences):\n",
    "    eval_ngrams = rouge._get_ngrams(n, eval_sentence)\n",
    "    ref_ngrams = rouge._get_ngrams(n, ref_sentence)\n",
    "    ref_count = len(ref_ngrams)\n",
    "\n",
    "    # Gets the overlapping ngrams between evaluated and reference\n",
    "    overlapping_ngrams = eval_ngrams.intersection(ref_ngrams)\n",
    "    overlapping_count = len(overlapping_ngrams)\n",
    "\n",
    "    if ref_count == 0:\n",
    "      recall = 0.0\n",
    "    else:\n",
    "      recall = overlapping_count / ref_count\n",
    "\n",
    "    recall_scores.append(recall)\n",
    "\n",
    "  # return overlapping_count / reference_count\n",
    "  return np.mean(recall_scores, dtype=np.float32)"
   ]
  },
  {
   "cell_type": "markdown",
   "metadata": {},
   "source": [
    "### Prepare input"
   ]
  },
  {
   "cell_type": "markdown",
   "metadata": {},
   "source": [
    "The general structure here is that each sentence should be a list of words. The method is set up to intake multiple sentences, so the overall input structure is a list of lists."
   ]
  },
  {
   "cell_type": "code",
   "execution_count": 111,
   "metadata": {},
   "outputs": [],
   "source": [
    "# sample headlines for troubleshooting purposes\n",
    "# generated = [[\"Hello\", \"World\"], [\"My\", \"name\", \"is\", \"Mark\"]]\n",
    "# reference = [[\"Hello\", \"people\"], [\"Your\", \"name\", \"might\", \"be\", \"Mark\"]]"
   ]
  },
  {
   "cell_type": "code",
   "execution_count": 112,
   "metadata": {},
   "outputs": [],
   "source": [
    "# actual reading in from decoder/baseline and reference\n",
    "method = \"baseline\" # \"decoder\" or \"baseline\"\n",
    "\n",
    "if method == \"baseline\":\n",
    "    gen_path = os.path.join(\"postprocess\",\"baseline.txt\")\n",
    "elif method == \"decoder\":\n",
    "    gen_path = os.path.join(\"decoder\",\"decoder_test_sf.universal_transformer.universal_transformer_base.gavrilov.beam4.alpha0.6.decodes\")\n",
    "else:\n",
    "    raise(\"unknown method\")\n",
    "    \n",
    "generated = []\n",
    "with open(gen_path) as gen_file:\n",
    "    line = gen_file.readline()\n",
    "    while line:\n",
    "        split_line = line.split()\n",
    "        if not split_line:\n",
    "            split_line = [\"\"]\n",
    "        generated.append(split_line)\n",
    "        line = gen_file.readline()\n",
    "\n",
    "ref_path = os.path.join(\"postprocess\",\"headlines.txt\")\n",
    "reference = []\n",
    "with open(ref_path) as ref_file:\n",
    "    line = ref_file.readline()\n",
    "    while line: \n",
    "        reference.append(line.split())\n",
    "        line = ref_file.readline()"
   ]
  },
  {
   "cell_type": "markdown",
   "metadata": {},
   "source": [
    "### ROUGE-1 and ROUGE-2 F1 score"
   ]
  },
  {
   "cell_type": "code",
   "execution_count": 113,
   "metadata": {},
   "outputs": [
    {
     "data": {
      "text/plain": [
       "7.7437616884708405"
      ]
     },
     "execution_count": 113,
     "metadata": {},
     "output_type": "execute_result"
    }
   ],
   "source": [
    "rouge.rouge_n(generated, reference, n=1)*100"
   ]
  },
  {
   "cell_type": "code",
   "execution_count": 114,
   "metadata": {
    "scrolled": true
   },
   "outputs": [
    {
     "data": {
      "text/plain": [
       "1.6718987375497818"
      ]
     },
     "execution_count": 114,
     "metadata": {},
     "output_type": "execute_result"
    }
   ],
   "source": [
    "rouge.rouge_n(generated, reference, n=2)*100"
   ]
  },
  {
   "cell_type": "markdown",
   "metadata": {},
   "source": [
    "### ROUGE-1 and ROUGE-2 recall score"
   ]
  },
  {
   "cell_type": "code",
   "execution_count": 115,
   "metadata": {},
   "outputs": [
    {
     "data": {
      "text/plain": [
       "8.389227092266083"
      ]
     },
     "execution_count": 115,
     "metadata": {},
     "output_type": "execute_result"
    }
   ],
   "source": [
    "rouge_n_recall(generated, reference, n=1)*100"
   ]
  },
  {
   "cell_type": "code",
   "execution_count": 116,
   "metadata": {},
   "outputs": [
    {
     "data": {
      "text/plain": [
       "1.6853120177984238"
      ]
     },
     "execution_count": 116,
     "metadata": {},
     "output_type": "execute_result"
    }
   ],
   "source": [
    "rouge_n_recall(generated, reference, n=2)*100"
   ]
  },
  {
   "cell_type": "markdown",
   "metadata": {},
   "source": [
    "### ROUGE-L F1 score"
   ]
  },
  {
   "cell_type": "code",
   "execution_count": 117,
   "metadata": {},
   "outputs": [
    {
     "data": {
      "text/plain": [
       "7.121086120605469"
      ]
     },
     "execution_count": 117,
     "metadata": {},
     "output_type": "execute_result"
    }
   ],
   "source": [
    "rouge.rouge_l_sentence_level(generated, reference)*100"
   ]
  },
  {
   "cell_type": "markdown",
   "metadata": {},
   "source": [
    "### ROUGE-L recall score"
   ]
  },
  {
   "cell_type": "code",
   "execution_count": 118,
   "metadata": {},
   "outputs": [
    {
     "data": {
      "text/plain": [
       "8.160179108381271"
      ]
     },
     "execution_count": 118,
     "metadata": {},
     "output_type": "execute_result"
    }
   ],
   "source": [
    "rouge_l_sentence_level_recall(generated, reference)*100"
   ]
  },
  {
   "cell_type": "code",
   "execution_count": null,
   "metadata": {},
   "outputs": [],
   "source": []
  }
 ],
 "metadata": {
  "kernelspec": {
   "display_name": "Python 3",
   "language": "python",
   "name": "python3"
  },
  "language_info": {
   "codemirror_mode": {
    "name": "ipython",
    "version": 3
   },
   "file_extension": ".py",
   "mimetype": "text/x-python",
   "name": "python",
   "nbconvert_exporter": "python",
   "pygments_lexer": "ipython3",
   "version": "3.7.0"
  }
 },
 "nbformat": 4,
 "nbformat_minor": 2
}
