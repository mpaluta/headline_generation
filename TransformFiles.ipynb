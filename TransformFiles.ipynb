{
 "cells": [
  {
   "cell_type": "code",
   "execution_count": 26,
   "metadata": {},
   "outputs": [
    {
     "name": "stderr",
     "output_type": "stream",
     "text": [
      "WARNING: Logging before flag parsing goes to stderr.\n",
      "W0706 21:08:38.151100 140372267288384 deprecation_wrapper.py:119] From /home/mark/anaconda3/lib/python3.7/site-packages/bert/optimization.py:87: The name tf.train.Optimizer is deprecated. Please use tf.compat.v1.train.Optimizer instead.\n",
      "\n"
     ]
    }
   ],
   "source": [
    "# libraries\n",
    "import os\n",
    "import csv\n",
    "import time\n",
    "import tensorflow as tf\n",
    "import bert\n",
    "from bert import run_classifier\n",
    "import pandas as pd\n",
    "from NYT_parser import NYTArticle\n",
    "from utilities import *"
   ]
  },
  {
   "cell_type": "code",
   "execution_count": 2,
   "metadata": {},
   "outputs": [],
   "source": [
    "# get pathways\n",
    "train_paths = data_setup.get_paths('train')\n",
    "article = NYTArticle.from_file(os.path.join('data', train_paths[0][0]))"
   ]
  },
  {
   "cell_type": "code",
   "execution_count": 3,
   "metadata": {},
   "outputs": [],
   "source": [
    "# set destination folder and make folders if needed\n",
    "dest_folder = 'transdata/train/'\n",
    "if not os.path.exists(dest_folder):\n",
    "    os.makedirs(dest_folder)"
   ]
  },
  {
   "cell_type": "code",
   "execution_count": 4,
   "metadata": {},
   "outputs": [
    {
     "name": "stdout",
     "output_type": "stream",
     "text": [
      "Writing transdata/train/739212\n"
     ]
    }
   ],
   "source": [
    "# attempt a single file output\n",
    "print(\"Writing\", dest_folder+article.docid)\n",
    "article.simple_csv_output(dest_folder)"
   ]
  },
  {
   "cell_type": "code",
   "execution_count": 9,
   "metadata": {},
   "outputs": [
    {
     "name": "stdout",
     "output_type": "stream",
     "text": [
      "Writing transdata/train/1397928\n",
      "Writing transdata/train/1609775\n",
      "Writing transdata/train/297100\n",
      "Writing transdata/train/448007\n",
      "Writing transdata/train/1463610\n",
      "Writing transdata/train/590096\n",
      "Writing transdata/train/762936\n",
      "Writing transdata/train/1570877\n",
      "Writing transdata/train/1725268\n",
      "Writing transdata/train/1647864\n",
      "Writing transdata/train/1251662\n",
      "Writing transdata/train/551924\n",
      "Writing transdata/train/74723\n",
      "Writing transdata/train/1535917\n",
      "Writing transdata/train/744457\n",
      "Writing transdata/train/97129\n",
      "Writing transdata/train/899133\n",
      "Writing transdata/train/791668\n",
      "Writing transdata/train/779448\n",
      "Writing transdata/train/1287650\n",
      "Writing transdata/train/927546\n",
      "Writing transdata/train/1587613\n",
      "Writing transdata/train/638654\n",
      "Writing transdata/train/870914\n",
      "Writing transdata/train/800527\n",
      "Writing transdata/train/1584905\n",
      "Writing transdata/train/1287373\n",
      "Writing transdata/train/1337862\n",
      "Writing transdata/train/1646102\n",
      "Writing transdata/train/1363692\n",
      "Writing transdata/train/50986\n",
      "Writing transdata/train/1481311\n",
      "Writing transdata/train/1265869\n",
      "Writing transdata/train/199802\n",
      "Writing transdata/train/1000735\n",
      "Writing transdata/train/1537677\n",
      "Writing transdata/train/700412\n",
      "Writing transdata/train/1043116\n",
      "Writing transdata/train/1509284\n",
      "Writing transdata/train/1562666\n"
     ]
    }
   ],
   "source": [
    "# attempt 50 article write minus filtered out\n",
    "for path in train_paths[:50]:\n",
    "    article = NYTArticle.from_file(os.path.join('data',path[0]))\n",
    "    if article.pass_filters():\n",
    "        print(\"Writing\", dest_folder+article.docid)\n",
    "        article.simple_csv_output(dest_folder)"
   ]
  },
  {
   "cell_type": "code",
   "execution_count": 11,
   "metadata": {},
   "outputs": [
    {
     "name": "stdout",
     "output_type": "stream",
     "text": [
      "\n",
      "... processed 1001 files in 2.489995241165161 seconds\n"
     ]
    }
   ],
   "source": [
    "# write all filtered articles in train set\n",
    "opened_article = 0\n",
    "written_article = 0\n",
    "start = time.time()\n",
    "for path in train_paths:\n",
    "    opened_article += 1\n",
    "    article = NYTArticle.from_file(os.path.join('data',path[0]))\n",
    "    if article.pass_filters():\n",
    "        written_article += 1\n",
    "        article.simple_csv_output(dest_folder)\n",
    "    if opened_article % 10000 == 0:\n",
    "        print(\"Opened\", opened_article,\"articles. Output\", written_article,\"articles.\")\n",
    "print(f\"\\n... processed {opened_article} files in {time.time() - start} seconds\")"
   ]
  },
  {
   "cell_type": "code",
   "execution_count": 17,
   "metadata": {},
   "outputs": [
    {
     "data": {
      "text/html": [
       "<div>\n",
       "<style scoped>\n",
       "    .dataframe tbody tr th:only-of-type {\n",
       "        vertical-align: middle;\n",
       "    }\n",
       "\n",
       "    .dataframe tbody tr th {\n",
       "        vertical-align: top;\n",
       "    }\n",
       "\n",
       "    .dataframe thead th {\n",
       "        text-align: right;\n",
       "    }\n",
       "</style>\n",
       "<table border=\"1\" class=\"dataframe\">\n",
       "  <thead>\n",
       "    <tr style=\"text-align: right;\">\n",
       "      <th></th>\n",
       "      <th>headline</th>\n",
       "      <th>body</th>\n",
       "    </tr>\n",
       "  </thead>\n",
       "  <tbody>\n",
       "    <tr>\n",
       "      <th>0</th>\n",
       "      <td>A Killer, Yes, but She's a Good Old Girl</td>\n",
       "      <td>Aileen Wuornos was big news 10 years ago. At a...</td>\n",
       "    </tr>\n",
       "    <tr>\n",
       "      <th>1</th>\n",
       "      <td>How High's The Bidding, Mama?</td>\n",
       "      <td>THE blue Rolls Royce sat at the York Street cu...</td>\n",
       "    </tr>\n",
       "    <tr>\n",
       "      <th>2</th>\n",
       "      <td>Pacificorp reports earnings for Qtr to Sept 30</td>\n",
       "      <td>LEAD:\\n*3*** COMPANY REPORTS **\\n*3* Pacificor...</td>\n",
       "    </tr>\n",
       "    <tr>\n",
       "      <th>3</th>\n",
       "      <td>Stewart Set to Return</td>\n",
       "      <td>There is bad news for Oakland's competition in...</td>\n",
       "    </tr>\n",
       "    <tr>\n",
       "      <th>4</th>\n",
       "      <td>Taxing Online Sales</td>\n",
       "      <td>To the Editor:\\nRe ''So Many Online Sales, So ...</td>\n",
       "    </tr>\n",
       "  </tbody>\n",
       "</table>\n",
       "</div>"
      ],
      "text/plain": [
       "                                         headline  \\\n",
       "0        A Killer, Yes, but She's a Good Old Girl   \n",
       "1                   How High's The Bidding, Mama?   \n",
       "2  Pacificorp reports earnings for Qtr to Sept 30   \n",
       "3                           Stewart Set to Return   \n",
       "4                             Taxing Online Sales   \n",
       "\n",
       "                                                body  \n",
       "0  Aileen Wuornos was big news 10 years ago. At a...  \n",
       "1  THE blue Rolls Royce sat at the York Street cu...  \n",
       "2  LEAD:\\n*3*** COMPANY REPORTS **\\n*3* Pacificor...  \n",
       "3  There is bad news for Oakland's competition in...  \n",
       "4  To the Editor:\\nRe ''So Many Online Sales, So ...  "
      ]
     },
     "execution_count": 17,
     "metadata": {},
     "output_type": "execute_result"
    }
   ],
   "source": [
    "# build dataframe with articles\n",
    "sample = 1000\n",
    "\n",
    "headlines = []\n",
    "bodies = []\n",
    "\n",
    "for path in train_paths[:sample]:\n",
    "    article = NYTArticle.from_file(os.path.join('data',path[0]))\n",
    "    if article.pass_filters():\n",
    "        article.simple_csv_output(dest_folder)\n",
    "        headlines.append(article.print_hede[0])\n",
    "        # join paragraphs for now, may want to do something else later\n",
    "        bodies.append('\\n'.join(article.paragraphs))\n",
    "\n",
    "train_df = pd.DataFrame(data={'headline':headlines, 'body':bodies})\n",
    "train_df.head()"
   ]
  },
  {
   "cell_type": "markdown",
   "metadata": {},
   "source": [
    "## Trying to imitate BERT"
   ]
  },
  {
   "cell_type": "code",
   "execution_count": 27,
   "metadata": {},
   "outputs": [],
   "source": [
    "DATA_COLUMN = 'body'\n",
    "LABEL_COLUMN = 'headline'\n",
    "\n",
    "# Use the InputExample class from BERT's run_classifier code to create examples from the data\n",
    "train_InputExamples = train_df.apply(lambda x: bert.run_classifier.InputExample(guid=None, # Globally unique ID for bookkeeping, unused in this example\n",
    "                                                                   text_a = x[DATA_COLUMN], \n",
    "                                                                   text_b = None, \n",
    "                                                                   label = x[LABEL_COLUMN]), axis = 1)\n",
    "\n",
    "# test_InputExamples = test.apply(lambda x: bert.run_classifier.InputExample(guid=None, \n",
    "#                                                                    text_a = x[DATA_COLUMN], \n",
    "#                                                                    text_b = None, \n",
    "#                                                                    label = x[LABEL_COLUMN]),"
   ]
  }
 ],
 "metadata": {
  "kernelspec": {
   "display_name": "Python 3",
   "language": "python",
   "name": "python3"
  },
  "language_info": {
   "codemirror_mode": {
    "name": "ipython",
    "version": 3
   },
   "file_extension": ".py",
   "mimetype": "text/x-python",
   "name": "python",
   "nbconvert_exporter": "python",
   "pygments_lexer": "ipython3",
   "version": "3.7.3"
  }
 },
 "nbformat": 4,
 "nbformat_minor": 2
}
