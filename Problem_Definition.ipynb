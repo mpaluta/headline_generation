{
 "cells": [
  {
   "cell_type": "code",
   "execution_count": 1,
   "metadata": {},
   "outputs": [
    {
     "name": "stderr",
     "output_type": "stream",
     "text": [
      "WARNING: Logging before flag parsing goes to stderr.\n",
      "W0716 21:11:51.484690 140588607846208 deprecation_wrapper.py:119] From /home/mark/anaconda3/lib/python3.7/site-packages/tensor2tensor/utils/expert_utils.py:68: The name tf.variable_scope is deprecated. Please use tf.compat.v1.variable_scope instead.\n",
      "\n",
      "W0716 21:11:52.057594 140588607846208 lazy_loader.py:50] \n",
      "The TensorFlow contrib module will not be included in TensorFlow 2.0.\n",
      "For more information, please see:\n",
      "  * https://github.com/tensorflow/community/blob/master/rfcs/20180907-contrib-sunset.md\n",
      "  * https://github.com/tensorflow/addons\n",
      "  * https://github.com/tensorflow/io (for I/O related ops)\n",
      "If you depend on functionality not listed there, please file an issue.\n",
      "\n"
     ]
    }
   ],
   "source": [
    "# from tensor2tensor.data_generators import text_problems\n",
    "# import tensor2tensor.data_generators as dg"
   ]
  },
  {
   "cell_type": "code",
   "execution_count": 3,
   "metadata": {},
   "outputs": [
    {
     "name": "stdout",
     "output_type": "stream",
     "text": [
      "WARNING: Logging before flag parsing goes to stderr.\n",
      "W0717 20:50:02.642242 140250224777024 deprecation_wrapper.py:119] From /home/mark/anaconda3/lib/python3.7/site-packages/tensor2tensor/utils/expert_utils.py:68: The name tf.variable_scope is deprecated. Please use tf.compat.v1.variable_scope instead.\n",
      "\n",
      "W0717 20:50:03.185355 140250224777024 lazy_loader.py:50] \n",
      "The TensorFlow contrib module will not be included in TensorFlow 2.0.\n",
      "For more information, please see:\n",
      "  * https://github.com/tensorflow/community/blob/master/rfcs/20180907-contrib-sunset.md\n",
      "  * https://github.com/tensorflow/addons\n",
      "  * https://github.com/tensorflow/io (for I/O related ops)\n",
      "If you depend on functionality not listed there, please file an issue.\n",
      "\n",
      "W0717 20:50:04.685442 140250224777024 deprecation_wrapper.py:119] From /home/mark/anaconda3/lib/python3.7/site-packages/tensor2tensor/utils/adafactor.py:27: The name tf.train.Optimizer is deprecated. Please use tf.compat.v1.train.Optimizer instead.\n",
      "\n",
      "W0717 20:50:04.685720 140250224777024 deprecation_wrapper.py:119] From /home/mark/anaconda3/lib/python3.7/site-packages/tensor2tensor/utils/multistep_optimizer.py:32: The name tf.train.AdamOptimizer is deprecated. Please use tf.compat.v1.train.AdamOptimizer instead.\n",
      "\n",
      "W0717 20:50:04.693092 140250224777024 deprecation_wrapper.py:119] From /home/mark/anaconda3/lib/python3.7/site-packages/mesh_tensorflow/ops.py:4237: The name tf.train.CheckpointSaverListener is deprecated. Please use tf.estimator.CheckpointSaverListener instead.\n",
      "\n",
      "W0717 20:50:04.693195 140250224777024 deprecation_wrapper.py:119] From /home/mark/anaconda3/lib/python3.7/site-packages/mesh_tensorflow/ops.py:4260: The name tf.train.SessionRunHook is deprecated. Please use tf.estimator.SessionRunHook instead.\n",
      "\n",
      "W0717 20:50:04.714238 140250224777024 deprecation_wrapper.py:119] From /home/mark/anaconda3/lib/python3.7/site-packages/tensor2tensor/rl/gym_utils.py:219: The name tf.logging.info is deprecated. Please use tf.compat.v1.logging.info instead.\n",
      "\n",
      "W0717 20:50:04.735913 140250224777024 deprecation_wrapper.py:119] From /home/mark/anaconda3/lib/python3.7/site-packages/tensor2tensor/utils/trainer_lib.py:109: The name tf.OptimizerOptions is deprecated. Please use tf.compat.v1.OptimizerOptions instead.\n",
      "\n",
      "W0717 20:50:05.022249 140250224777024 deprecation_wrapper.py:119] From /home/mark/anaconda3/bin/t2t-trainer:32: The name tf.logging.set_verbosity is deprecated. Please use tf.compat.v1.logging.set_verbosity instead.\n",
      "\n",
      "W0717 20:50:05.022378 140250224777024 deprecation_wrapper.py:119] From /home/mark/anaconda3/bin/t2t-trainer:32: The name tf.logging.INFO is deprecated. Please use tf.compat.v1.logging.INFO instead.\n",
      "\n",
      "W0717 20:50:05.022493 140250224777024 deprecation_wrapper.py:119] From /home/mark/anaconda3/bin/t2t-trainer:33: The name tf.app.run is deprecated. Please use tf.compat.v1.app.run instead.\n",
      "\n",
      "I0717 20:50:05.022829 140250224777024 usr_dir.py:43] Importing user module headline_generation from path /home/mark/Desktop\n",
      "W0717 20:50:05.023646 140250224777024 deprecation_wrapper.py:119] From /home/mark/anaconda3/lib/python3.7/site-packages/tensor2tensor/utils/hparams_lib.py:49: The name tf.gfile.Exists is deprecated. Please use tf.io.gfile.exists instead.\n",
      "\n",
      "W0717 20:50:05.023787 140250224777024 deprecation_wrapper.py:119] From /home/mark/anaconda3/lib/python3.7/site-packages/tensor2tensor/utils/trainer_lib.py:780: The name tf.set_random_seed is deprecated. Please use tf.compat.v1.set_random_seed instead.\n",
      "\n",
      "W0717 20:50:05.024509 140250224777024 deprecation_wrapper.py:119] From /home/mark/anaconda3/lib/python3.7/site-packages/tensor2tensor/utils/trainer_lib.py:121: The name tf.GraphOptions is deprecated. Please use tf.compat.v1.GraphOptions instead.\n",
      "\n",
      "W0717 20:50:05.024626 140250224777024 deprecation_wrapper.py:119] From /home/mark/anaconda3/lib/python3.7/site-packages/tensor2tensor/utils/trainer_lib.py:127: The name tf.GPUOptions is deprecated. Please use tf.compat.v1.GPUOptions instead.\n",
      "\n",
      "W0717 20:50:05.024750 140250224777024 deprecation.py:323] From /home/mark/anaconda3/lib/python3.7/site-packages/tensor2tensor/utils/trainer_lib.py:240: RunConfig.__init__ (from tensorflow.contrib.learn.python.learn.estimators.run_config) is deprecated and will be removed in a future version.\n",
      "Instructions for updating:\n",
      "When switching to tf.estimator.Estimator, use tf.estimator.RunConfig instead.\n",
      "I0717 20:50:05.024869 140250224777024 trainer_lib.py:263] Configuring DataParallelism to replicate the model.\n",
      "I0717 20:50:05.024919 140250224777024 devices.py:76] schedule=continuous_train_and_eval\n",
      "I0717 20:50:05.024961 140250224777024 devices.py:77] worker_gpu=1\n",
      "I0717 20:50:05.025001 140250224777024 devices.py:78] sync=False\n",
      "W0717 20:50:05.025058 140250224777024 deprecation_wrapper.py:119] From /home/mark/anaconda3/lib/python3.7/site-packages/tensor2tensor/utils/devices.py:139: The name tf.logging.warn is deprecated. Please use tf.compat.v1.logging.warn instead.\n",
      "\n",
      "W0717 20:50:05.025100 140250224777024 devices.py:141] Schedule=continuous_train_and_eval. Assuming that training is running on a single machine.\n",
      "I0717 20:50:05.025262 140250224777024 devices.py:170] datashard_devices: ['gpu:0']\n",
      "I0717 20:50:05.025305 140250224777024 devices.py:171] caching_devices: None\n",
      "I0717 20:50:05.025407 140250224777024 devices.py:172] ps_devices: ['gpu:0']\n",
      "Traceback (most recent call last):\n",
      "  File \"/home/mark/anaconda3/bin/t2t-trainer\", line 33, in <module>\n",
      "    tf.app.run()\n",
      "  File \"/home/mark/anaconda3/lib/python3.7/site-packages/tensorflow/python/platform/app.py\", line 40, in run\n",
      "    _run(main=main, argv=argv, flags_parser=_parse_flags_tolerate_undef)\n",
      "  File \"/home/mark/anaconda3/lib/python3.7/site-packages/absl/app.py\", line 300, in run\n",
      "    _run_main(main, args)\n",
      "  File \"/home/mark/anaconda3/lib/python3.7/site-packages/absl/app.py\", line 251, in _run_main\n",
      "    sys.exit(main(argv))\n",
      "  File \"/home/mark/anaconda3/bin/t2t-trainer\", line 28, in main\n",
      "    t2t_trainer.main(argv)\n",
      "  File \"/home/mark/anaconda3/lib/python3.7/site-packages/tensor2tensor/bin/t2t_trainer.py\", line 398, in main\n",
      "    exp = exp_fn(create_run_config(hparams), hparams)\n",
      "  File \"/home/mark/anaconda3/lib/python3.7/site-packages/tensor2tensor/utils/trainer_lib.py\", line 774, in experiment_fn\n",
      "    return create_experiment(run_config, hparams, *args, **kwargs)\n",
      "  File \"/home/mark/anaconda3/lib/python3.7/site-packages/tensor2tensor/utils/trainer_lib.py\", line 661, in create_experiment\n",
      "    add_problem_hparams(hparams, problem_name)\n",
      "  File \"/home/mark/anaconda3/lib/python3.7/site-packages/tensor2tensor/utils/hparams_lib.py\", line 99, in add_problem_hparams\n",
      "    p_hparams = problem.get_hparams(hparams)\n",
      "  File \"/home/mark/anaconda3/lib/python3.7/site-packages/tensor2tensor/data_generators/problem.py\", line 524, in get_hparams\n",
      "    self.get_feature_encoders(data_dir)\n",
      "  File \"/home/mark/anaconda3/lib/python3.7/site-packages/tensor2tensor/data_generators/problem.py\", line 510, in get_feature_encoders\n",
      "    self._encoders = self.feature_encoders(data_dir)\n",
      "  File \"/home/mark/anaconda3/lib/python3.7/site-packages/tensor2tensor/data_generators/text_problems.py\", line 199, in feature_encoders\n",
      "    encoder = self.get_or_create_vocab(data_dir, None, force_get=True)\n",
      "  File \"/home/mark/anaconda3/lib/python3.7/site-packages/tensor2tensor/data_generators/text_problems.py\", line 244, in get_or_create_vocab\n",
      "    encoder = text_encoder.SubwordTextEncoder(vocab_filepath)\n",
      "  File \"/home/mark/anaconda3/lib/python3.7/site-packages/tensor2tensor/data_generators/text_encoder.py\", line 491, in __init__\n",
      "    self._load_from_file(filename)\n",
      "  File \"/home/mark/anaconda3/lib/python3.7/site-packages/tensor2tensor/data_generators/text_encoder.py\", line 939, in _load_from_file\n",
      "    raise ValueError(\"File %s not found\" % filename)\n",
      "ValueError: File /home/mark/t2t_data/vocab.gavrilov.32768.subwords not found\n"
     ]
    }
   ],
   "source": [
    "! t2t-trainer \\\n",
    "--t2t_usr_dir=\".\" \\\n",
    "--problem=\"gavrilov\" \\\n",
    "--model=\"transformer\" \\\n",
    "--hparams_set=\"transformer_prepend\" \\\n",
    "--data_dir=~/t2t_data \\\n",
    "--output_dir=~/t2t_train/sum \\\n",
    "--train_steps=10 \\\n",
    "--eval_steps=1"
   ]
  }
 ],
 "metadata": {
  "kernelspec": {
   "display_name": "Python 3",
   "language": "python",
   "name": "python3"
  },
  "language_info": {
   "codemirror_mode": {
    "name": "ipython",
    "version": 3
   },
   "file_extension": ".py",
   "mimetype": "text/x-python",
   "name": "python",
   "nbconvert_exporter": "python",
   "pygments_lexer": "ipython3",
   "version": "3.7.3"
  }
 },
 "nbformat": 4,
 "nbformat_minor": 2
}
