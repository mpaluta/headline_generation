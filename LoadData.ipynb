{
 "cells": [
  {
   "cell_type": "markdown",
   "metadata": {},
   "source": [
    "# W266 - Headline Project"
   ]
  },
  {
   "cell_type": "markdown",
   "metadata": {},
   "source": [
    "### Load in the data"
   ]
  },
  {
   "cell_type": "code",
   "execution_count": 16,
   "metadata": {},
   "outputs": [],
   "source": [
    "from NYT_parser import NYTArticle\n",
    "\n",
    "root_path = './data/'\n",
    "subset = '2007/05/01/'\n",
    "onedoc = '1844170.xml'\n",
    "\n",
    "testdoc_path = root_path + subset + onedoc\n",
    "\n",
    "with open(testdoc_path,encoding = 'utf-8') as f:\n",
    "    article = NYTArticle.from_file(f)\n",
    "\n"
   ]
  },
  {
   "cell_type": "code",
   "execution_count": 17,
   "metadata": {},
   "outputs": [
    {
     "data": {
      "text/plain": [
       "'Post-Minimalist Inspirations, From Bells to Subway Noise'"
      ]
     },
     "execution_count": 17,
     "metadata": {},
     "output_type": "execute_result"
    }
   ],
   "source": [
    "# how does this differ from the headline??\n",
    "article.title"
   ]
  },
  {
   "cell_type": "code",
   "execution_count": 18,
   "metadata": {},
   "outputs": [
    {
     "data": {
      "text/plain": [
       "'1844170'"
      ]
     },
     "execution_count": 18,
     "metadata": {},
     "output_type": "execute_result"
    }
   ],
   "source": [
    "# document ID (filename)\n",
    "article.docid"
   ]
  },
  {
   "cell_type": "code",
   "execution_count": 19,
   "metadata": {},
   "outputs": [
    {
     "data": {
      "text/plain": [
       "datetime.datetime(2007, 5, 1, 0, 0)"
      ]
     },
     "execution_count": 19,
     "metadata": {},
     "output_type": "execute_result"
    }
   ],
   "source": [
    "# date in a datetime format\n",
    "article.date"
   ]
  },
  {
   "cell_type": "code",
   "execution_count": 20,
   "metadata": {},
   "outputs": [
    {
     "data": {
      "text/plain": [
       "[]"
      ]
     },
     "execution_count": 20,
     "metadata": {},
     "output_type": "execute_result"
    }
   ],
   "source": [
    "# summary -- few docs seem to have?\n",
    "article.summary"
   ]
  },
  {
   "cell_type": "code",
   "execution_count": 21,
   "metadata": {},
   "outputs": [
    {
     "data": {
      "text/plain": [
       "[]"
      ]
     },
     "execution_count": 21,
     "metadata": {},
     "output_type": "execute_result"
    }
   ],
   "source": [
    "# dateline -- location (city, state) and pub date\n",
    "article.dateline"
   ]
  },
  {
   "cell_type": "code",
   "execution_count": 22,
   "metadata": {},
   "outputs": [
    {
     "data": {
      "text/plain": [
       "['Post-Minimalist Inspirations, From Bells to Subway Noise']"
      ]
     },
     "execution_count": 22,
     "metadata": {},
     "output_type": "execute_result"
    }
   ],
   "source": [
    "# headline that ran in the print edition\n",
    "article.print_hede"
   ]
  },
  {
   "cell_type": "code",
   "execution_count": 23,
   "metadata": {},
   "outputs": [
    {
     "data": {
      "text/plain": [
       "['Post-Minimalist Inspirations, From Bells to Subway Noise']"
      ]
     },
     "execution_count": 23,
     "metadata": {},
     "output_type": "execute_result"
    }
   ],
   "source": [
    "# headline that ran on the website version\n",
    "article.online_hede"
   ]
  },
  {
   "cell_type": "code",
   "execution_count": 24,
   "metadata": {},
   "outputs": [
    {
     "data": {
      "text/plain": [
       "['The basic elements of Minimalism -- tonality, rhythmic regularity, repetition of brief melodic cells -- are reasonably easy to summarize. Post-Minimalism is harder to pin down: Composers lumped under this untidy rubric vary widely in style. Just how widely was demonstrated in a program presented on Saturday night by the adventurous new-music ensemble Opus 21, based in Kalamazoo, Mich., at the Leonard Nimoy Thalia Theater at Symphony Space.',\n",
       " \"The tone of the concert was engaging and informal, with most of the composers on hand to introduce their pieces. The clarinetist Bradley Wong referred to Steve Reich's ''New York Counterpoint'' (1985) as this group's version of early music. Mr. Wong provided an alert account of a piece filled with the rippling rhythms and bubbly melodies that denote Minimalism to most listeners.\"]"
      ]
     },
     "execution_count": 24,
     "metadata": {},
     "output_type": "execute_result"
    }
   ],
   "source": [
    "# opening paragraph\n",
    "article.lede"
   ]
  },
  {
   "cell_type": "code",
   "execution_count": 25,
   "metadata": {},
   "outputs": [
    {
     "data": {
      "text/plain": [
       "['classical music']"
      ]
     },
     "execution_count": 25,
     "metadata": {},
     "output_type": "execute_result"
    }
   ],
   "source": [
    "# topic tags\n",
    "article.descriptors"
   ]
  },
  {
   "cell_type": "code",
   "execution_count": 26,
   "metadata": {},
   "outputs": [
    {
     "data": {
      "text/plain": [
       "['classical music', 'music']"
      ]
     },
     "execution_count": 26,
     "metadata": {},
     "output_type": "execute_result"
    }
   ],
   "source": [
    "# more extensive tags?\n",
    "article.general_descriptors"
   ]
  },
  {
   "cell_type": "code",
   "execution_count": 27,
   "metadata": {},
   "outputs": [
    {
     "data": {
      "text/plain": [
       "['review']"
      ]
     },
     "execution_count": 27,
     "metadata": {},
     "output_type": "execute_result"
    }
   ],
   "source": [
    "# more extensive tags?\n",
    "article.types_of_material"
   ]
  },
  {
   "cell_type": "code",
   "execution_count": 28,
   "metadata": {},
   "outputs": [
    {
     "data": {
      "text/plain": [
       "'418'"
      ]
     },
     "execution_count": 28,
     "metadata": {},
     "output_type": "execute_result"
    }
   ],
   "source": [
    "article.wordcount"
   ]
  },
  {
   "cell_type": "code",
   "execution_count": 29,
   "metadata": {},
   "outputs": [
    {
     "data": {
      "text/plain": [
       "'E'"
      ]
     },
     "execution_count": 29,
     "metadata": {},
     "output_type": "execute_result"
    }
   ],
   "source": [
    "# section of the print newspaper\n",
    "article.section"
   ]
  },
  {
   "cell_type": "code",
   "execution_count": 30,
   "metadata": {},
   "outputs": [
    {
     "data": {
      "text/plain": [
       "['The basic elements of Minimalism -- tonality, rhythmic regularity, repetition of brief melodic cells -- are reasonably easy to summarize. Post-Minimalism is harder to pin down: Composers lumped under this untidy rubric vary widely in style. Just how widely was demonstrated in a program presented on Saturday night by the adventurous new-music ensemble Opus 21, based in Kalamazoo, Mich., at the Leonard Nimoy Thalia Theater at Symphony Space.',\n",
       " \"The tone of the concert was engaging and informal, with most of the composers on hand to introduce their pieces. The clarinetist Bradley Wong referred to Steve Reich's ''New York Counterpoint'' (1985) as this group's version of early music. Mr. Wong provided an alert account of a piece filled with the rippling rhythms and bubbly melodies that denote Minimalism to most listeners.\",\n",
       " \"At the opposite extreme was the Dutch composer Louis Andriessen's ''Klokken voor Haarlem'' (''Bells for Haarlem''), from 2002, in its New York premiere. This piece opened with a mildly dissonant three-note theme on piano, celesta, percussion and synthesizer. Its tiny, incremental shifts were occasionally interrupted by busy outbursts that suggested the tolling of the hour.\",\n",
       " \"Even more jarring was David Lang's ''Stick Figure'' (2001), in which Mr. Wong and the cellist Alexa Muhly offered gentle melodic swells and pulsations persistently shattered by harsh explosions from three drummers. The pianist Yu-Lien The provided enigmatic counterpoint.\",\n",
       " \"Several of the young composers commissioned to write works for this program described their initial encounters with Mr. Reich's music as epiphanies. Bill Ryan explored additive process in ''Rapid Assembly,'' opening with a perky melodic kernel that grew more elaborate and jazzy with each pass.\",\n",
       " \"A crystalline shimmer of notes that flickered among the players gradually broadened into longer phrases in Marc Dancigers's ''Thaw.'' The piece was rich in beguiling timbres; one especially memorable passage paired Ms. Muhly's spiccato bounces with twinkling crotales. Anna Clyne's bustling, inventive ''Next.Stop'' was filled with melodies and rhythms derived from recorded subway announcements and other urban noises, punctuated by distorted growls and buzzes. Voices were electronically stretched in a slow central section, the sound curiously reminiscent of a muezzin's call to prayer.\",\n",
       " \"Richard Adams, the founder and artistic director of Opus 21, simulated the effects of gravity in his tuneful ''Free Fall'' with a loose scattering of high notes accelerated and increased in density.\",\n",
       " \"The program closed with the racing rhythms and sudden gearshifts of Dennis DeSantis's ''One Trick Pony.'' Its title, he said, was inspired by his proclivity for writing seven-minute pulse-oriented works, like this one.\",\n",
       " 'MUSIC REVIEW',\n",
       " \"Correction:  May 4, 2007, Friday  A music review on Tuesday of the group Opus 21, at Symphony Space, misspelled the given name of the composer of ''Thaw,'' a work the group played. He is Mark Dancigers, not Marc.\"]"
      ]
     },
     "execution_count": 30,
     "metadata": {},
     "output_type": "execute_result"
    }
   ],
   "source": [
    "# body text but also includes subhead, book title data, endbyline, section title -- all kinds of stuff\n",
    "article.paragraphs"
   ]
  },
  {
   "cell_type": "code",
   "execution_count": null,
   "metadata": {},
   "outputs": [],
   "source": []
  }
 ],
 "metadata": {
  "kernelspec": {
   "display_name": "Python 3",
   "language": "python",
   "name": "python3"
  },
  "language_info": {
   "codemirror_mode": {
    "name": "ipython",
    "version": 3
   },
   "file_extension": ".py",
   "mimetype": "text/x-python",
   "name": "python",
   "nbconvert_exporter": "python",
   "pygments_lexer": "ipython3",
   "version": "3.6.5"
  }
 },
 "nbformat": 4,
 "nbformat_minor": 2
}
