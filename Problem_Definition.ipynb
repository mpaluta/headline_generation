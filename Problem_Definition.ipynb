{
 "cells": [
  {
   "cell_type": "markdown",
   "metadata": {},
   "source": [
    "### Train and evaluate on dev data"
   ]
  },
  {
   "cell_type": "code",
   "execution_count": null,
   "metadata": {},
   "outputs": [],
   "source": [
    "! t2t-trainer \\\n",
    "--t2t_usr_dir=\".\" \\\n",
    "--generate_data \\\n",
    "--problem=\"gavrilov\" \\\n",
    "--model=\"transformer\" \\\n",
    "--hparams_set=\"transformer_prepend\" \\\n",
    "--data_dir=\"./data/nyt\" \\\n",
    "--output_dir=\"./data/nyt/sum\" \\\n",
    "--train_steps=10 \\\n",
    "--eval_steps=1"
   ]
  },
  {
   "cell_type": "markdown",
   "metadata": {},
   "source": [
    "### Generate a headline on command"
   ]
  },
  {
   "cell_type": "code",
   "execution_count": null,
   "metadata": {},
   "outputs": [],
   "source": [
    "! t2t-decoder \\\n",
    "  --data_dir=\"./data/nyt\" \\\n",
    "  --problem=\"gavrilov\" \\\n",
    "  --model=\"transformer\" \\\n",
    "  --hparams_set=\"transformer_prepend\" \\\n",
    "  --output_dir=\"./data/nyt/sum\" \\\n",
    "  --decode_hparams=\"beam_size=10,alpha=$ALPHA\" \\\n",
    "  --decode_from_file=$DECODE_FILE \\\n",
    "  --decode_to_file=translation.en"
   ]
  },
  {
   "cell_type": "code",
   "execution_count": null,
   "metadata": {},
   "outputs": [],
   "source": []
  }
 ],
 "metadata": {
  "kernelspec": {
   "display_name": "Python 3",
   "language": "python",
   "name": "python3"
  },
  "language_info": {
   "codemirror_mode": {
    "name": "ipython",
    "version": 3
   },
   "file_extension": ".py",
   "mimetype": "text/x-python",
   "name": "python",
   "nbconvert_exporter": "python",
   "pygments_lexer": "ipython3",
   "version": "3.7.3"
  }
 },
 "nbformat": 4,
 "nbformat_minor": 2
}
