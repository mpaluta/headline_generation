{
 "cells": [
  {
   "cell_type": "markdown",
   "metadata": {},
   "source": [
    "# W266 - Headline Project"
   ]
  },
  {
   "cell_type": "markdown",
   "metadata": {},
   "source": [
    "### Split the data into train, dev, test"
   ]
  },
  {
   "cell_type": "code",
   "execution_count": 24,
   "metadata": {},
   "outputs": [],
   "source": [
    "# libraries and filepaths\n",
    "import os\n",
    "import csv\n",
    "import numpy as np\n",
    "from NYT_parser import NYTArticle\n",
    "\n",
    "root_path = './data/' # point this to the unzipped & untared data subfolder in NYT Annotated corpus \n",
    "log_file=\"./log_file.log\" # this file contains complete list of all xml files\n"
   ]
  },
  {
   "cell_type": "code",
   "execution_count": 25,
   "metadata": {},
   "outputs": [],
   "source": [
    "# this creates a log file containing the names of all xml files in the corpus\n",
    "with open(log_file,'w',encoding='utf-8', newline='') as resultFile:\n",
    "    wr = csv.writer(resultFile)\n",
    "    for root, dirs, files in sorted(os.walk(root_path)):\n",
    "        for file in sorted(files):\n",
    "            if file.endswith(\".xml\"):\n",
    "                filepath = os.path.join(root, file)\n",
    "                if \"data/\" in filepath:\n",
    "                    filepath = filepath[filepath.find(\"data/\")+5:]\n",
    "                wr.writerow([filepath])\n",
    "            "
   ]
  },
  {
   "cell_type": "code",
   "execution_count": 26,
   "metadata": {},
   "outputs": [],
   "source": [
    "# read log with all xml filenames in and put into a list\n",
    "file_list = []\n",
    "with open(log_file, encoding='utf-8', newline='') as f:\n",
    "    reader = csv.reader(f)\n",
    "    for row in reader:\n",
    "        if row:\n",
    "            file_list.append(row[0])"
   ]
  },
  {
   "cell_type": "code",
   "execution_count": 27,
   "metadata": {},
   "outputs": [
    {
     "name": "stdout",
     "output_type": "stream",
     "text": [
      "Read 1855658 files from the log.\n"
     ]
    }
   ],
   "source": [
    "# check you've got it loaded\n",
    "print(\"Read\", len(file_list), \"files from the log.\")\n",
    "\n",
    "# should see 1855658 files"
   ]
  },
  {
   "cell_type": "code",
   "execution_count": 28,
   "metadata": {},
   "outputs": [
    {
     "name": "stdout",
     "output_type": "stream",
     "text": [
      "1995/01/25/0739212.xml\n"
     ]
    }
   ],
   "source": [
    "# shuffle the filenames in place in the list\n",
    "np.random.seed(seed=100)\n",
    "np.random.shuffle(file_list)\n",
    "\n",
    "print(file_list[0])\n",
    "# expected output\n",
    "# 1995/01/25/0739212.xml"
   ]
  },
  {
   "cell_type": "code",
   "execution_count": 29,
   "metadata": {},
   "outputs": [
    {
     "name": "stdout",
     "output_type": "stream",
     "text": [
      "There are 1855658 total files in the dataset.\n",
      "There are 1298960 train set files, 185565 dev set files, 371133 test set files.\n"
     ]
    }
   ],
   "source": [
    "# split the train, dev, test sets\n",
    "num_files = len(file_list)\n",
    "train_split = int(num_files * 0.7)\n",
    "dev_split = train_split + int(num_files * 0.1) # rest is test\n",
    "train_files = file_list[0:train_split]\n",
    "dev_files = file_list[train_split:dev_split]\n",
    "test_files = file_list[dev_split:]\n",
    "print(\"There are\",num_files,\"total files in the dataset.\")\n",
    "print(\"There are\",len(train_files),\"train set files,\" ,len(dev_files),\"dev set files,\",len(test_files),\"test set files.\")"
   ]
  },
  {
   "cell_type": "code",
   "execution_count": 30,
   "metadata": {},
   "outputs": [],
   "source": [
    "# write the train, dev, test file IDs to log files\n",
    "with open(\"train_IDs.csv\",'w') as resultFile:\n",
    "    wr = csv.writer(resultFile)\n",
    "    for file_id in train_files:    \n",
    "        wr.writerow([file_id])\n",
    "with open(\"dev_IDs.csv\",'w') as resultFile:\n",
    "    wr = csv.writer(resultFile)\n",
    "    for file_id in dev_files:\n",
    "        wr.writerow([file_id])\n",
    "with open(\"test_IDs.csv\",'w') as resultFile:\n",
    "    wr = csv.writer(resultFile)\n",
    "    for file_id in test_files:\n",
    "        wr.writerow([file_id])"
   ]
  },
  {
   "cell_type": "code",
   "execution_count": 31,
   "metadata": {},
   "outputs": [],
   "source": [
    "# IF YOU WANT, YOU COULD JUST START HERE\n",
    "# loads in the train, dev, test file IDs into lists\n",
    "train_IDs = []\n",
    "dev_IDs = []\n",
    "test_IDs = []\n",
    "with open(\"train_IDs.csv\", newline='') as f:\n",
    "    reader = csv.reader(f)\n",
    "    for row in reader:\n",
    "        if row:\n",
    "            train_IDs.append(row[0])\n",
    "with open(\"dev_IDs.csv\", newline='') as f:\n",
    "    reader = csv.reader(f)\n",
    "    for row in reader:\n",
    "        if row:\n",
    "            dev_IDs.append(row[0])\n",
    "with open(\"test_IDs.csv\", newline='') as f:\n",
    "    reader = csv.reader(f)\n",
    "    for row in reader: \n",
    "        if row:\n",
    "            test_IDs.append(row[0])"
   ]
  },
  {
   "cell_type": "code",
   "execution_count": 32,
   "metadata": {},
   "outputs": [
    {
     "name": "stdout",
     "output_type": "stream",
     "text": [
      "There are 1855658 total files in the dataset.\n",
      "There are 1298960 train set files, 185565 dev set files, 371133 test set files.\n"
     ]
    }
   ],
   "source": [
    "# confirming sizes\n",
    "print(\"There are\",num_files,\"total files in the dataset.\")\n",
    "print(\"There are\",len(train_IDs),\"train set files,\" ,len(dev_IDs),\"dev set files,\",len(test_IDs),\"test set files.\")\n",
    "\n",
    "# Expected output:\n",
    "# There are 1855658 total files in the dataset.\n",
    "# There are 1298960 train set files, 185565 dev set files, 371133 test set files."
   ]
  }
 ],
 "metadata": {
  "kernelspec": {
   "display_name": "Python 3",
   "language": "python",
   "name": "python3"
  },
  "language_info": {
   "codemirror_mode": {
    "name": "ipython",
    "version": 3
   },
   "file_extension": ".py",
   "mimetype": "text/x-python",
   "name": "python",
   "nbconvert_exporter": "python",
   "pygments_lexer": "ipython3",
   "version": "3.7.3"
  }
 },
 "nbformat": 4,
 "nbformat_minor": 2
}
