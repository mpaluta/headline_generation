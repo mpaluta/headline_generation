{
 "cells": [
  {
   "cell_type": "code",
   "execution_count": 1,
   "metadata": {},
   "outputs": [],
   "source": [
    "import numpy as np\n",
    "import os"
   ]
  },
  {
   "cell_type": "code",
   "execution_count": 9,
   "metadata": {},
   "outputs": [],
   "source": [
    "# filepath vars -- COMMENT IN/OUT RF VS SF DEPENDING ON FILE INGESTING\n",
    "postp_path = './postprocess/' # points to folder containing logs and files for evaluating the models\n",
    "decoder_path = './decoder/' # points to folder with decoder output files\n",
    "output_rf = 'decoder_first_300_rf.txt' # randomly filtered\n",
    "output_sf = 'decoder_test_sf_300.txt' # sentiment filtered\n",
    "baselines = 'baseline.txt' # points to the file with baseline headlines (first 8 words of the body)\n",
    "bodies = 'bodies_300.txt' # points to the file with body text\n",
    "output = 'compare_headlines.txt' # place to write the different headlines with inputs"
   ]
  },
  {
   "cell_type": "code",
   "execution_count": 12,
   "metadata": {},
   "outputs": [],
   "source": [
    "#read\n",
    "with open(os.path.join(postp_path,baselines)) as base_file:\n",
    "    baseline_hede = base_file.readlines()\n",
    "baseline_hede = baseline_hede[:300]\n",
    "with open(os.path.join(postp_path,bodies)) as bodies_file:\n",
    "    body_inputs = bodies_file.readlines()\n",
    "with open(os.path.join(decoder_path,output_rf)) as rand_file:\n",
    "    rand_hede = rand_file.readlines()\n",
    "with open(os.path.join(decoder_path,output_sf)) as sent_file:\n",
    "    sent_hede = sent_file.readlines()\n",
    "\n",
    "#write\n",
    "with open(os.path.join(postp_path, output), \"w+\") as headlines:\n",
    "    for index in range(300):\n",
    "        headlines.write(\"INPUT:\" + body_inputs[index] + \"\\n\")\n",
    "        headlines.write(\"BASELINE HEDE:\" + baseline_hede[index] + \"\\n\")\n",
    "        headlines.write(\"CONTROL HEDE:\" + rand_hede[index] + \"\\n\")\n",
    "        headlines.write(\"EXPERIMENT HEDE:\" + sent_hede[index] + \"\\n\")\n",
    "        headlines.write(\"==================================================\" + \"\\n\")\n",
    "    \n"
   ]
  },
  {
   "cell_type": "code",
   "execution_count": null,
   "metadata": {},
   "outputs": [],
   "source": []
  }
 ],
 "metadata": {
  "kernelspec": {
   "display_name": "Python 3",
   "language": "python",
   "name": "python3"
  },
  "language_info": {
   "codemirror_mode": {
    "name": "ipython",
    "version": 3
   },
   "file_extension": ".py",
   "mimetype": "text/x-python",
   "name": "python",
   "nbconvert_exporter": "python",
   "pygments_lexer": "ipython3",
   "version": "3.7.0"
  }
 },
 "nbformat": 4,
 "nbformat_minor": 2
}
