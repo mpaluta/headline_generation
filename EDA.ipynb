{
 "cells": [
  {
   "cell_type": "markdown",
   "metadata": {},
   "source": [
    "# W266 - Headline Project"
   ]
  },
  {
   "cell_type": "markdown",
   "metadata": {},
   "source": [
    "### Load first training file and explore content"
   ]
  },
  {
   "cell_type": "code",
   "execution_count": 1,
   "metadata": {},
   "outputs": [],
   "source": [
    "import os\n",
    "import csv\n",
    "from NYT_parser import NYTArticle\n",
    "from utilities import *\n",
    "\n",
    "train_paths = data_setup.get_paths('train')\n",
    "article = NYTArticle.from_file(os.path.join('data', train_paths[0][0]))"
   ]
  },
  {
   "cell_type": "code",
   "execution_count": 2,
   "metadata": {},
   "outputs": [
    {
     "data": {
      "text/plain": [
       "'Difficult Lesson in Fund-Raising'"
      ]
     },
     "execution_count": 2,
     "metadata": {},
     "output_type": "execute_result"
    }
   ],
   "source": [
    "# how does this differ from the headline??\n",
    "article.title"
   ]
  },
  {
   "cell_type": "code",
   "execution_count": 3,
   "metadata": {},
   "outputs": [
    {
     "data": {
      "text/plain": [
       "'1022224'"
      ]
     },
     "execution_count": 3,
     "metadata": {},
     "output_type": "execute_result"
    }
   ],
   "source": [
    "# document ID (filename)\n",
    "article.docid"
   ]
  },
  {
   "cell_type": "code",
   "execution_count": 4,
   "metadata": {},
   "outputs": [
    {
     "data": {
      "text/plain": [
       "datetime.datetime(1998, 6, 5, 0, 0)"
      ]
     },
     "execution_count": 4,
     "metadata": {},
     "output_type": "execute_result"
    }
   ],
   "source": [
    "# date in a datetime format\n",
    "article.date"
   ]
  },
  {
   "cell_type": "code",
   "execution_count": 5,
   "metadata": {},
   "outputs": [
    {
     "data": {
      "text/plain": [
       "[]"
      ]
     },
     "execution_count": 5,
     "metadata": {},
     "output_type": "execute_result"
    }
   ],
   "source": [
    "# summary -- few docs seem to have?\n",
    "article.summary"
   ]
  },
  {
   "cell_type": "code",
   "execution_count": 6,
   "metadata": {},
   "outputs": [
    {
     "data": {
      "text/plain": [
       "['GREENBURGH, N.Y., June 1']"
      ]
     },
     "execution_count": 6,
     "metadata": {},
     "output_type": "execute_result"
    }
   ],
   "source": [
    "# dateline -- location (city, state) and pub date\n",
    "article.dateline"
   ]
  },
  {
   "cell_type": "code",
   "execution_count": 7,
   "metadata": {},
   "outputs": [
    {
     "data": {
      "text/plain": [
       "['Difficult Lesson in Fund-Raising']"
      ]
     },
     "execution_count": 7,
     "metadata": {},
     "output_type": "execute_result"
    }
   ],
   "source": [
    "# headline that ran in the print edition\n",
    "article.print_hede"
   ]
  },
  {
   "cell_type": "code",
   "execution_count": 8,
   "metadata": {},
   "outputs": [
    {
     "data": {
      "text/plain": [
       "[]"
      ]
     },
     "execution_count": 8,
     "metadata": {},
     "output_type": "execute_result"
    }
   ],
   "source": [
    "# headline that ran on the website version\n",
    "article.online_hede"
   ]
  },
  {
   "cell_type": "code",
   "execution_count": 9,
   "metadata": {},
   "outputs": [
    {
     "data": {
      "text/plain": [
       "['At 10 A.M., Paul J. Feiner, the normally irrepressible Town Supervisor here, was mumbling his way through an embarrassing telephone sales pitch.',\n",
       " \"''Um, hello?'' he said, as if it were a question and he was sorry to ask. ''My name is Paul Feiner? I'm running for Congress on the Democratic ticket? We spoke a few weeks ago and you said you might be willing to contribute to my campaign? You said you were going to talk to your husband?''\"]"
      ]
     },
     "execution_count": 9,
     "metadata": {},
     "output_type": "execute_result"
    }
   ],
   "source": [
    "# opening paragraph\n",
    "article.lede"
   ]
  },
  {
   "cell_type": "code",
   "execution_count": 10,
   "metadata": {},
   "outputs": [
    {
     "data": {
      "text/plain": [
       "['elections', 'finances']"
      ]
     },
     "execution_count": 10,
     "metadata": {},
     "output_type": "execute_result"
    }
   ],
   "source": [
    "# topic tags\n",
    "article.descriptors"
   ]
  },
  {
   "cell_type": "code",
   "execution_count": 11,
   "metadata": {},
   "outputs": [
    {
     "data": {
      "text/plain": [
       "['elections', 'finances', 'politics and government']"
      ]
     },
     "execution_count": 11,
     "metadata": {},
     "output_type": "execute_result"
    }
   ],
   "source": [
    "# more extensive tags?\n",
    "article.general_descriptors"
   ]
  },
  {
   "cell_type": "code",
   "execution_count": 12,
   "metadata": {},
   "outputs": [
    {
     "data": {
      "text/plain": [
       "[]"
      ]
     },
     "execution_count": 12,
     "metadata": {},
     "output_type": "execute_result"
    }
   ],
   "source": [
    "# more extensive tags?\n",
    "article.types_of_material"
   ]
  },
  {
   "cell_type": "code",
   "execution_count": 13,
   "metadata": {},
   "outputs": [
    {
     "data": {
      "text/plain": [
       "'1097'"
      ]
     },
     "execution_count": 13,
     "metadata": {},
     "output_type": "execute_result"
    }
   ],
   "source": [
    "article.wordcount"
   ]
  },
  {
   "cell_type": "code",
   "execution_count": 14,
   "metadata": {},
   "outputs": [
    {
     "data": {
      "text/plain": [
       "'B'"
      ]
     },
     "execution_count": 14,
     "metadata": {},
     "output_type": "execute_result"
    }
   ],
   "source": [
    "# section of the print newspaper\n",
    "article.section"
   ]
  },
  {
   "cell_type": "code",
   "execution_count": 15,
   "metadata": {},
   "outputs": [
    {
     "data": {
      "text/plain": [
       "['At 10 A.M., Paul J. Feiner, the normally irrepressible Town Supervisor here, was mumbling his way through an embarrassing telephone sales pitch.',\n",
       " \"''Um, hello?'' he said, as if it were a question and he was sorry to ask. ''My name is Paul Feiner? I'm running for Congress on the Democratic ticket? We spoke a few weeks ago and you said you might be willing to contribute to my campaign? You said you were going to talk to your husband?''\",\n",
       " 'Mr. Feiner continued until, finally, he was rebuffed.',\n",
       " 'For six hours a day, nearly every day since he decided in January to run for the 20th Congressional District seat, Mr. Feiner has been on the telephone trying to raise the $600,000 that his advisers say he needs to unseat the Republican incumbent, Representative Benjamin A. Gilman.',\n",
       " 'Although he is a seasoned local politician, Mr. Feiner said he was surprised to discover that running in a national race was almost entirely about fund-raising. Campaigning in a townwide election, he said, requires more legwork and more handshaking than it does money.',\n",
       " 'Mr. Feiner, 42, became involved in politics as a campaign volunteer at 13 (after a rabbi persuaded him, during his bar mitzvah, not to become a rabbi). He was a Westchester County legislator for eight years before being elected Greenburgh Town Supervisor in 1991. Greenburgh includes villages along the Hudson River from Hastings-on-Hudson to Tarrytown, as well as Ardsley, Elmsford and Hartsdale.',\n",
       " 'If running a national race has been an education, Mr. Feiner has been a difficult student. He is so contemptuous of the money end of politics that his fund-raising manager and campaign consultant quit in May in frustration because he would not follow their advice.',\n",
       " \"''I'm already behind schedule,'' he said. ''They tell me I'm supposed to raise $20,000 a week to even be taken seriously.'' To earn the backing of the Democratic National Committee, he was told, you have to be ''first tier.''\",\n",
       " \"''I'm second tier,'' Mr. Feiner said.\",\n",
       " \"He made lists, as he was advised, of everyone who does business in the Town of Greenburgh -- developers, real estate agents, merchants, corporate directors -- and called them to solicit support. He listened to the professionals' tactics and then ignored their suggestions.\",\n",
       " \"''You're not supposed to ask for money, you're supposed to tell them how much you need,'' Mr. Feiner said. ''You're supposed to say, 'Can I have $1,000?' and then be quiet. 'The first person who speaks after that loses,' that's what they tell you.''\",\n",
       " 'For all his fumbling, most people who knew Mr. Feiner gave something. Some wanted something back. The most egregious case involved a lawyer he met at a fund-raiser who offered cash and an introduction to important people in Rockland and Orange Counties, where Mr. Feiner is little known and his opponent, Mr. Gilman, very popular.',\n",
       " 'The lawyer made it clear he wanted to be given town legal work in exchange for his support. When Mr. Feiner balked, the man withdrew the offer.',\n",
       " \"''I don't blame him,'' Mr. Feiner said, and he refused to disclose the lawyer's name. ''I blame the system.''\",\n",
       " \"So far, hundreds of people in the 20th Congressional District, which stretches to Rockland, Orange and Sullivan Counties, have contributed a total of $135,000 to Mr. Feiner's campaign. It is far more than the $70,000 he raised for any of his local races but not enough to buy the television and radio ads and pay for the mailings to reach people in the sprawling district.\",\n",
       " \"''I just want to run for office, be able to contrast my vision with my opponent,'' Mr. Feiner said. ''Get my message out and let the voters decide.''\",\n",
       " 'The opposing campaign agrees. Mr. Gilman, who is 75, chairman of the influential International Relations Committee and seeking his 14th term in Congress, plans to raise about $600,000, said Sandi Thoby, controller for Citizens for Gilman.',\n",
       " \"''He will run on his own record of accomplishment, but he has to get that out there,'' Ms. Thoby said. ''Everything costs money.''\",\n",
       " 'If Mr. Feiner does not raise enough money to win, he can still hope to run well and position himself for the future, said Lee M. Miringoff, director of the Marist College Institute for Public Opinion.',\n",
       " \"''The ability of a challenger to unseat an incumbent depends on a major scandal or a major infusion of cash,'' Mr. Miringoff said. ''This is shaping up to be a 'don't rock the boat' election year at the moment for the Democrats. They will probably target a few races to pour money into. They would have to see some weakness from Mr. Gilman. I don't know if it's there.''\",\n",
       " 'Mr. Feiner, who is married to a lawyer, Sherrie Brown, got his start as a political noodge. An avid bicyclist, he badgered the Westchester County Legislature to create bike lanes along the Bronx River Parkway until it finally gave in.',\n",
       " \"''If you just stay out of my office for six months,'' Mr. Feiner recalls a county legislator, John DeRario, saying back in 1973, ''we'll build the damn bike lanes.'' The following year, he got the county to close the Bronx River Parkway for bicyclists on summer Sundays, a program that continues today.\",\n",
       " \"His problem-solving booth has brought him a lot of attention. Every week for more than a decade, he has set up a card table, a folding chair and a ''problem solver'' sign at a local supermarket and offered help to people in need of anything from a bus schedule to a double lung transplant.\",\n",
       " 'Mr. Feiner once tried to establish a town matchmaking service for lonely suburban singles, though the plan was later simplified to town-sponsored singles events, like dances.',\n",
       " \"''To me, that's really the whole purpose of being involved in government,'' he said, with a touch of the rabbi he never became showing through. ''I really get a big thrill out of helping improve people's lives.''\",\n",
       " 'He addresses criticism by trying to include everyone in government. First, Mr. Feiner established the call-in town meeting, in which people can stay home, watch the meeting on cable television and phone in a comment. Now he has a deputy supervisor program, and he makes political foes his deputies on special issues to bring them into the decision-making process.',\n",
       " \"''You'd be amazed how people change when they are involved,'' he said.\"]"
      ]
     },
     "execution_count": 15,
     "metadata": {},
     "output_type": "execute_result"
    }
   ],
   "source": [
    "# body text but also includes subhead, book title data, endbyline, section title -- all kinds of stuff\n",
    "article.paragraphs"
   ]
  },
  {
   "cell_type": "markdown",
   "metadata": {},
   "source": [
    "### Load all training files and explore training set"
   ]
  },
  {
   "cell_type": "code",
   "execution_count": 16,
   "metadata": {},
   "outputs": [
    {
     "name": "stdout",
     "output_type": "stream",
     "text": [
      "['Difficult Lesson in Fund-Raising']\n",
      "['ANSWERS TO QUIZ']\n",
      "[\"For Valentine's Day, Dinner for Two\"]\n",
      "[\"CONSUMER'S WORLD: Guidepost; Players for Video Disks\"]\n",
      "['13 Boats to Risk Dash to New York']\n",
      "['Equity Sales Set For This Week']\n",
      "['Abroad at Home;Down the River']\n",
      "['An Estranged Williams Gets Comfortable at Bat']\n",
      "['Zenith Reports $11.6 Million Deficit']\n",
      "['National Briefing | South: Louisiana: Container Law Revoked']\n",
      "['Meanwhile, Lawmakers Try to End Late Budgets']\n",
      "[\"Beyond Sequels: It's On to the Hollywood Hybrid\"]\n",
      "['A Step for Voting Rights']\n",
      "[\"'A MOUTH TO FEED'\"]\n",
      "['American Film Technologies reports earnings for Qtr to Sept 30']\n",
      "['Technology; Taking the Worry Out of Paying With Plastic']\n",
      "['SYRACUSE THWARTS PROVIDENCE, 90-81']\n",
      "['Some Genetic Pieces Are Falling Into Place In Breast Cancer Puzzle']\n",
      "['A Novelty for China: Owning a Home']\n",
      "['COACHMEN INDUSTRIES INC reports earnings for Qtr to Sept 30']\n",
      "['Stunning Catch Tips the Balance To Tennessee']\n",
      "['V-Mail Trouble']\n",
      "['Alexandra Doan, David Drucker']\n",
      "['Sports of The Times; Making, And Missing, The Point']\n",
      "['For Caribbean Chicken Cooks, Steel Drum Disharmony']\n",
      "['Queen of the Zeitgeist']\n",
      "[\"CHILDREN'S BOOKS\"]\n",
      "['Volt Information Sciences reports earnings for Qtr to Feb 2']\n",
      "['SUPREME COURT, SPLIT 5-4, HALTS FLORIDA COUNT IN BLOW TO GORE']\n",
      "[\"PHOTOGRAPHER'S JOURNAL\"]\n",
      "['Abortion: Back in the Spotlight']\n",
      "['Jet Damaged by Turbulence Is to Be Retired']\n",
      "['Jackson Disputes Report']\n",
      "['Metro Briefing | New York: Queens: Pedestrians Are Sprayed With Irritating Liquid']\n",
      "['Lusty or Tranquil in Spirit, But Always Unlikely in Sound']\n",
      "['Sheffield Tenants Win a Round']\n",
      "['Supreme Court Roundup;Justices Decide, 9 to 0, That the Death Penalty in the Armed Services Is Constitutional']\n",
      "['Dukakis Is Unfazed By Attacks']\n",
      "['Bo Diddley']\n",
      "['Memories Of Times At Yaddo']\n",
      "['Paid Notice: Deaths   REISLEY, ROSALYN']\n",
      "['Dina White, Jack Acree']\n",
      "['Economic Calendar']\n",
      "['CHRONICLE']\n",
      "[\"Pope's Trip to Israel\"]\n",
      "['Hotel Is Closing for Makeover']\n",
      "[\"Paid Notice: Deaths  WEINBERG, EUGENE ''GENE''\"]\n",
      "['Uncertain Future at the Smithsonian']\n",
      "['Giants Need to Check Their Downward Spiral']\n",
      "['Buildings Rise From Rubble While Health Crumbles']\n"
     ]
    }
   ],
   "source": [
    "# paths = data_setup.get_paths()\n",
    "    \n",
    "# explore 50 Headlines\n",
    "for path in train_paths[:50]:\n",
    "    article = NYTArticle.from_file(os.path.join('data',path[0]))\n",
    "    print(article.print_hede)"
   ]
  },
  {
   "cell_type": "markdown",
   "metadata": {},
   "source": [
    "#### Explore word counts"
   ]
  },
  {
   "cell_type": "code",
   "execution_count": 17,
   "metadata": {},
   "outputs": [
    {
     "name": "stdout",
     "output_type": "stream",
     "text": [
      "['1990/07/25/0371438.xml']\n",
      "['2006/03/23/1748835.xml']\n",
      "['2006/03/10/1745447.xml']\n",
      "['2006/03/08/1744996.xml']\n",
      "15655\n",
      "0\n"
     ]
    },
    {
     "name": "stderr",
     "output_type": "stream",
     "text": [
      "/home/mark/anaconda3/lib/python3.7/site-packages/ipykernel_launcher.py:23: RuntimeWarning: divide by zero encountered in log\n"
     ]
    },
    {
     "data": {
      "image/png": "[encoded data removed]",
      "text/plain": [
       "<Figure size 432x288 with 1 Axes>"
      ]
     },
     "metadata": {
      "needs_background": "light"
     },
     "output_type": "display_data"
    },
    {
     "data": {
      "image/png": "[encoded data removed]",
      "text/plain": [
       "<Figure size 432x288 with 1 Axes>"
      ]
     },
     "metadata": {
      "needs_background": "light"
     },
     "output_type": "display_data"
    }
   ],
   "source": [
    "# Sample 10,000 random articles for analysis (entire data set is too large)\n",
    "import random\n",
    "import numpy as np\n",
    "import matplotlib.pyplot as plt\n",
    "%matplotlib inline\n",
    "\n",
    "random.seed(10)\n",
    "\n",
    "word_counts = []\n",
    "for path in random.sample(train_paths, 10000):\n",
    "    try:\n",
    "        article = NYTArticle.from_file(os.path.join('data',path[0]))\n",
    "        word_counts.append(int(article.wordcount))\n",
    "    except:\n",
    "        # need to figure out why these are throwing an exception\n",
    "        print(path)\n",
    "        word_counts.append(1)\n",
    "\n",
    "# excluding some outliers from plotting window\n",
    "plt.hist(word_counts, bins=25, range=(0, 4000))\n",
    "\n",
    "plt.figure()\n",
    "plt.hist(np.log(word_counts), bins=25, range=(0, 10))\n",
    "\n",
    "print(max(word_counts))\n",
    "print(min(word_counts))\n",
    "\n",
    "# for a given article length threshold, how many words would we be throwing out?\n",
    "# print(len(word_counts>1500))"
   ]
  }
 ],
 "metadata": {
  "kernelspec": {
   "display_name": "Python 3",
   "language": "python",
   "name": "python3"
  },
  "language_info": {
   "codemirror_mode": {
    "name": "ipython",
    "version": 3
   },
   "file_extension": ".py",
   "mimetype": "text/x-python",
   "name": "python",
   "nbconvert_exporter": "python",
   "pygments_lexer": "ipython3",
   "version": "3.7.3"
  }
 },
 "nbformat": 4,
 "nbformat_minor": 2
}
