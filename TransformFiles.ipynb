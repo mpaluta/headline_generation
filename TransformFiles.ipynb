{
 "cells": [
  {
   "cell_type": "code",
   "execution_count": 8,
   "metadata": {},
   "outputs": [],
   "source": [
    "# libraries\n",
    "import os\n",
    "import csv\n",
    "import time\n",
    "from NYT_parser import NYTArticle\n",
    "from utilities import *"
   ]
  },
  {
   "cell_type": "code",
   "execution_count": 9,
   "metadata": {},
   "outputs": [],
   "source": [
    "# get pathways\n",
    "train_paths = data_setup.get_paths('train')\n",
    "article = NYTArticle.from_file(os.path.join('data', train_paths[0][0]))"
   ]
  },
  {
   "cell_type": "code",
   "execution_count": 10,
   "metadata": {},
   "outputs": [],
   "source": [
    "# set destination folder and make folders if needed\n",
    "dest_folder = 'transdata/train/'\n",
    "if not os.path.exists(dest_folder):\n",
    "    os.makedirs(dest_folder)"
   ]
  },
  {
   "cell_type": "code",
   "execution_count": 6,
   "metadata": {},
   "outputs": [
    {
     "name": "stdout",
     "output_type": "stream",
     "text": [
      "Writing transdata/train/739212\n"
     ]
    }
   ],
   "source": [
    "# attempt a single file output\n",
    "print(\"Writing\", dest_folder+article.docid)\n",
    "article.simple_csv_output(dest_folder)"
   ]
  },
  {
   "cell_type": "code",
   "execution_count": 7,
   "metadata": {},
   "outputs": [
    {
     "name": "stdout",
     "output_type": "stream",
     "text": [
      "Writing transdata/train/1397928\n",
      "Writing transdata/train/1609775\n",
      "Writing transdata/train/297100\n",
      "Writing transdata/train/448007\n",
      "Writing transdata/train/1463610\n",
      "Writing transdata/train/590096\n",
      "Writing transdata/train/762936\n",
      "Writing transdata/train/1570877\n",
      "Writing transdata/train/1725268\n",
      "Writing transdata/train/1647864\n",
      "Writing transdata/train/1251662\n",
      "Writing transdata/train/551924\n",
      "Writing transdata/train/74723\n",
      "Writing transdata/train/1535917\n",
      "Writing transdata/train/744457\n",
      "Writing transdata/train/97129\n",
      "Writing transdata/train/899133\n",
      "Writing transdata/train/791668\n",
      "Writing transdata/train/779448\n",
      "Writing transdata/train/1287650\n",
      "Writing transdata/train/927546\n",
      "Writing transdata/train/1587613\n",
      "Writing transdata/train/638654\n",
      "Writing transdata/train/870914\n",
      "Writing transdata/train/800527\n",
      "Writing transdata/train/1584905\n",
      "Writing transdata/train/1287373\n",
      "Writing transdata/train/1337862\n",
      "Writing transdata/train/1646102\n",
      "Writing transdata/train/1363692\n",
      "Writing transdata/train/50986\n",
      "Writing transdata/train/1481311\n",
      "Writing transdata/train/1265869\n",
      "Writing transdata/train/199802\n",
      "Writing transdata/train/1000735\n",
      "Writing transdata/train/1537677\n",
      "Writing transdata/train/700412\n",
      "Writing transdata/train/1043116\n",
      "Writing transdata/train/1509284\n",
      "Writing transdata/train/1562666\n"
     ]
    }
   ],
   "source": [
    "# attempt 50 article write minus filtered out\n",
    "for path in train_paths[:50]:\n",
    "    article = NYTArticle.from_file(os.path.join('data',path[0]))\n",
    "    if article.pass_filters():\n",
    "        print(\"Writing\", dest_folder+article.docid)\n",
    "        article.simple_csv_output(dest_folder)"
   ]
  },
  {
   "cell_type": "code",
   "execution_count": 11,
   "metadata": {},
   "outputs": [
    {
     "name": "stdout",
     "output_type": "stream",
     "text": [
      "\n",
      "... processed 1001 files in 2.489995241165161 seconds\n"
     ]
    }
   ],
   "source": [
    "# write all filtered articles in train set\n",
    "opened_article = 0\n",
    "written_article = 0\n",
    "start = time.time()\n",
    "for path in train_paths:\n",
    "    opened_article += 1\n",
    "    article = NYTArticle.from_file(os.path.join('data',path[0]))\n",
    "    if article.pass_filters():\n",
    "        written_article += 1\n",
    "        article.simple_csv_output(dest_folder)\n",
    "    if opened_article % 10000 == 0:\n",
    "        print(\"Opened\", opened_article,\"articles. Output\", written_article,\"articles.\")\n",
    "print(f\"\\n... processed {opened_article} files in {time.time() - start} seconds\")"
   ]
  },
  {
   "cell_type": "code",
   "execution_count": null,
   "metadata": {},
   "outputs": [],
   "source": []
  }
 ],
 "metadata": {
  "kernelspec": {
   "display_name": "Python 3",
   "language": "python",
   "name": "python3"
  },
  "language_info": {
   "codemirror_mode": {
    "name": "ipython",
    "version": 3
   },
   "file_extension": ".py",
   "mimetype": "text/x-python",
   "name": "python",
   "nbconvert_exporter": "python",
   "pygments_lexer": "ipython3",
   "version": "3.6.5"
  }
 },
 "nbformat": 4,
 "nbformat_minor": 2
}
