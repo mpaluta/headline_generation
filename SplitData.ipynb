{
 "cells": [
  {
   "cell_type": "markdown",
   "metadata": {},
   "source": [
    "# W266 - Headline Project"
   ]
  },
  {
   "cell_type": "markdown",
   "metadata": {},
   "source": [
    "### Split the data into train, dev, test"
   ]
  },
  {
   "cell_type": "code",
   "execution_count": 120,
   "metadata": {},
   "outputs": [],
   "source": [
    "# libraries and filepaths\n",
    "import os\n",
    "import csv\n",
    "import numpy as np\n",
    "from NYT_parser import NYTArticle\n",
    "\n",
    "root_path = './data/' # point this to the unzipped & untared data subfolder in NYT Annotated corpus \n",
    "log_file=\"./log_file.log\" # this file contains complete list of all xml files\n"
   ]
  },
  {
   "cell_type": "code",
   "execution_count": 121,
   "metadata": {},
   "outputs": [],
   "source": [
    "# this creates a log file containing the names of all xml files in the corpus\n",
    "with open(log_file,'w') as resultFile:\n",
    "    wr = csv.writer(resultFile)\n",
    "    for root, dirs, files in os.walk(root_path):\n",
    "        for file in files:\n",
    "            if file.endswith(\".xml\"):\n",
    "                filepath = os.path.join(root, file)\n",
    "                if \"data/\" in filepath:\n",
    "                    filepath = filepath[filepath.find(\"data/\")+5:]\n",
    "                wr.writerow([filepath])\n",
    "            "
   ]
  },
  {
   "cell_type": "code",
   "execution_count": 122,
   "metadata": {},
   "outputs": [],
   "source": [
    "# read log with all xml filenames in and put into a list\n",
    "file_list = []\n",
    "with open(log_file, newline='') as f:\n",
    "    reader = csv.reader(f)\n",
    "    for row in reader:\n",
    "        if row:\n",
    "            file_list.append(row[0])"
   ]
  },
  {
   "cell_type": "code",
   "execution_count": 123,
   "metadata": {},
   "outputs": [
    {
     "name": "stdout",
     "output_type": "stream",
     "text": [
      "Read 1855658 files from the log.\n"
     ]
    }
   ],
   "source": [
    "# check you've got it loaded\n",
    "print(\"Read\", len(file_list), \"files from the log.\")"
   ]
  },
  {
   "cell_type": "code",
   "execution_count": 124,
   "metadata": {},
   "outputs": [],
   "source": [
    "# shuffle the filenames in place in the list\n",
    "np.random.seed(seed=100)\n",
    "np.random.shuffle(file_list)"
   ]
  },
  {
   "cell_type": "code",
   "execution_count": 125,
   "metadata": {},
   "outputs": [
    {
     "name": "stdout",
     "output_type": "stream",
     "text": [
      "There are 1855658 total files in the dataset.\n",
      "There are 1298960 train set files, 185565 dev set files, 371133 test set files.\n"
     ]
    }
   ],
   "source": [
    "# split the train, dev, test sets\n",
    "num_files = len(file_list)\n",
    "train_split = int(num_files * 0.7)\n",
    "dev_split = train_split + int(num_files * 0.1) # rest is test\n",
    "train_files = file_list[0:train_split]\n",
    "dev_files = file_list[train_split:dev_split]\n",
    "test_files = file_list[dev_split:]\n",
    "print(\"There are\",num_files,\"total files in the dataset.\")\n",
    "print(\"There are\",len(train_files),\"train set files,\" ,len(dev_files),\"dev set files,\",len(test_files),\"test set files.\")"
   ]
  },
  {
   "cell_type": "code",
   "execution_count": 126,
   "metadata": {},
   "outputs": [],
   "source": [
    "# write the train, dev, test file IDs to log files\n",
    "with open(\"train_IDs.csv\",'w') as resultFile:\n",
    "    wr = csv.writer(resultFile)\n",
    "    for file_id in train_files:    \n",
    "        wr.writerow([file_id])\n",
    "with open(\"dev_IDs.csv\",'w') as resultFile:\n",
    "    wr = csv.writer(resultFile)\n",
    "    for file_id in dev_files:\n",
    "        wr.writerow([file_id])\n",
    "with open(\"test_IDs.csv\",'w') as resultFile:\n",
    "    wr = csv.writer(resultFile)\n",
    "    for file_id in test_files:\n",
    "        wr.writerow([file_id])"
   ]
  },
  {
   "cell_type": "code",
   "execution_count": 127,
   "metadata": {},
   "outputs": [],
   "source": [
    "# IF YOU WANT, YOU COULD JUST START HERE\n",
    "# loads in the train, dev, test file IDs into lists\n",
    "train_IDs = []\n",
    "dev_IDs = []\n",
    "test_IDs = []\n",
    "with open(\"train_IDs.csv\", newline='') as f:\n",
    "    reader = csv.reader(f)\n",
    "    for row in reader:\n",
    "        if row:\n",
    "            train_IDs.append(row[0])\n",
    "with open(\"dev_IDs.csv\", newline='') as f:\n",
    "    reader = csv.reader(f)\n",
    "    for row in reader:\n",
    "        if row:\n",
    "            dev_IDs.append(row[0])\n",
    "with open(\"test_IDs.csv\", newline='') as f:\n",
    "    reader = csv.reader(f)\n",
    "    for row in reader: \n",
    "        if row:\n",
    "            test_IDs.append(row[0])"
   ]
  },
  {
   "cell_type": "code",
   "execution_count": 128,
   "metadata": {},
   "outputs": [
    {
     "name": "stdout",
     "output_type": "stream",
     "text": [
      "There are 1855658 total files in the dataset.\n",
      "There are 1298960 train set files, 185565 dev set files, 371133 test set files.\n"
     ]
    }
   ],
   "source": [
    "# confirming sizes\n",
    "print(\"There are\",num_files,\"total files in the dataset.\")\n",
    "print(\"There are\",len(train_IDs),\"train set files,\" ,len(dev_IDs),\"dev set files,\",len(test_IDs),\"test set files.\")"
   ]
  },
  {
   "cell_type": "code",
   "execution_count": 129,
   "metadata": {},
   "outputs": [],
   "source": [
    "# now, you can look at train data easily...\n",
    "\n",
    "# open the very first train doc\n",
    "with open(root_path+train_IDs[0],encoding = 'utf-8') as f:\n",
    "    article = NYTArticle.from_file(f)\n"
   ]
  },
  {
   "cell_type": "code",
   "execution_count": 130,
   "metadata": {},
   "outputs": [
    {
     "data": {
      "text/plain": [
       "\"The President's Address: 'We Heard America Shouting'\""
      ]
     },
     "execution_count": 130,
     "metadata": {},
     "output_type": "execute_result"
    }
   ],
   "source": [
    "# how does this differ from the headline??\n",
    "article.title"
   ]
  },
  {
   "cell_type": "code",
   "execution_count": 131,
   "metadata": {},
   "outputs": [
    {
     "data": {
      "text/plain": [
       "'739212'"
      ]
     },
     "execution_count": 131,
     "metadata": {},
     "output_type": "execute_result"
    }
   ],
   "source": [
    "# document ID (filename)\n",
    "article.docid"
   ]
  },
  {
   "cell_type": "code",
   "execution_count": 132,
   "metadata": {},
   "outputs": [
    {
     "data": {
      "text/plain": [
       "datetime.datetime(1995, 1, 25, 0, 0)"
      ]
     },
     "execution_count": 132,
     "metadata": {},
     "output_type": "execute_result"
    }
   ],
   "source": [
    "# date in a datetime format\n",
    "article.date"
   ]
  },
  {
   "cell_type": "code",
   "execution_count": 133,
   "metadata": {},
   "outputs": [
    {
     "data": {
      "text/plain": [
       "[]"
      ]
     },
     "execution_count": 133,
     "metadata": {},
     "output_type": "execute_result"
    }
   ],
   "source": [
    "# summary -- few docs seem to have?\n",
    "article.summary"
   ]
  },
  {
   "cell_type": "code",
   "execution_count": 134,
   "metadata": {},
   "outputs": [
    {
     "data": {
      "text/plain": [
       "[]"
      ]
     },
     "execution_count": 134,
     "metadata": {},
     "output_type": "execute_result"
    }
   ],
   "source": [
    "# dateline -- location (city, state) and pub date\n",
    "article.dateline"
   ]
  },
  {
   "cell_type": "code",
   "execution_count": 135,
   "metadata": {},
   "outputs": [
    {
     "data": {
      "text/plain": [
       "[\"The President's Address: 'We Heard America Shouting'\"]"
      ]
     },
     "execution_count": 135,
     "metadata": {},
     "output_type": "execute_result"
    }
   ],
   "source": [
    "# headline that ran in the print edition\n",
    "article.print_hede"
   ]
  },
  {
   "cell_type": "code",
   "execution_count": 136,
   "metadata": {},
   "outputs": [
    {
     "data": {
      "text/plain": [
       "[]"
      ]
     },
     "execution_count": 136,
     "metadata": {},
     "output_type": "execute_result"
    }
   ],
   "source": [
    "# headline that ran on the website version\n",
    "article.online_hede"
   ]
  },
  {
   "cell_type": "code",
   "execution_count": 137,
   "metadata": {},
   "outputs": [
    {
     "data": {
      "text/plain": [
       "[\"Following is President Clinton's State of the Union Message last night, as recorded by The New York Times:\",\n",
       " 'Mr. President, Mr. Speaker, members of the 104th Congress, my fellow Americans, again we are here in the sanctuary of democracy. And once again, our democracy has spoken.']"
      ]
     },
     "execution_count": 137,
     "metadata": {},
     "output_type": "execute_result"
    }
   ],
   "source": [
    "# opening paragraph\n",
    "article.lede"
   ]
  },
  {
   "cell_type": "code",
   "execution_count": 138,
   "metadata": {},
   "outputs": [
    {
     "data": {
      "text/plain": [
       "['biographical information',\n",
       " 'law and legislation',\n",
       " 'state of the union message (us)',\n",
       " 'united states politics and government']"
      ]
     },
     "execution_count": 138,
     "metadata": {},
     "output_type": "execute_result"
    }
   ],
   "source": [
    "# topic tags\n",
    "article.descriptors"
   ]
  },
  {
   "cell_type": "code",
   "execution_count": 139,
   "metadata": {},
   "outputs": [
    {
     "data": {
      "text/plain": [
       "['law and legislation',\n",
       " 'politics and government',\n",
       " 'state of the union message (us)',\n",
       " 'united states politics and government']"
      ]
     },
     "execution_count": 139,
     "metadata": {},
     "output_type": "execute_result"
    }
   ],
   "source": [
    "# more extensive tags?\n",
    "article.general_descriptors"
   ]
  },
  {
   "cell_type": "code",
   "execution_count": 140,
   "metadata": {},
   "outputs": [
    {
     "data": {
      "text/plain": [
       "['text']"
      ]
     },
     "execution_count": 140,
     "metadata": {},
     "output_type": "execute_result"
    }
   ],
   "source": [
    "# more extensive tags?\n",
    "article.types_of_material"
   ]
  },
  {
   "cell_type": "code",
   "execution_count": 141,
   "metadata": {},
   "outputs": [
    {
     "data": {
      "text/plain": [
       "'8630'"
      ]
     },
     "execution_count": 141,
     "metadata": {},
     "output_type": "execute_result"
    }
   ],
   "source": [
    "article.wordcount"
   ]
  },
  {
   "cell_type": "code",
   "execution_count": 142,
   "metadata": {},
   "outputs": [
    {
     "data": {
      "text/plain": [
       "'A'"
      ]
     },
     "execution_count": 142,
     "metadata": {},
     "output_type": "execute_result"
    }
   ],
   "source": [
    "# section of the print newspaper\n",
    "article.section"
   ]
  },
  {
   "cell_type": "code",
   "execution_count": 143,
   "metadata": {},
   "outputs": [
    {
     "data": {
      "text/plain": [
       "[\"Following is President Clinton's State of the Union Message last night, as recorded by The New York Times:\",\n",
       " 'Mr. President, Mr. Speaker, members of the 104th Congress, my fellow Americans, again we are here in the sanctuary of democracy. And once again, our democracy has spoken.',\n",
       " 'So let me begin by congratulating all of you here in the 104th Congress, and congratulating you, Mr. Speaker.',\n",
       " 'If we agree on nothing else tonight, we must agree that the American people certainly voted for change in 1992 and in 1994.',\n",
       " 'And as I look out at you, I know how some of you must have felt in 1992.',\n",
       " \"I must say that in both years we didn't hear America singing, we heard America shouting. And now all of us, Republicans and Democrats alike, must say: We hear you. We will work together to earn the jobs you have given us. For we are the keepers of the sacred trust and we must be faithful to it in this new and very demanding era.\",\n",
       " 'Over 200 years ago, our founders changed the entire course of human history by joining together to create a new country based on a single, powerful idea. We hold these truths to be self-evident, that all men are created equal, endowed by their creator with certain inalienable rights. Among these are life, liberty and the pursuit of happiness.',\n",
       " \"It has fallen to every generation since then to preserve that idea -- the American idea -- and to deepen and expand its meaning in new and different times. To Lincoln and to his Congress, to preserve the Union and to end slavery. To Theodore Roosevelt and Woodrow Wilson, to restrain the abuses and excesses of the Industrial Revolution and to assert our leadership in the world. To Franklin Roosevelt, to fight the failure and pain of the Great Depression and to win our country's great struggle against fascism.\",\n",
       " 'And to all our Presidents since, to fight the cold war. Especially, I recall two who struggled to fight that cold war in partnership with Congresses where the majority was of a different party. To Harry Truman, who summoned us to unparalleled prosperity at home and who built the architecture of the cold war. And to Ronald Reagan, whom we wish well tonight, and who exhorted us to carry on until the twilight struggle against Communism was won.  Goals of 1992',\n",
       " 'In another time of change and challenge, I had the honor to be the first President to be elected in the post-cold-war era, an era marked by the global economy, the information revolution, unparalleled change in opportunity and in security for the American people.',\n",
       " 'I came to this hallowed chamber two years ago on a mission: To restore the American dream for all our people and to make sure that we move into the 21st century still the strongest force for freedom and democracy in the entire world.',\n",
       " 'I was determined then to tackle the tough problems too long ignored. In this effort I am frank to say that I have made my mistakes. And I have learned again the importance of humility in all human endeavor.',\n",
       " 'But I am also proud to say tonight that our country is stronger than it was two years ago.',\n",
       " 'Record numbers, record numbers of Americans are succeeding in the new global economy. We are at peace, and we are a force for peace and freedom throughout the world. We have almost six million new jobs since I became President, and we have the lowest combined rate of unemployment and inflation in 25 years.',\n",
       " 'Our businesses are more productive and here we have worked to bring the deficit down, to expand trade, to put more police on our streets, to give our citizens more of the tools they need to get an education and to rebuild their own communities. But the rising tide is not lifting all the boats. Tasks Still Ahead',\n",
       " \"While our nation is enjoying peace and prosperity, too many of our people are still working harder and harder for less and less. While our businesses are restructuring and growing more productive and competitive, too many of our people still can't be sure of having a job next year or even next month. And far more than our material riches are threatened, things far more precious to us: our children, our families, our values.\",\n",
       " 'Our civil life is suffering in America today. Citizens are working together less and shouting at each other more. The common bonds of community which have been the great strength of our country from its very beginning are badly frayed.',\n",
       " 'What are we to do about it?',\n",
       " 'More than 60 years ago at the dawn of another new era, President Roosevelt told our nation new conditions impose new requirements on Government and those who conduct Government. And from that simple proposition he shaped the New Deal, which helped to restore our nation to prosperity and defined the relationship between our people and their Government for half a century.',\n",
       " 'That approach worked in its time but today we face a very different time and very different conditions. We are moving from an industrial age built on gears and sweat to an information age demanding skills and learning and flexibility.',\n",
       " 'Our Government, once a champion of national purpose, is now seen by many as simply a captive of narrow interests putting more burdens on our citizens rather than equipping them to get ahead. The values that used to hold us all together seem to be coming apart.',\n",
       " 'So tonight we must forge a new social compact to meet the challenges of this time. As we enter a new era, we need a new set of understandings not just with Government but, even more important, with one another as Americans.',\n",
       " \"That's what I want to talk with you about tonight. I call it the New Covenant but it's grounded in a very, very old idea that all Americans have not just a right but a solemn responsibility to rise as far as their God-given talents and determination can take them. And to give something back to their communities and their country in return.\",\n",
       " \"Opportunity and responsibility -- they go hand in hand; we can't have one without the other, and our national community can't hold together without both.\",\n",
       " 'Our New Covenant is a new set of understandings for how we can equip our people to meet the challenges of the new economy, how we can change the way our Government works to fit a different time and, above all, how we can repair the damaged bonds in our society and come together behind our common purpose. We must have dramatic change in our economy, our Government and ourselves. Putting Country First',\n",
       " 'My fellow Americans, without regard to party, let us rise to the occasion. Let us put aside partisanship and pettiness and pride. As we embark on this course, let us put our country first, remembering that regardless of party label we are all Americans. And let the final test of everything we do be a simple one: Is it good for the American people?',\n",
       " 'Let me begin by saying that we cannot ask Americans to be better citizens if we are not better servants. You made a good start by passing that law which applies to Congress all the laws you put on the private sector -- and I was proud to sign it yesterday.',\n",
       " 'But we have a lot more to do before people really trust the way things work around here. Three times as many lobbyists are in the streets and corridors of Washington as were here 20 years ago. The American people look at their capital and they see a city where the well-connected and the well-protected can work the system, but the interests of ordinary citizens are often left out.',\n",
       " \"As the new Congress opened its doors, lobbyists were still doing business as usual -- the gifts, the trips -- all the things that people are concerned about haven't stopped.\",\n",
       " \"Twice this month you missed opportunities to stop these practices. I know there were other considerations in those votes, but I want to use something that I've heard my Republican friends say from time to time: There doesn't have to be a law for everything.\",\n",
       " \"So tonight I ask you to just stop taking the lobbyists' perks, just stop.\",\n",
       " \"We don't have to wait for legislation to pass to send a strong signal to the American people that things are really changing. But I also hope you will send me the strongest possible lobby reform bill, and I'll sign that, too. We should require lobbyists to tell the people for whom they work what they're spending, what they want. We should also curb the role of big money in elections by capping the cost of campaigns and limiting the influence of PAC's.\",\n",
       " 'And as I have said for three years, we should work to open the air waves so that they can be an instrument of democracy not a weapon of destruction by giving free TV time to candidates for public office.',\n",
       " \"When the last Congress killed political reform last year, it was reported in the press that the lobbyists actually stood in the halls of this sacred building and cheered. This year, let's give the folks at home something to cheer about.\",\n",
       " \"More important, I think we all agree that we have to change the way the Government works. Let's make it smaller, less costly and smarter. Leaner not meaner.\",\n",
       " \"I just told the Speaker the equal time doctrine's alive and well.\",\n",
       " \"The New Covenant approach to governing is as different from the old bureaucratic way as the computer is from the manual typewriter. The old way of governing around here protected organized interests; we should look out for the interests of ordinary people. The old way divided us by interests, constituency or class; the New Covenant way should unite us behind a common vision of what's best for our country.\",\n",
       " 'The old way dispensed services through large, top-down, inflexible bureaucracies. The New Covenant way should shift these resources and decision making from bureaucrats to citizens, injecting choice and competition and individual responsibility into national policy.',\n",
       " 'The old way of governing around here actually seemed to reward failure. The New Covenant way should have built-in incentives to reward success.',\n",
       " 'The old way was centralized here in Washington. The New Covenant way must take hold in the communities all across America, and we should help them to do that.  Role of Government',\n",
       " 'Our job here is to expand opportunity, not bureaucracy, to empower people to make the most of their own lives and to enhance our security here at home and abroad.',\n",
       " 'We must not ask Government to do what we should do for ourselves. We should rely on Government as a partner to help us to do more for ourselves and for each other.',\n",
       " 'I hope very much that as we debate these specific and exciting matters, we can go beyond the sterile discussion between the illusion that there is somehow a program for every problem, on the one hand, and the other illusion that the Government is the source of every problem that we have.',\n",
       " \"Our job is to get rid of yesterday's Government so that our own people can meet today's and tomorrow's needs.\",\n",
       " 'And we ought to do it together.',\n",
       " 'You know, for years before I became President, I heard others say they would cut Government and how bad it was. But not much happened.',\n",
       " 'We actually did it. We cut over a quarter of a trillion dollars in spending, more than 300 domestic programs, more than 100,000 positions from the Federal bureaucracy in the last two years alone.',\n",
       " 'Based on decisions already made, we will have cut a total of more than a quarter of a million positions from the Federal Government, making it the smallest it has been since John Kennedy was President, by the time I come here again next year.',\n",
       " \"Under the leadership of Vice President Gore, our initiatives have already saved taxpayers $63 billion. The age of the $500 hammer and the ashtray you can break on David Letterman is gone. Deadwood programs like mohair subsidies are gone. We've streamlined the Agriculture Department by reducing it by more than 1,200 offices. We've slashed the small-business loan form from an inch thick to a single page. We've thrown away the Government's 10,000-page personnel manual.\",\n",
       " 'And the Government is working better in important ways. FEMA, the Federal Emergency Management Agency, has gone from being a disaster to helping people in disaster.',\n",
       " \"You can ask the farmers in the Middle West who fought the flood there or the people in California who've dealt with floods and earthquakes and fires and they'll tell you that.\",\n",
       " \"Government workers, working hand-in-hand with private business, rebuilt Southern California's fractured freeways in record time and under budget.\",\n",
       " 'And because the Federal Government moved fast, all but one of the 5,600 schools damaged in the earthquake are back in business.  College Loans',\n",
       " \"Now, there are a lot of other things that I could talk about. I want to just mention one because it'll be discussed here in the next few weeks.\",\n",
       " 'University administrators all over the country have told me that they are saving weeks and weeks of bureaucratic time now because of our direct college loan program, which makes college loans cheaper and more affordable with better repayment terms for students, costs the Government less and cuts out paperwork and bureaucracy for the Government and for the universities.',\n",
       " \"We shouldn't cap that program, we should give every college in America the opportunity to be a part of it.\",\n",
       " \"Previous Government programs gather dust; the reinventing Government report is getting results. And we're not through -- there's going to be a second round of reinventing Government.\",\n",
       " 'We propose to cut $130 billion in spending by shrinking departments, extending our freeze on domestic spending, cutting 60 public housing programs down to 3, getting rid of over a hundred programs we do not need like the Interstate Commerce Commission and the Helium Reserve Program.',\n",
       " \"And we're working on getting rid of unnecessary regulations and making them more sensible. The programs and regulations that have outlived their usefulness should go. We have to cut yesterday's Government to help solve tomorrow's problems.\",\n",
       " \"And we need to get Government closer to the people it's meant to serve. We need to help move programs down to the point where states and communities and private citizens in the private sector can do a better job. If they can do it, we ought to let them do it. We should get out of the way and let them do what they can do better.\",\n",
       " \"Taking power away from Federal bureaucracies and giving it back to communities and individuals is something everyone should be able to be for. It's time for Congress to stop passing onto the states the cost of decisions we make here in Washington. Line-Item Veto\",\n",
       " 'I know there are still serious differences over the details of the unfunded mandates legislation but I want to work with you to make sure we pass a reasonable bill which will protect the national interest and give justified relief where we need to give it.',\n",
       " \"For years, Congress concealed in the budget scores of pet spending projects. Last year was no different. There was a million dollars to study stress in plants and $12 million for a tick removal program that didn't work. It's hard to remove ticks; those of us who've had them know.\",\n",
       " \"But I'll tell you something, if you'll give me the line-item veto, I'll remove some of that unnecessary spending.\",\n",
       " 'But, I think we should all remember, and almost all of us would agree, that Government still has important responsibilities.',\n",
       " 'Our young people -- we should think of this when we cut -- our young people hold our future in their hands. We still owe a debt to our veterans. And our senior citizens have made us what we are.',\n",
       " 'Now, my budget cuts a lot. But it protects education, veterans, Social Security and Medicare, and I hope you will do the same thing. You should, and I hope you will.',\n",
       " 'And when we give more flexibility to the states, let us remember that there are certain fundamental national needs that should be addressed in every state, north and south, east and west.',\n",
       " 'Immunization against childhood disease, school lunches in all our schools, Head Start, medical care and nutrition for pregnant women and infants -- all these things are in the national interest.',\n",
       " \"I applaud your desire to get rid of costly and unnecessary regulations, but when we deregulate let's remember what national action in the national interest has given us: safer food for our families, safer toys for our children, safer nursing homes for our parents, safer cars and highways and safer workplaces, cleaner air and cleaner water. Do we need common sense and fairness in our regulations? You bet we do. But we can have common sense and still provide for safe drinking water. We can have fairness and still clean up toxic dumps and we ought to do it. Balancing the Budget\",\n",
       " 'Should we cut the deficit more? Well of course we should. Of course we should. But we can bring it down in a way that still protects our economic recovery and does not unduly punish people who should not be punished, but instead should be helped.',\n",
       " 'I know many of you in this chamber support the balanced-budget amendment. I certainly want to balance the budget. Our Administration has done more to bring the budget down and to save money than any in a very, very long time.',\n",
       " \"If you believe passing this amendment is the right thing to do, then you have to be straight with the American people. They have a right to know what you're going to cut, what taxes you're going to raise, how it's going to affect them.\",\n",
       " 'And we should be doing things in the open around here. For example, everybody ought to know if this proposal is going to endanger Social Security. I would oppose that, and I think most Americans would.',\n",
       " 'Nothing is done more to undermine our sense of common responsibility than our failed welfare system. This is one of the problems we have to face here in Washington in our New Covenant. It rewards welfare over work, it undermines family values, it lets millions of parents get away without paying their child support, it keeps a minority -- but a significant minority -- of the people on welfare trapped on it for a very long time.',\n",
       " 'I worked on this problem for a long time -- nearly 15 years now. As a Governor I had the honor of working with the Reagan Administration to write the last welfare reform bill back in 1988.',\n",
       " 'In the last two years we made a good start in continuing the work of welfare reform. Our Administration gave two dozen states the right to slash through Federal rules and regulations to reform their own welfare systems and to try to promote work and responsibility over welfare and dependency.  Revamping Welfare System',\n",
       " 'Last year, I introduced the most sweeping welfare reform plan ever presented by an Administration. We have to make welfare what it was meant to be -- a second chance, not a way of life.',\n",
       " \"We have to help those on welfare move to work as quickly as possible, to provide child care and teach them skills, if that's what they need, for up to two years. But after that, there ought to be a simple, hard rule. Anyone who can work must go to work.\",\n",
       " \"If a parent isn't paying child support, they should be forced to pay.\",\n",
       " \"We should suspend driver's licenses, track them across state lines, make them work off what they owe. That is what we should do. Governments do not raise children, people do. And the parents must take responsibility for the children they bring into this world.\",\n",
       " 'I want to work with you, with all of you, to pass welfare reform. But our goal must be to liberate people and lift them from dependence to independence, from welfare to work, from mere childbearing to responsible parenting. Our goal should not be to punish them because they happen to be poor.',\n",
       " \"We should -- we should require work and mutual responsibility. But we shouldn't cut people off just because they're poor, they're young or even because they're unmarried. We should promote responsibility by requiring young mothers to live at home with their parents or in other supervised settings, by requiring them to finish school. But we shouldn't put them and their children out on the street.\",\n",
       " \"And I know all the arguments pro and con and I have read and thought about this for a long time: I still don't think we can, in good conscience, punish poor children for the mistakes of their parents.\",\n",
       " 'My fellow Americans, every single survey shows that all the American people care about this, without regard to party or race or region. So let this be the year we end welfare as we know it.',\n",
       " 'But also let this be the year that we are all able to stop using this issue to divide America.',\n",
       " 'No one is more eager to end welfare.',\n",
       " \"I may be the only President who's actually had the opportunity to sit in the welfare office, who's actually spent hours and hours talking to people on welfare, and I am telling you the people who are trapped on it know it doesn't work. They also want to get off.\",\n",
       " \"So we can promote, together, education and work and good parenting. I have no problem with punishing bad behavior or the refusal to be a worker or a student or a responsible parent. I just don't want to punish poverty and past mistakes. All of us have made our mistakes and none of us can change our yesterdays, but every one of us can change our tomorrows.\",\n",
       " \"And America's best example of that may be Lynn Woolsey, who worked her way off welfare to become a Congresswoman from the state of California.  Cutting Back Crime\",\n",
       " \"I know the members of this Congress are concerned about crime, as are all the citizens of our country. But I remind you that last year we passed a very tough crime bill -- longer sentences, three strikes and you're out, almost 60 new capital punishment offenses, more prisons, more prevention, 100,000 more police -- and we paid for it all by reducing the size of the Federal bureaucracy and giving the money back to local communities to lower the crime rate.\",\n",
       " 'There may be other things we can do to be tougher on crime, to be smarter with crime, to help to lower that rate first.',\n",
       " \"Well if there are, let's talk about them and let's do them. But let's not go back on the things that we did last year that we know work -- that we know work because the local law-enforcement officers tell us that we did the right thing. Because local community leaders, who've worked for years and years to lower the crime rate, tell us that they work.\",\n",
       " \"Let's look at the experience of our cities and our rural areas where the crime rate has gone down and ask the people who did it how they did it and if what we did last year supports the decline in the crime rate, and I am convinced that it does, let us not go back on it, let's stick with it, implement it -- we've got four more hard years of work to do to do that. Crime and Assault Weapons\",\n",
       " \"I don't want to destroy the good atmosphere in the room or in the country tonight, but I have to mention one issue that divided this body greatly last year. The last Congress also passed the Brady bill and in the crime bill the ban on 19 assault weapons.\",\n",
       " \"I don't think it's a secret to anybody in this room that several members of the last Congress who voted for that aren't here tonight because they voted for it. And I know, therefore, that some of you that are here because they voted for it are under enormous pressure to repeal it. I just have to tell you how I feel about it.\",\n",
       " \"The members who voted for that bill and I would never do anything to infringe on the right to keep and bear arms to hunt and to engage in other appropriate sporting activities. I've done it since I was a boy, and I'm going to keep right on doing it until I can't do it anymore.\",\n",
       " \"But a lot of people laid down their seats in Congress so that police officers and kids wouldn't have to lay down their lives under a hail of assault-weapon attacks, and I will not let that be repealed. I will not let it be repealed.\",\n",
       " \"I'd like to talk about a couple of other issues we have to deal with. I want us to cut more spending, but I hope we won't cut Government programs that help to prepare us for the new economy, promote responsibility and are organized from the grass roots up, not by Federal bureaucracy.\",\n",
       " 'The very best example of this is the National Service Corps -- Americorps. It passed with strong bipartisan support and now there are 20,000 Americans -- more than ever served in one year in the Peace Corps -- working all over this country, helping person to person in local grass-roots volunteer groups, solving problems and in the process earning some money for their education.',\n",
       " \"This is citizenship at its best. It's good for the Americorps members, but it's good for the rest of us, too. It's the essence of the New Covenant and we shouldn't stop it. Illegal Aliens\",\n",
       " 'All Americans, not only in the states most heavily affected, but in every place in this country are rightly disturbed by the large numbers of illegal aliens entering our country.',\n",
       " \"The jobs they hold might otherwise be held by citizens or legal immigrants. The public services they use impose burdens on our taxpayers. That's why our Administration has moved aggressively to secure our borders more, by hiring a record number of new border guards, by deporting twice as many criminal aliens as ever before, by cracking down on illegal hiring, by barring welfare benefits to illegal aliens.\",\n",
       " 'In the budget I will present to you, we will try to do more to speed the deportation of illegal aliens who are arrested for crimes, to better identify illegal aliens in the workplace as recommended by the commission headed by former Congresswoman Barbara Jordan.',\n",
       " 'We are a nation of immigrants, but we are also a nation of laws. It is wrong and ultimately self-defeating for a nation of immigrants to permit the kind of abuse of our immigration laws we have seen in recent years, and we must do more to stop it.',\n",
       " \"The most important job of our Government in this new era is to empower the American people to succeed in the global economy. America has always been a land of opportunity, a land where, if you work hard, you can get ahead. We've become a great middle-class country; middle-class values sustain us. We must expand that middle class and shrink the underclass even as we do everything we can to support the millions of Americans who are already successful in the new economy.\",\n",
       " \"America is once again the world's strongest economic power: almost six million new jobs in the last two years, exports booming, inflation down, high-wage jobs are coming back. A record number of American entrepreneurs are living the American dream.\",\n",
       " 'If we want it to stay that way, those who work and lift our nation must have more of its benefits.',\n",
       " \"Today, too many of those people are being left out. They're working harder for less. They have less security, less income, less certainty that they can even afford a vacation, much less college for their kids or retirement for themselves.\",\n",
       " \"We cannot let this continue. If we don't act, our economy will probably keep doing what it's been doing since about 1978, when the income growth began to go to those at the very top of our economic scale. And the people in the vast middle got very little growth and people who worked like crazy but were on the bottom then, fell even further and further behind in the years afterward, no matter how hard they worked.  Government as a Partner\",\n",
       " \"We've got to have a Government that can be a real partner in making this new economy work for all of our people, a Government that helps each and every one of us to get an education and to have the opportunity to renew our skills.\",\n",
       " \"That's why we worked so hard to increase educational opportunities in the last two years from Head Start to public schools to apprenticeships for young people who don't go to college, to making college loans more available and more affordable.\",\n",
       " \"That's the first thing we have to do: We've got to do something to empower people to improve their skills.\",\n",
       " 'Second thing we ought to do is to help people raise their incomes immediately by lowering their taxes.',\n",
       " 'We took the first step in 1993 with a working family tax cut for 15 million families with incomes under $27,000, a tax cut that this year will average about $1,000 a family.',\n",
       " \"And we also gave tax reductions to most small and new businesses. Before we could do more than that, we first had to bring down the deficit we inherited and we had to get economic growth up. Now we've done both, and now we can cut taxes in a more comprehensive way.\",\n",
       " 'But tax cuts should reinforce and promote our first obligation: to empower our citizens through education and training to make the most of their own lives. The spotlight should shine on those who make the right choices for themselves, their families and their communities.',\n",
       " 'I have proposed a middle-class bill of rights, which should properly be called the bill of rights and responsibilities, because its provisions only benefit those who are working to educate and raise their children and to educate themselves. It will, therefore, give needed tax relief and raise incomes, in both the short run and the long run, in a way that benefits all of us.',\n",
       " 'There are four provisions:',\n",
       " 'First, a tax deduction for all education and training after high school. If you think about it, we permit businesses to deduct their investment, we permit individuals to deduct interest on their home mortgages, but today an education is even more important to the economic wellbeing of our whole country than even those things are. We should do everything we can to encourage it, and I hope you will support it.',\n",
       " 'Second, we ought to cut taxes $500 for families with children under 13.',\n",
       " 'Third, we ought to foster more savings and personal responsibility by permitting people to establish an individual retirement account and withdraw from it tax free for the cost of education, health care, first-time home buying or the care of a parent.',\n",
       " \"And fourth, we should pass a G.I. bill for America's workers. We propose to collapse nearly 70 Federal programs and not give the money to the states but give the money directly to the American people, offer vouchers to them so that they -- if they're laid off or if they're working for a very low wage -- can get a voucher worth $2,600 a year for up to two years to go to their local community colleges or wherever else they want to get the skills they need to improve their lives. Let's empower people in this way. Move it from the Government directly to the workers of America. Cutting the Deficit\",\n",
       " \"Now, any one of us can call for a tax cut, but I won't accept one that explodes the deficit or puts our recovery at risk. We ought to pay for our tax cuts fully and honestly. Just two years ago it was an open question whether we would find the strength to cut the deficit.\",\n",
       " \"Thanks to the courage of the people who were here then, many of whom didn't return, we did cut the deficit. We began to do what others said would not be done: We cut the deficit by over $600 billion, about $10,000 for every family in this country. It's coming down three years in a row for the first time since Mr. Truman was President and I don't think anybody in America wants us to let it explode again.\",\n",
       " \"In the budget I will send you, the middle-class bill of rights is fully paid for by budget cuts in bureaucracy, cuts in programs, cuts in special interest subsidies. And the spending cuts will more than double the tax cuts. My budget pays for the middle-class bill of rights without any cuts in Medicare, and I will oppose any attempts to pay for tax cuts with Medicare cuts. That's not the right thing to do.\",\n",
       " 'I know that a lot of you have your own ideas about tax relief. And some of them, I find quite interesting. I really want to work with all of you.',\n",
       " 'My tests for our proposals will be: Will it create jobs and raise incomes? Will it strengthen our families and support our children? Is it paid for? Will it build the middle class and shrink the underclass?',\n",
       " \"If it does, I'll support it. But if it doesn't, I won't.\",\n",
       " 'The goal of building the middle class and shrinking the underclass is also why I believe that you should raise the minimum wage.',\n",
       " \"It rewards work -- two and a half million Americans, often women with children, are working out there today for four-and-a-quarter an hour. In terms of real buying power, by next year, that minimum wage will be at a 40-year low. That's not my idea of how the new economy ought to work.\",\n",
       " \"Now I studied the arguments and the evidence for and against a minimum-wage increase. I believe the weight of the evidence is that a modest increase does not cost jobs and may even lure people back into the job market. But the most important thing is you can't make a living on $4.25 an hour. Now -- especially if you have children, even with the working families tax cut we passed last year.\",\n",
       " 'In the past, the minimum wage has been a bipartisan issue and I think it should be again. So I want to challenge you to have honest hearings on this, to get together to find a way to make the minimum wage a living wage.',\n",
       " 'Members of Congress have been here less than a month but by the end of the week -- 28 days into the new year -- every member of Congress will have earned as much in congressional salary as a minimum-wage worker makes all year long. Health Care',\n",
       " \"Everybody else here, including the President, has something else that too many Americans do without and that's health care.\",\n",
       " \"Now, last year we almost came to blows over health care, but we didn't do anything. And the cold, hard fact is that since last year -- since I was here -- another 1.1 million Americans in working families have lost their health care. And the cold, hard fact is that many millions more -- most of them farmers and small business people and self-employed people -- have seen their premiums skyrocket, their co-pays and deductibles go up.\",\n",
       " \"There's a whole bunch of people in this country that in the statistics have health insurance but really what they've got is a piece of paper that says they won't lose their home if they get sick.\",\n",
       " 'Now I still believe our country has got to move toward providing health security for every American family, but -- but I know that last year, as the evidence indicates, we bit off more than we could chew.',\n",
       " \"So I'm asking you that we work together. Let's do it step by step. Let's do whatever we have to do to get something done. Let's at least pass meaningful insurance reform so that no American risks losing coverage for facing skyrocketing prices but that nobody loses their coverage because they face high prices or unavailable insurance when they change jobs or lose a job or a family member gets sick.\",\n",
       " 'I want to work together with all of you who have an interest in this: with the Democrats who worked on it last time, with the Republican leaders like Senator Dole who has a longtime commitment to health care reform and made some constructive proposals in this area last year. We ought to make sure that self-employed people in small businesses can buy insurance at more affordable rates through voluntary purchasing pools. We ought to help families provide long-term care for a sick parent to a disabled child. We can work to help workers who lose their jobs at least keep their health insurance coverage for a year while they look for work, and we can find a way -- it may take some time, but we can find a way -- to make sure that our children have health care.',\n",
       " \"You know, I think everybody in this room, without regard to party, can be proud of the fact that our country was rated as having the world's most productive economy for the first time in nearly a decade, but we can't be proud of the fact that we're the only wealthy country in the world that has a smaller percentage of the work force and their children with health insurance today than we did 10 years ago -- the last time we were the most productive economy in the world.\",\n",
       " \"So let's work together on this. It is too important for politics as usual. Security and Leadership\",\n",
       " \"Much of what the American people are thinking about tonight is what we've already talked about. A lot of people think that the security concerns of America today are entirely internal to our borders, they relate to the security of our jobs and our homes and our incomes and our children, our streets, our health and protecting those borders.\",\n",
       " \"Now that the cold war has passed, it's tempting to believe that all the security issues, with the possible exception of trade, reside here at home. But it's not so. Our security still depends on our continued world leadership for peace and freedom and democracy. We still can't be strong at home unless we're strong abroad.\",\n",
       " \"The financial crisis in Mexico is a case in point. I know it's not popular to say it tonight but we have to act, not for the Mexican people but for the sake of the millions of Americans whose livelihoods are tied to Mexico's well-being. If we want to secure American jobs, preserve American exports, safeguard America's borders then we must pass the stabilization program and help to put Mexico back on track.\",\n",
       " \"Now let me repeat: it's not a loan, it's not foreign aid, it's not a bail-out. We'll be given a guarantee like co-signing a note with good collateral that will cover our risk.\",\n",
       " \"This legislation is the right thing for America. That's why the bipartisan leadership has supported it. And I hope you in Congress will pass it quickly. It is in our interest and we can explain it to the American people, because we're going to do it in the right way.  After the Cold War\",\n",
       " 'You know, tonight this is the first State of the Union address ever delivered since the beginning of the cold war when not a single Russian missile is pointed at the children of America.',\n",
       " \"And along with the Russians, we're on our way to destroying the missiles and the bombers that carry 9,000 nuclear warheads. We've come so far so fast in this post-cold-war world that it's easy to take the decline of the nuclear threat for granted. But it's still there, and we aren't finished yet.\",\n",
       " \"This year, I'll ask the Senate to approve START II to eliminate weapons that carry 5,000 more warheads. The United States will lead the charge to extend indefinitely the Nuclear Nonproliferation Treaty, to enact a comprehensive nuclear test ban, and to eliminate chemical weapons.\",\n",
       " \"To stop and roll back North Korea's potentially deadly nuclear program, we'll continue to implement the agreement we have reached with that nation. It's smart, it's tough, it's a deal based on continuing inspection with safeguards for our allies and ourselves.\",\n",
       " \"This year, I'll submit to Congress comprehensive legislation to strengthen our hand in combating terrorists, whether they strike at home or abroad. As the cowards who bombed the World Trade Center found out, this country will hunt down terrorists and bring them to justice.\",\n",
       " 'Just this week, another horrendous terrorist act in Israel killed 19 and injured scores more. On behalf of the American people and all of you, I send our deepest sympathy to the families of the victims. I know that in the face of such evil, it is hard for the people in the Middle East to go forward. But the terrorists represent the past, not the future. We must and we will pursue a comprehensive peace between Israel and all her neighbors in the Middle East.',\n",
       " 'Accordingly, last night I signed an executive order that will block the assets in the United States of terrorist organizations that threaten to disrupt the peace process. It prohibits financial transactions with these groups.',\n",
       " 'And tonight I call on all our allies in peace-loving nations throughout the world to join us with renewed fervor in a global effort to combat terrorism, we cannot permit the future to be marred by terror and fear and paralysis. Well-Equipped Military',\n",
       " \"From the day I took the oath of office, I pledged that our nation would maintain the best-equipped, best-trained and best-prepared military on earth. We have and they are. They have managed the dramatic downsizing of our forces after the cold war with remarkable skill and spirit. But to make sure our military is ready for action and to provide the pay and the quality of life the military and their families deserve, I'm asking the Congress to add $25 billion in defense spending over the next six years.\",\n",
       " 'I have visited many bases at home and around the world since I became President. Tonight I repeat that request with renewed conviction. We ask a very great deal of our armed forces. Now that they are smaller in number, we ask more of them. They go out more often to more different places and stay longer. They are called to service in many, many ways, and we must give them and their families what the times demand and what they have earned.',\n",
       " 'Just think about what our troops have done in the last year, showing America at its best, helping to save hundreds of thousands of people in Rwanda, moving with lightning speed to head off another threat to Kuwait, giving freedom and democracy back to the people of Haiti.',\n",
       " 'We have proudly supported peace and prosperity and freedom from South Africa to Northern Ireland, from Central and Eastern Europe to Asia, from Latin America to the Middle East. All these endeavors are good in those places but they make our future more confident and more secure.',\n",
       " \"Well, my fellow Americans, that's my agenda for America's future: expanding opportunity not bureaucracy, enhancing security at home and abroad, empowering our people to make the most of their own lives.\",\n",
       " \"It's ambitious and achievable. But it's not enough.\",\n",
       " \"We even need more than new ideas for changing the world or equipping Americans to compete in the new economy, more than a Government that's smaller, smarter and wiser, more than all the changes we can make in Government and in the private sector from the outside in.  Values and Voices\",\n",
       " 'Our fortunes and our prosperity also depend upon our ability to answer some questions from within -- from the values and voices that speak to our hearts as well as our heads, voices that tell us we have to do more to accept responsibility for ourselves and our families, for our communities, and yes, for our fellow citizens.',\n",
       " \"We see our families and our communities all over this country coming apart. And we feel the common ground shifting from under us. The P.T.A., the town hall meeting, the ball park -- it's hard for a lot of overworked parents to find the time and space for those things that strengthen the bonds of trust and cooperation.\",\n",
       " \"Too many of our children don't even have parents and grandparents who can give them those experiences that they need to build their own character and their sense of identity. We all know that while we here in this chamber can make a difference on those things, that the real differences will be made by our fellow citizens where they work and where they live.\",\n",
       " \"And it'll be made almost without regard to party. When I used to go to the softball park in Little Rock to watch my daughter's league and people would come up to me -- fathers and mothers -- and talk to me, I can honestly say I had no idea whether 90 percent of them were Republicans or Democrats.  Not a Person to Waste\",\n",
       " 'When I visited the relief centers after the floods in California, Northern California, last week, a woman came up to me and did something that very few of you would do. She hugged me and said, \"Mr. President, I\\'m a Republican, but I\\'m glad you\\'re here.\"',\n",
       " \"Now, why? We can't wait for disasters to act the way we used to act every day. Because as we move into this next century, everybody matters. We don't have a person to waste. And a lot of people are losing a lot of chances to do better.\",\n",
       " \"That means that we need a New Covenant for everybody -- for our corporate and business leaders, we're going to work here to keep bringing the deficit down, to expand markets, to support their success in every possible way. But they have an obligation: when they're doing well, to keep jobs in our communities and give their workers a fair share of the prosperity they generate.\",\n",
       " 'For people in the entertainment industry in this country, we applaud your creativity and your worldwide success and we support your freedom of expression but you do have a responsibility to assess the impact of your work and to understand the damage that comes from the incessant, repetitive, mindless violence and irresponsible conduct that permeates our media all the time.',\n",
       " \"We've got to ask our community leaders and all kinds of organizations to help us stop our most serious social problem: the epidemic of teen pregnancies and births where there is no marriage. I have sent to Congress a plan to target schools all over this country with anti-pregnancy programs that work. But government can only do so much. Tonight, I call on parents and leaders all across this country to join together in a national campaign against teen pregnancy to make a difference. We can do this and we must.\",\n",
       " \"And I would like to say a special word to our religious leaders. You know, I'm proud of the fact that the United States has more house of worship per capita than any country in the world. These people, who lead our houses of worship, can ignite their congregations to carry their faith into action, can reach out to all of our children, to all of the people in distress, to those who have been savaged by the breakdown of all we hold dear, because so much of what must be done must come from the inside out. And our religious leaders and their congregations can make all the difference. They have a role in the New Covenant as well.\",\n",
       " 'There must be more responsibility for all of our citizens. You know it takes a lot of people to help all the kids in trouble stay off the streets and in school. It takes a lot of people to build the Habitat for Humanity houses that the Speaker celebrates on his lapel pin. It takes a lot of people to provide the people power for all the civic organizations in this country that made our communities mean so much to most of us when we were kids. It takes every parent to teach the children the difference between right and wrong and to encourage them to learn and grow and to say no to the wrong things but also to believe that they can be whatever they want to be.',\n",
       " \"I know it's hard when you're working harder for less, when you're under great stress, to do these things. A lot of our people don't have the time or the emotional stress they think to do the work of citizenship. Most of us in politics haven't helped very much. For years, we've mostly treated citizens like they were consumers or spectators, sort of political couch potatoes who were supposed to watch the TV ads -- either promise them something for nothing or play on their fears and frustrations. And more and more of our citizens now get most of their information in very negative and aggressive ways that is hardly conducive to honest and open conversations. But the truth is we have got to stop seeing each other as enemies just because we have different views.\",\n",
       " 'If you go back to the beginning of this country, the great strength of America, as de Tocqueville pointed out when he came here a long time ago, has always been our ability to associate with people who were different from ourselves and to work together to find common ground. And in this day everybody has a responsibility to do more of that. We simply cannot wait for a tornado, a fire or a flood to behave like Americans ought to behave in dealing with one another. Making a Difference',\n",
       " \"I want to finish up here by pointing out some folks that are up with the First Lady that represent what I'm trying to talk about. Citizens. I have no idea what their party affiliation is or who they voted for in the last election, but they represent what we ought to be doing.\",\n",
       " \"Cindy Perry teaches second-graders to read in Americorps in rural Kentucky. She gains when she gives. She's a mother of four.\",\n",
       " \"She says that her service inspired her to get her high school equivalency last year. She was married when she was a teen-ager. Stand up, Cindy. She married when she was a teen-ager. She had four children, but she had time to serve other people, to get her high school equivalency and she's going to use her Americorps money to go back to college.\",\n",
       " \"Steven Bishop is the police chief of Kansas City. He's been a national leader -- stand up Steve. He's been a national leader in using more police in community policing and he's worked with Americorps to do it, and the crime rate in Kansas City has gone down as a result of what he did.\",\n",
       " \"Cpl. Gregory Depestre went to Haiti as part of his adopted country's force to help secure democracy in his native land. And I might add we must be the only country in the world that could have gone to Haiti and taken Haitian-Americans there who could speak the language and talk to the people, and he was one of them and we're proud of him.\",\n",
       " \"The next two folks I've had the honor of meeting and getting to know a little bit. The Rev. John and the Rev. Diana Cherry of the A.M.E. Zion Church in Temple Hills, Md. I'd like to ask them to stand. I want to tell you about them. In the early 80's they left Government service and formed a church in a small living room in a small house in the early 80's. Today that church has 17,000 members. It is one of the three or four biggest churches in the entire United States. It grows by 200 a month.\",\n",
       " 'They do it together. And the special focus of their ministry is keeping families together. They are -- Two things they did make a big impression on me. I visited their church once and I learned they were building a new sanctuary closer to the Washington, D.C., line, in a higher-crime, higher-drug-rate area because they thought it was part of their ministry to change the lives of the people who needed them. Second thing I want to say is that once Reverend Cherry was at a meeting at the White House with some other religious leaders and he left early to go back to his church to minister to 150 couples that he had brought back to his church from all over America to convince them to come back together to save their marriages and to raise their kids. This is the kind of work that citizens are doing in America. We need more of it and it ought to be lifted up and supported.',\n",
       " \"The last person I want to introduce is Jack Lucas from Hattiesburg, Mississippi. Jack, would you stand up. Fifty years ago in the sands of Iwo Jima, Jack Lucas taught and learned the lessons of citizenship. On February the 20th, 1945, he and three of his buddies encountered the enemy and two grenades at their feet. Jack Lucas threw himself on both of them. In that moment he saved the lives of his companions and miraculously in the next instant a medic saved his life. He gained a foothold for freedom and at the age of 17, just a year older than his grandson, who's up there with him today, and his son, who is a West Point graduate and a veteran, at 17, Jack Lucas became the youngest marine in history and the youngest soldier in this century to win the Congressional Medal of Honor. All these years later, yesterday, here's what he said about that day: Didn't matter where you were from or who you were. You relied on one another. You did it for your country. We all gain when we give and we reap what we sow. That's at the heart of this New Covenant. Responsibility, opportunity and citizenship.\",\n",
       " \"More than stale chapters in some remote civic book they're still the virtue by which we can fulfill ourselves and reach our God-given potential and be like them. And also to fulfill the eternal promise of this country, the enduring dream from that first and most-sacred covenant. I believe every person in this country still believes that we are created equal and given by our creator the right to life, liberty and the pursuit of happiness.\",\n",
       " 'This is a very, very great country and our best days are still to come.',\n",
       " 'Thank you and God bless you all.',\n",
       " 'STATE OF THE UNION']"
      ]
     },
     "execution_count": 143,
     "metadata": {},
     "output_type": "execute_result"
    }
   ],
   "source": [
    "# body text but also includes subhead, book title data, endbyline, section title -- all kinds of stuff\n",
    "article.paragraphs"
   ]
  },
  {
   "cell_type": "code",
   "execution_count": null,
   "metadata": {},
   "outputs": [],
   "source": []
  }
 ],
 "metadata": {
  "kernelspec": {
   "display_name": "Python 3",
   "language": "python",
   "name": "python3"
  },
  "language_info": {
   "codemirror_mode": {
    "name": "ipython",
    "version": 3
   },
   "file_extension": ".py",
   "mimetype": "text/x-python",
   "name": "python",
   "nbconvert_exporter": "python",
   "pygments_lexer": "ipython3",
   "version": "3.6.5"
  }
 },
 "nbformat": 4,
 "nbformat_minor": 2
}
